{
  "cells": [
    {
      "metadata": {
        "trusted": true,
        "_uuid": "3e4274549c87413736a8ee833f039f9b676ca0b3",
        "id": "POXR1W0a7QQH",
        "colab_type": "code",
        "colab": {}
      },
      "cell_type": "code",
      "source": "import numpy as np\nimport pandas as pd\nimport matplotlib.pyplot as plt\nfrom sklearn.preprocessing import LabelEncoder,MinMaxScaler, StandardScaler\nfrom sklearn.model_selection import train_test_split, ParameterGrid\nfrom sklearn.metrics import accuracy_score, confusion_matrix, mean_squared_error, log_loss\nimport operator\nimport json\nfrom IPython import display\nimport os\nimport warnings\n\nnp.random.seed(0)\nwarnings.filterwarnings(\"ignore\")\nTHRESHOLD = 4",
      "execution_count": 656,
      "outputs": []
    },
    {
      "metadata": {
        "_uuid": "3f984fc96470ec432c52ed75be5ff102af05185d",
        "id": "rPDwkYLi7QQT",
        "colab_type": "text"
      },
      "cell_type": "markdown",
      "source": "Task: To predict whether the user likes the mobile phone or not. <br>\nAssumption: If the average rating of mobile >= threshold, then the user likes it, otherwise not."
    },
    {
      "metadata": {
        "_uuid": "4d614d56180446c36cf55c150e67d297d8a8809b",
        "id": "IYnxXUkj7QQV",
        "colab_type": "text"
      },
      "cell_type": "markdown",
      "source": "<b>Missing values:</b><br>\n'Also Known As'(459),'Applications'(421),'Audio Features'(437),'Bezel-less display'(266),'Browser'(449),'Build Material'(338),'Co-Processor'(451),'Display Colour'(457),'Mobile High-Definition Link(MHL)'(472),'Music'(447)\n'Email','Fingerprint Sensor Position'(174),'Games'(446),'HDMI'(454),'Heart Rate Monitor'(467),'IRIS Scanner'(467),\n'Optical Image Stabilisation'(219),'Other Facilities'(444),'Phone Book'(444),'Physical Aperture'(87),'Quick Charging'(122),'Ring Tone'(444),'Ruggedness'(430),SAR Value(315),'SIM 3'(472),'SMS'(470)', 'Screen Protection'(229),'Screen to Body Ratio (claimed by the brand)'(428),'Sensor'(242),'Software Based Aperture'(473),\n'Special Features'(459),'Standby time'(334),'Stylus'(473),'TalkTime'(259), 'USB Type-C'(374),'Video Player'(456),\n'Video Recording Features'(458),'Waterproof'(398),'Wireless Charging','USB OTG Support'(159), 'Video ,'Recording'(113),'Java'(471),'Browser'(448)\n\n<b>Very low variance:</b><br>\n'Architecture'(most entries are 64-bit),'Audio Jack','GPS','Loudspeaker','Network','Network Support','Other Sensors'(28),'SIM Size', 'VoLTE'\n\n\n<b>Multivalued:</b><br>\n'Colours','Custom UI','Model'(1),'Other Sensors','Launch Date'\n\n<b>Not important:</b><br>\n'Bluetooth', 'Settings'(75),'Wi-Fi','Wi-Fi Features'\n\n<b>Doubtful:</b><br>\n'Aspect Ratio','Autofocus','Brand','Camera Features','Fingerprint Sensor'(very few entries are missing),\n'Fingerprint Sensor Position', 'Graphics'(multivalued),'Image resolution'(multivalued),'SIM Size','Sim Slot(s)', 'User Available Storage', 'SIM 1', 'SIM 2','Shooting Modes', 'Touch Screen'(24), 'USB Connectivity'\n    \n<b>To check:</b><br>\n'Display Type','Expandable Memory','FM Radio'\n\n<b>High Correlation with other features</b><br>\n'SIM Slot(s)' high correlation with SIM1\n'Weight' has high high correlation with capacity , screen-to-body ratio\n'Height' - screen size is also there\n    \n<b>Given a mobile, we can't directly get these features</b><br>\n'Rating Count', 'Review Count'\n\n<b>Keeping:</b><br>\n'Capacity','Flash'(17),'Height'(22),'Internal Memory'(20, require cleaning),'Operating System'(25, require cleaning), 'Pixel Density'(1, clean it),'Processor'(22, clean it), 'RAM'(17, clean), 'Rating','Resolution'(cleaning), 'Screen Resolution','Screen Size', 'Thickness'(22), 'Type','User Replaceable','Weight'(cleaning),'Sim Size'(), 'Other Sensors'(28), 'Screen to Body Ratio (calculated)','Width',\n"
    },
    {
      "metadata": {
        "trusted": true,
        "_uuid": "93da0ab3e05c1e6df3cd3b03e3bb4825c0e381f7",
        "id": "8sRH7Ca27QQX",
        "colab_type": "code",
        "colab": {
          "base_uri": "https://localhost:8080/",
          "height": 85
        },
        "outputId": "6fbe1458-fb10-495c-c097-8ea8237ccf5d"
      },
      "cell_type": "code",
      "source": "# read data from file\ntrain = pd.read_csv(\"../input/train.csv\") \ntest = pd.read_csv(\"../input/test.csv\")\n\n# check the number of features and data points in train\nprint(\"Number of data points in train: %d\" % train.shape[0])\nprint(\"Number of features in train: %d\" % train.shape[1])\n\n# check the number of features and data points in test\nprint(\"Number of data points in test: %d\" % test.shape[0])\nprint(\"Number of features in test: %d\" % test.shape[1])",
      "execution_count": 657,
      "outputs": [
        {
          "output_type": "stream",
          "text": "Number of data points in train: 355\nNumber of features in train: 99\nNumber of data points in test: 119\nNumber of features in test: 98\n",
          "name": "stdout"
        }
      ]
    },
    {
      "metadata": {
        "trusted": true,
        "_uuid": "57eae9d2e30208538603215bd2c59f54efe6412b",
        "id": "yYCaHDi17QQj",
        "colab_type": "code",
        "colab": {}
      },
      "cell_type": "code",
      "source": "def data_clean(data):\n    \n    # Let's first remove all missing value features\n    columns_to_remove = ['Also Known As','Applications','Audio Features','Bezel-less display'\n                         'Browser','Build Material','Co-Processor','Browser'\n                         'Display Colour','Mobile High-Definition Link(MHL)',\n                         'Music', 'Email','Fingerprint Sensor Position',\n                         'Games','HDMI','Heart Rate Monitor','IRIS Scanner', \n                         'Optical Image Stabilisation','Other Facilities',\n                         'Phone Book','Physical Aperture','Quick Charging',\n                         'Ring Tone','Ruggedness','SAR Value','SIM 3','SMS',\n                         'Screen Protection','Screen to Body Ratio (claimed by the brand)',\n                         'Sensor','Software Based Aperture', 'Special Features',\n                         'Standby time','Stylus','TalkTime', 'USB Type-C',\n                         'Video Player', 'Video Recording Features','Waterproof',\n                         'Wireless Charging','USB OTG Support', 'Video Recording','Java']\n\n    columns_to_retain = list(set(data.columns)-set(columns_to_remove))\n    data = data[columns_to_retain]\n\n    #Features having very low variance \n    columns_to_remove = ['Architecture','Audio Jack','GPS','Loudspeaker','Network','Network Support','VoLTE']\n    columns_to_retain = list(set(data.columns)-set(columns_to_remove))\n    data = data[columns_to_retain]\n\n    # Multivalued:\n    columns_to_remove = ['Architecture','Launch Date','Audio Jack','GPS','Loudspeaker','Network','Network Support','VoLTE', 'Custom UI']\n    columns_to_retain = list(set(data.columns)-set(columns_to_remove))\n    data = data[columns_to_retain]\n\n    # Not much important\n    columns_to_remove = ['Bluetooth', 'Settings','Wi-Fi','Wi-Fi Features']\n    columns_to_retain = list(set(data.columns)-set(columns_to_remove))\n    data = data[columns_to_retain]\n    \n    return data",
      "execution_count": 658,
      "outputs": []
    },
    {
      "metadata": {
        "_uuid": "6d71c47949bc675f5af75bbc2753c76e013a29da",
        "id": "X3wUGGg37QQp",
        "colab_type": "text"
      },
      "cell_type": "markdown",
      "source": "# Removing features"
    },
    {
      "metadata": {
        "trusted": true,
        "_uuid": "64ce492c8074fb3da3ce87e858f0447f7ebf1bec",
        "id": "qIsHK7nT7QQr",
        "colab_type": "code",
        "colab": {}
      },
      "cell_type": "code",
      "source": "train = data_clean(train)\ntest = data_clean(test)",
      "execution_count": 659,
      "outputs": []
    },
    {
      "metadata": {
        "_uuid": "606131d09446356af3f465f6774216050578d4fb",
        "id": "oMhUSSsY7QQx",
        "colab_type": "text"
      },
      "cell_type": "markdown",
      "source": "removing all those data points in which more than 15 features are missing "
    },
    {
      "metadata": {
        "trusted": true,
        "_uuid": "a9f0c8174662e4dbe442a333b9e1c1bca41bf659",
        "id": "qMSXmhJr7QQy",
        "colab_type": "code",
        "colab": {}
      },
      "cell_type": "code",
      "source": "train = train[(train.isnull().sum(axis=1) <= 15)]\n# You shouldn't remove data points from test set\n#test = test[(test.isnull().sum(axis=1) <= 15)]",
      "execution_count": 660,
      "outputs": []
    },
    {
      "metadata": {
        "trusted": true,
        "_uuid": "cb0762cf9562a7467545c8ecee86e9ab81520e2d",
        "id": "ejam-Vbf7QQ2",
        "colab_type": "code",
        "colab": {
          "base_uri": "https://localhost:8080/",
          "height": 85
        },
        "outputId": "92077cb8-b902-436d-f8ba-c814df19a7c8"
      },
      "cell_type": "code",
      "source": "# check the number of features and data points in train\nprint(\"Number of data points in train: %d\" % train.shape[0])\nprint(\"Number of features in train: %d\" % train.shape[1])\n\n# check the number of features and data points in test\nprint(\"Number of data points in test: %d\" % test.shape[0])\nprint(\"Number of features in test: %d\" % test.shape[1])",
      "execution_count": 661,
      "outputs": [
        {
          "output_type": "stream",
          "text": "Number of data points in train: 341\nNumber of features in train: 47\nNumber of data points in test: 119\nNumber of features in test: 46\n",
          "name": "stdout"
        }
      ]
    },
    {
      "metadata": {
        "_uuid": "8994d8c06a90d850df58ce9163df3e66b79e8787",
        "id": "BvSykvpE7QQ7",
        "colab_type": "text"
      },
      "cell_type": "markdown",
      "source": "# Filling Missing values"
    },
    {
      "metadata": {
        "trusted": true,
        "_uuid": "08b0d40588e795988deaed7c0418cb5861be8624",
        "id": "kxo5M6737QQ8",
        "colab_type": "code",
        "colab": {}
      },
      "cell_type": "code",
      "source": "def for_integer(test):\n    try:\n        test = test.strip()\n        return int(test.split(' ')[0])\n    except IOError:\n           pass\n    except ValueError:\n        pass\n    except:\n        pass\n\ndef for_string(test):\n    try:\n        test = test.strip()\n        return (test.split(' ')[0])\n    except IOError:\n        pass\n    except ValueError:\n        pass\n    except:\n        pass\n\ndef for_float(test):\n    try:\n        test = test.strip()\n        return float(test.split(' ')[0])\n    except IOError:\n        pass\n    except ValueError:\n        pass\n    except:\n        pass\ndef find_freq(test):\n    try:\n        test = test.strip()\n        test = test.split(' ')\n        if test[2][0] == '(':\n            return float(test[2][1:])\n        return float(test[2])\n    except IOError:\n        pass\n    except ValueError:\n        pass\n    except:\n        pass\n\n    \ndef for_Internal_Memory(test):\n    try:\n        test = test.strip()\n        test = test.split(' ')\n        if test[1] == 'GB':\n            return int(test[0])\n        if test[1] == 'MB':\n#             print(\"here\")\n            return (int(test[0]) * 0.001)\n    except IOError:\n           pass\n    except ValueError:\n        pass\n    except:\n        pass\n    \ndef find_freq(test):\n    try:\n        test = test.strip()\n        test = test.split(' ')\n        if test[2][0] == '(':\n            return float(test[2][1:])\n        return float(test[2])\n    except IOError:\n        pass\n    except ValueError:\n        pass\n    except:\n        pass\n",
      "execution_count": 662,
      "outputs": []
    },
    {
      "metadata": {
        "trusted": true,
        "_uuid": "4ea7a54fff28c50841fa594af44620d654e61b46",
        "id": "r99_GjQi7QRB",
        "colab_type": "code",
        "colab": {}
      },
      "cell_type": "code",
      "source": "def data_clean_2(x):\n    data = x.copy()\n    \n    data['Capacity'] = data['Capacity'].apply(for_integer)\n\n    data['Height'] = data['Height'].apply(for_float)\n    data['Height'] = data['Height'].fillna(data['Height'].mean())\n\n    data['Internal Memory'] = data['Internal Memory'].apply(for_Internal_Memory)\n\n    data['Pixel Density'] = data['Pixel Density'].apply(for_integer)\n\n    data['Internal Memory'] = data['Internal Memory'].fillna(data['Internal Memory'].median())\n    data['Internal Memory'] = data['Internal Memory'].astype(int)\n\n    data['RAM'] = data['RAM'].apply(for_integer)\n    data['RAM'] = data['RAM'].fillna(data['RAM'].median())\n    data['RAM'] = data['RAM'].astype(int)\n\n    data['Resolution'] = data['Resolution'].apply(for_integer)\n    data['Resolution'] = data['Resolution'].fillna(data['Resolution'].median())\n    data['Resolution'] = data['Resolution'].astype(int)\n\n    data['Screen Size'] = data['Screen Size'].apply(for_float)\n\n    data['Thickness'] = data['Thickness'].apply(for_float)\n    data['Thickness'] = data['Thickness'].fillna(data['Thickness'].mean())\n    data['Thickness'] = data['Thickness'].round(2)\n\n    data['Type'] = data['Type'].fillna('Li-Polymer')\n\n    data['Screen to Body Ratio (calculated)'] = data['Screen to Body Ratio (calculated)'].apply(for_float)\n    data['Screen to Body Ratio (calculated)'] = data['Screen to Body Ratio (calculated)'].fillna(data['Screen to Body Ratio (calculated)'].mean())\n    data['Screen to Body Ratio (calculated)'] = data['Screen to Body Ratio (calculated)'].round(2)\n\n    data['Width'] = data['Width'].apply(for_float)\n    data['Width'] = data['Width'].fillna(data['Width'].mean())\n    data['Width'] = data['Width'].round(2)\n\n    data['Flash'][data['Flash'].isna() == True] = \"Other\"\n\n    data['User Replaceable'][data['User Replaceable'].isna() == True] = \"Other\"\n\n    data['Num_cores'] = data['Processor'].apply(for_string)\n    data['Num_cores'][data['Num_cores'].isna() == True] = \"Other\"\n\n\n    data['Processor_frequency'] = data['Processor'].apply(find_freq)\n    #because there is one entry with 208MHz values, to convert it to GHz\n    data['Processor_frequency'][data['Processor_frequency'] > 200] = 0.208\n    data['Processor_frequency'] = data['Processor_frequency'].fillna(data['Processor_frequency'].mean())\n    data['Processor_frequency'] = data['Processor_frequency'].round(2)\n\n    data['Camera Features'][data['Camera Features'].isna() == True] = \"Other\"\n\n    #simplifyig Operating System to os_name for simplicity\n    data['os_name'] = data['Operating System'].apply(for_string)\n    data['os_name'][data['os_name'].isna() == True] = \"Other\"\n\n    data['Sim1'] = data['SIM 1'].apply(for_string)\n\n    data['SIM Size'][data['SIM Size'].isna() == True] = \"Other\"\n\n    data['Image Resolution'][data['Image Resolution'].isna() == True] = \"Other\"\n\n    data['Fingerprint Sensor'][data['Fingerprint Sensor'].isna() == True] = \"Other\"\n\n    data['Expandable Memory'][data['Expandable Memory'].isna() == True] = \"No\"\n\n    data['Weight'] = data['Weight'].apply(for_integer)\n    data['Weight'] = data['Weight'].fillna(data['Weight'].mean())\n    data['Weight'] = data['Weight'].astype(int)\n\n    data['SIM 2'] = data['SIM 2'].apply(for_string)\n    data['SIM 2'][data['SIM 2'].isna() == True] = \"Other\"\n    \n    return data",
      "execution_count": 663,
      "outputs": []
    },
    {
      "metadata": {
        "trusted": true,
        "_uuid": "0e1687ac5246364a4cdd12ffb6c375947277571a",
        "id": "rWa_nOxS7QRG",
        "colab_type": "code",
        "colab": {
          "base_uri": "https://localhost:8080/",
          "height": 85
        },
        "outputId": "f1d2aa95-49e9-4051-a1be-70340d9414e0"
      },
      "cell_type": "code",
      "source": "train = data_clean_2(train)\ntest = data_clean_2(test)\n\n# check the number of features and data points in train\nprint(\"Number of data points in train: %d\" % train.shape[0])\nprint(\"Number of features in train: %d\" % train.shape[1])\n\n# check the number of features and data points in test\nprint(\"Number of data points in test: %d\" % test.shape[0])\nprint(\"Number of features in test: %d\" % test.shape[1])",
      "execution_count": 664,
      "outputs": [
        {
          "output_type": "stream",
          "text": "Number of data points in train: 341\nNumber of features in train: 51\nNumber of data points in test: 119\nNumber of features in test: 50\n",
          "name": "stdout"
        }
      ]
    },
    {
      "metadata": {
        "_uuid": "7c28380163d3b87c4e0c67d893db574dd1d6672f",
        "id": "Wl2r6dsb7QRL",
        "colab_type": "text"
      },
      "cell_type": "markdown",
      "source": "Not very important feature"
    },
    {
      "metadata": {
        "trusted": true,
        "_uuid": "696c8c33594c35c465f688885eef37a3defdc0d7",
        "id": "EDNMSvro7QRN",
        "colab_type": "code",
        "colab": {}
      },
      "cell_type": "code",
      "source": "def data_clean_3(x):\n    \n    data = x.copy()\n\n    columns_to_remove = ['User Available Storage','SIM Size','Chipset','Processor','Autofocus','Aspect Ratio','Touch Screen',\n                        'Bezel-less display','Operating System','SIM 1','USB Connectivity','Other Sensors','Graphics','FM Radio',\n                        'NFC','Shooting Modes','Browser','Display Colour' ]\n\n    columns_to_retain = list(set(data.columns)-set(columns_to_remove))\n    data = data[columns_to_retain]\n\n\n    columns_to_remove = [ 'Screen Resolution','User Replaceable','Camera Features',\n                        'Thickness', 'Display Type']\n\n    columns_to_retain = list(set(data.columns)-set(columns_to_remove))\n    data = data[columns_to_retain]\n\n\n    columns_to_remove = ['Fingerprint Sensor', 'Flash', 'Rating Count', 'Review Count','Image Resolution','Type','Expandable Memory',\\\n                        'Colours','Width','Model']\n    columns_to_retain = list(set(data.columns)-set(columns_to_remove))\n    data = data[columns_to_retain]\n\n    return data",
      "execution_count": 665,
      "outputs": []
    },
    {
      "metadata": {
        "trusted": true,
        "_uuid": "ea65cd4ad7c5a29bfeb897c87ceac1e59132196c",
        "id": "yHP6e8Ty7QRR",
        "colab_type": "code",
        "colab": {
          "base_uri": "https://localhost:8080/",
          "height": 85
        },
        "outputId": "63191e9c-2344-483a-bbf5-0e27d5bd7b47"
      },
      "cell_type": "code",
      "source": "train = data_clean_3(train)\ntest = data_clean_3(test)\n\n# check the number of features and data points in train\nprint(\"Number of data points in train: %d\" % train.shape[0])\nprint(\"Number of features in train: %d\" % train.shape[1])\n\n# check the number of features and data points in test\nprint(\"Number of data points in test: %d\" % test.shape[0])\nprint(\"Number of features in test: %d\" % test.shape[1])",
      "execution_count": 666,
      "outputs": [
        {
          "output_type": "stream",
          "text": "Number of data points in train: 341\nNumber of features in train: 18\nNumber of data points in test: 119\nNumber of features in test: 17\n",
          "name": "stdout"
        }
      ]
    },
    {
      "metadata": {
        "trusted": true,
        "_uuid": "47debe4a90db22281132fbe2270a7b4a91bda30d",
        "id": "znlm60TF7QRY",
        "colab_type": "code",
        "colab": {
          "base_uri": "https://localhost:8080/",
          "height": 561
        },
        "outputId": "699c7aca-1208-4449-ca55-53aabc1d313e"
      },
      "cell_type": "code",
      "source": "# one hot encoding\n\ntrain_ids = train['PhoneId']\ntest_ids = test['PhoneId']\n\ncols = list(test.columns)\ncols.remove('PhoneId')\ncols.insert(0, 'PhoneId')\n\ncombined = pd.concat([train.drop('Rating', axis=1)[cols], test[cols]])\nprint(combined.shape)\nprint(combined.columns)\n\ncombined = pd.get_dummies(combined)\nprint(combined.shape)\nprint(combined.columns)\n\ntrain_new = combined[combined['PhoneId'].isin(train_ids)]\ntest_new = combined[combined['PhoneId'].isin(test_ids)]",
      "execution_count": 667,
      "outputs": [
        {
          "output_type": "stream",
          "text": "(460, 17)\nIndex(['PhoneId', 'Capacity', 'Processor_frequency', 'Sim1', 'Brand', 'Height',\n       'Weight', 'Num_cores', 'Screen to Body Ratio (calculated)',\n       'Pixel Density', 'Internal Memory', 'RAM', 'os_name', 'SIM Slot(s)',\n       'Screen Size', 'SIM 2', 'Resolution'],\n      dtype='object')\n(460, 87)\nIndex(['PhoneId', 'Capacity', 'Processor_frequency', 'Height', 'Weight',\n       'Screen to Body Ratio (calculated)', 'Pixel Density', 'Internal Memory',\n       'RAM', 'Screen Size', 'Resolution', 'Sim1_2G', 'Sim1_3G', 'Sim1_4G',\n       'Brand_10.or', 'Brand_Apple', 'Brand_Asus', 'Brand_Billion',\n       'Brand_Blackberry', 'Brand_Comio', 'Brand_Coolpad', 'Brand_Do',\n       'Brand_Gionee', 'Brand_Google', 'Brand_HTC', 'Brand_Honor',\n       'Brand_Huawei', 'Brand_InFocus', 'Brand_Infinix', 'Brand_Intex',\n       'Brand_Itel', 'Brand_Jivi', 'Brand_Karbonn', 'Brand_LG', 'Brand_Lava',\n       'Brand_LeEco', 'Brand_Lenovo', 'Brand_Lephone', 'Brand_Lyf',\n       'Brand_Meizu', 'Brand_Micromax', 'Brand_Mobiistar', 'Brand_Moto',\n       'Brand_Motorola', 'Brand_Nokia', 'Brand_Nubia', 'Brand_OPPO',\n       'Brand_OnePlus', 'Brand_Oppo', 'Brand_Panasonic', 'Brand_Razer',\n       'Brand_Realme', 'Brand_Reliance', 'Brand_Samsung', 'Brand_Sony',\n       'Brand_Spice', 'Brand_Tecno', 'Brand_Ulefone', 'Brand_VOTO',\n       'Brand_Vivo', 'Brand_Xiaomi', 'Brand_Xiaomi Poco', 'Brand_Yu',\n       'Brand_iVooMi', 'Num_cores_312', 'Num_cores_Deca', 'Num_cores_Dual',\n       'Num_cores_Hexa', 'Num_cores_Octa', 'Num_cores_Other', 'Num_cores_Quad',\n       'Num_cores_Tru-Octa', 'os_name_Android', 'os_name_Blackberry',\n       'os_name_KAI', 'os_name_Nokia', 'os_name_Other', 'os_name_Tizen',\n       'os_name_iOS', 'SIM Slot(s)_Dual SIM, GSM+CDMA',\n       'SIM Slot(s)_Dual SIM, GSM+GSM',\n       'SIM Slot(s)_Dual SIM, GSM+GSM, Dual VoLTE',\n       'SIM Slot(s)_Single SIM, GSM', 'SIM 2_2G', 'SIM 2_3G', 'SIM 2_4G',\n       'SIM 2_Other'],\n      dtype='object')\n",
          "name": "stdout"
        }
      ]
    },
    {
      "metadata": {
        "trusted": true,
        "_uuid": "fde9d5ca5ff4062f5cca257ca941a3cd6348c3da",
        "id": "P5xXVfU07QRd",
        "colab_type": "code",
        "colab": {}
      },
      "cell_type": "code",
      "source": "train_new = train_new.merge(train[['PhoneId', 'Rating']], on='PhoneId')",
      "execution_count": 668,
      "outputs": []
    },
    {
      "metadata": {
        "trusted": true,
        "_uuid": "e984966054af025afdb2dad22896551b7baa131c",
        "id": "DxsOMH8z7QRi",
        "colab_type": "code",
        "colab": {
          "base_uri": "https://localhost:8080/",
          "height": 85
        },
        "outputId": "b02df6fd-d04c-4ad8-e245-15cc5d64fb3e"
      },
      "cell_type": "code",
      "source": "# check the number of features and data points in train\nprint(\"Number of data points in train: %d\" % train_new.shape[0])\nprint(\"Number of features in train: %d\" % train_new.shape[1])\n\n# check the number of features and data points in test\nprint(\"Number of data points in test: %d\" % test_new.shape[0])\nprint(\"Number of features in test: %d\" % test_new.shape[1])",
      "execution_count": 669,
      "outputs": [
        {
          "output_type": "stream",
          "text": "Number of data points in train: 341\nNumber of features in train: 88\nNumber of data points in test: 119\nNumber of features in test: 87\n",
          "name": "stdout"
        }
      ]
    },
    {
      "metadata": {
        "trusted": true,
        "_uuid": "1e1a5c9435b05018918fbedec58939588336712a",
        "id": "1uAKxTdb7QRq",
        "colab_type": "code",
        "colab": {
          "base_uri": "https://localhost:8080/",
          "height": 287
        },
        "outputId": "39eac06f-8620-4438-88f4-bb9fbcde0b4f"
      },
      "cell_type": "code",
      "source": "train_new.head()",
      "execution_count": 670,
      "outputs": [
        {
          "output_type": "execute_result",
          "execution_count": 670,
          "data": {
            "text/plain": "   PhoneId  Capacity  Processor_frequency   ...    SIM 2_4G  SIM 2_Other  Rating\n0        0      4000                  1.8   ...           1            0     4.5\n1        1      4230                  1.8   ...           1            0     4.5\n2        2      3500                  2.1   ...           1            0     4.4\n3        4      3300                  2.2   ...           1            0     4.3\n4        5      3750                  2.2   ...           1            0     4.4\n\n[5 rows x 88 columns]",
            "text/html": "<div>\n<style scoped>\n    .dataframe tbody tr th:only-of-type {\n        vertical-align: middle;\n    }\n\n    .dataframe tbody tr th {\n        vertical-align: top;\n    }\n\n    .dataframe thead th {\n        text-align: right;\n    }\n</style>\n<table border=\"1\" class=\"dataframe\">\n  <thead>\n    <tr style=\"text-align: right;\">\n      <th></th>\n      <th>PhoneId</th>\n      <th>Capacity</th>\n      <th>Processor_frequency</th>\n      <th>Height</th>\n      <th>Weight</th>\n      <th>Screen to Body Ratio (calculated)</th>\n      <th>Pixel Density</th>\n      <th>Internal Memory</th>\n      <th>RAM</th>\n      <th>Screen Size</th>\n      <th>Resolution</th>\n      <th>Sim1_2G</th>\n      <th>Sim1_3G</th>\n      <th>Sim1_4G</th>\n      <th>Brand_10.or</th>\n      <th>Brand_Apple</th>\n      <th>Brand_Asus</th>\n      <th>Brand_Billion</th>\n      <th>Brand_Blackberry</th>\n      <th>Brand_Comio</th>\n      <th>Brand_Coolpad</th>\n      <th>Brand_Do</th>\n      <th>Brand_Gionee</th>\n      <th>Brand_Google</th>\n      <th>Brand_HTC</th>\n      <th>Brand_Honor</th>\n      <th>Brand_Huawei</th>\n      <th>Brand_InFocus</th>\n      <th>Brand_Infinix</th>\n      <th>Brand_Intex</th>\n      <th>Brand_Itel</th>\n      <th>Brand_Jivi</th>\n      <th>Brand_Karbonn</th>\n      <th>Brand_LG</th>\n      <th>Brand_Lava</th>\n      <th>Brand_LeEco</th>\n      <th>Brand_Lenovo</th>\n      <th>Brand_Lephone</th>\n      <th>Brand_Lyf</th>\n      <th>Brand_Meizu</th>\n      <th>...</th>\n      <th>Brand_Oppo</th>\n      <th>Brand_Panasonic</th>\n      <th>Brand_Razer</th>\n      <th>Brand_Realme</th>\n      <th>Brand_Reliance</th>\n      <th>Brand_Samsung</th>\n      <th>Brand_Sony</th>\n      <th>Brand_Spice</th>\n      <th>Brand_Tecno</th>\n      <th>Brand_Ulefone</th>\n      <th>Brand_VOTO</th>\n      <th>Brand_Vivo</th>\n      <th>Brand_Xiaomi</th>\n      <th>Brand_Xiaomi Poco</th>\n      <th>Brand_Yu</th>\n      <th>Brand_iVooMi</th>\n      <th>Num_cores_312</th>\n      <th>Num_cores_Deca</th>\n      <th>Num_cores_Dual</th>\n      <th>Num_cores_Hexa</th>\n      <th>Num_cores_Octa</th>\n      <th>Num_cores_Other</th>\n      <th>Num_cores_Quad</th>\n      <th>Num_cores_Tru-Octa</th>\n      <th>os_name_Android</th>\n      <th>os_name_Blackberry</th>\n      <th>os_name_KAI</th>\n      <th>os_name_Nokia</th>\n      <th>os_name_Other</th>\n      <th>os_name_Tizen</th>\n      <th>os_name_iOS</th>\n      <th>SIM Slot(s)_Dual SIM, GSM+CDMA</th>\n      <th>SIM Slot(s)_Dual SIM, GSM+GSM</th>\n      <th>SIM Slot(s)_Dual SIM, GSM+GSM, Dual VoLTE</th>\n      <th>SIM Slot(s)_Single SIM, GSM</th>\n      <th>SIM 2_2G</th>\n      <th>SIM 2_3G</th>\n      <th>SIM 2_4G</th>\n      <th>SIM 2_Other</th>\n      <th>Rating</th>\n    </tr>\n  </thead>\n  <tbody>\n    <tr>\n      <th>0</th>\n      <td>0</td>\n      <td>4000</td>\n      <td>1.8</td>\n      <td>157.9</td>\n      <td>182</td>\n      <td>80.68</td>\n      <td>403</td>\n      <td>64</td>\n      <td>4</td>\n      <td>6.26</td>\n      <td>20</td>\n      <td>0</td>\n      <td>0</td>\n      <td>1</td>\n      <td>0</td>\n      <td>0</td>\n      <td>0</td>\n      <td>0</td>\n      <td>0</td>\n      <td>0</td>\n      <td>0</td>\n      <td>0</td>\n      <td>0</td>\n      <td>0</td>\n      <td>0</td>\n      <td>0</td>\n      <td>0</td>\n      <td>0</td>\n      <td>0</td>\n      <td>0</td>\n      <td>0</td>\n      <td>0</td>\n      <td>0</td>\n      <td>0</td>\n      <td>0</td>\n      <td>0</td>\n      <td>0</td>\n      <td>0</td>\n      <td>0</td>\n      <td>0</td>\n      <td>...</td>\n      <td>0</td>\n      <td>0</td>\n      <td>0</td>\n      <td>0</td>\n      <td>0</td>\n      <td>0</td>\n      <td>0</td>\n      <td>0</td>\n      <td>0</td>\n      <td>0</td>\n      <td>0</td>\n      <td>0</td>\n      <td>1</td>\n      <td>0</td>\n      <td>0</td>\n      <td>0</td>\n      <td>0</td>\n      <td>0</td>\n      <td>0</td>\n      <td>0</td>\n      <td>1</td>\n      <td>0</td>\n      <td>0</td>\n      <td>0</td>\n      <td>1</td>\n      <td>0</td>\n      <td>0</td>\n      <td>0</td>\n      <td>0</td>\n      <td>0</td>\n      <td>0</td>\n      <td>0</td>\n      <td>0</td>\n      <td>1</td>\n      <td>0</td>\n      <td>0</td>\n      <td>0</td>\n      <td>1</td>\n      <td>0</td>\n      <td>4.5</td>\n    </tr>\n    <tr>\n      <th>1</th>\n      <td>1</td>\n      <td>4230</td>\n      <td>1.8</td>\n      <td>156.2</td>\n      <td>168</td>\n      <td>80.85</td>\n      <td>271</td>\n      <td>32</td>\n      <td>3</td>\n      <td>6.20</td>\n      <td>8</td>\n      <td>0</td>\n      <td>0</td>\n      <td>1</td>\n      <td>0</td>\n      <td>0</td>\n      <td>0</td>\n      <td>0</td>\n      <td>0</td>\n      <td>0</td>\n      <td>0</td>\n      <td>0</td>\n      <td>0</td>\n      <td>0</td>\n      <td>0</td>\n      <td>0</td>\n      <td>0</td>\n      <td>0</td>\n      <td>0</td>\n      <td>0</td>\n      <td>0</td>\n      <td>0</td>\n      <td>0</td>\n      <td>0</td>\n      <td>0</td>\n      <td>0</td>\n      <td>0</td>\n      <td>0</td>\n      <td>0</td>\n      <td>0</td>\n      <td>...</td>\n      <td>0</td>\n      <td>0</td>\n      <td>0</td>\n      <td>1</td>\n      <td>0</td>\n      <td>0</td>\n      <td>0</td>\n      <td>0</td>\n      <td>0</td>\n      <td>0</td>\n      <td>0</td>\n      <td>0</td>\n      <td>0</td>\n      <td>0</td>\n      <td>0</td>\n      <td>0</td>\n      <td>0</td>\n      <td>0</td>\n      <td>0</td>\n      <td>0</td>\n      <td>1</td>\n      <td>0</td>\n      <td>0</td>\n      <td>0</td>\n      <td>1</td>\n      <td>0</td>\n      <td>0</td>\n      <td>0</td>\n      <td>0</td>\n      <td>0</td>\n      <td>0</td>\n      <td>0</td>\n      <td>0</td>\n      <td>1</td>\n      <td>0</td>\n      <td>0</td>\n      <td>0</td>\n      <td>1</td>\n      <td>0</td>\n      <td>4.5</td>\n    </tr>\n    <tr>\n      <th>2</th>\n      <td>2</td>\n      <td>3500</td>\n      <td>2.1</td>\n      <td>157.0</td>\n      <td>168</td>\n      <td>83.68</td>\n      <td>409</td>\n      <td>32</td>\n      <td>3</td>\n      <td>6.30</td>\n      <td>25</td>\n      <td>0</td>\n      <td>0</td>\n      <td>1</td>\n      <td>0</td>\n      <td>0</td>\n      <td>0</td>\n      <td>0</td>\n      <td>0</td>\n      <td>0</td>\n      <td>0</td>\n      <td>0</td>\n      <td>0</td>\n      <td>0</td>\n      <td>0</td>\n      <td>0</td>\n      <td>0</td>\n      <td>0</td>\n      <td>0</td>\n      <td>0</td>\n      <td>0</td>\n      <td>0</td>\n      <td>0</td>\n      <td>0</td>\n      <td>0</td>\n      <td>0</td>\n      <td>0</td>\n      <td>0</td>\n      <td>0</td>\n      <td>0</td>\n      <td>...</td>\n      <td>0</td>\n      <td>0</td>\n      <td>0</td>\n      <td>1</td>\n      <td>0</td>\n      <td>0</td>\n      <td>0</td>\n      <td>0</td>\n      <td>0</td>\n      <td>0</td>\n      <td>0</td>\n      <td>0</td>\n      <td>0</td>\n      <td>0</td>\n      <td>0</td>\n      <td>0</td>\n      <td>0</td>\n      <td>0</td>\n      <td>0</td>\n      <td>0</td>\n      <td>1</td>\n      <td>0</td>\n      <td>0</td>\n      <td>0</td>\n      <td>1</td>\n      <td>0</td>\n      <td>0</td>\n      <td>0</td>\n      <td>0</td>\n      <td>0</td>\n      <td>0</td>\n      <td>0</td>\n      <td>0</td>\n      <td>1</td>\n      <td>0</td>\n      <td>0</td>\n      <td>0</td>\n      <td>1</td>\n      <td>0</td>\n      <td>4.4</td>\n    </tr>\n    <tr>\n      <th>3</th>\n      <td>4</td>\n      <td>3300</td>\n      <td>2.2</td>\n      <td>159.8</td>\n      <td>169</td>\n      <td>74.78</td>\n      <td>411</td>\n      <td>64</td>\n      <td>4</td>\n      <td>6.00</td>\n      <td>24</td>\n      <td>0</td>\n      <td>0</td>\n      <td>1</td>\n      <td>0</td>\n      <td>0</td>\n      <td>0</td>\n      <td>0</td>\n      <td>0</td>\n      <td>0</td>\n      <td>0</td>\n      <td>0</td>\n      <td>0</td>\n      <td>0</td>\n      <td>0</td>\n      <td>0</td>\n      <td>0</td>\n      <td>0</td>\n      <td>0</td>\n      <td>0</td>\n      <td>0</td>\n      <td>0</td>\n      <td>0</td>\n      <td>0</td>\n      <td>0</td>\n      <td>0</td>\n      <td>0</td>\n      <td>0</td>\n      <td>0</td>\n      <td>0</td>\n      <td>...</td>\n      <td>0</td>\n      <td>0</td>\n      <td>0</td>\n      <td>0</td>\n      <td>0</td>\n      <td>1</td>\n      <td>0</td>\n      <td>0</td>\n      <td>0</td>\n      <td>0</td>\n      <td>0</td>\n      <td>0</td>\n      <td>0</td>\n      <td>0</td>\n      <td>0</td>\n      <td>0</td>\n      <td>0</td>\n      <td>0</td>\n      <td>0</td>\n      <td>0</td>\n      <td>1</td>\n      <td>0</td>\n      <td>0</td>\n      <td>0</td>\n      <td>1</td>\n      <td>0</td>\n      <td>0</td>\n      <td>0</td>\n      <td>0</td>\n      <td>0</td>\n      <td>0</td>\n      <td>0</td>\n      <td>1</td>\n      <td>0</td>\n      <td>0</td>\n      <td>0</td>\n      <td>0</td>\n      <td>1</td>\n      <td>0</td>\n      <td>4.3</td>\n    </tr>\n    <tr>\n      <th>4</th>\n      <td>5</td>\n      <td>3750</td>\n      <td>2.2</td>\n      <td>160.4</td>\n      <td>175</td>\n      <td>84.23</td>\n      <td>396</td>\n      <td>64</td>\n      <td>4</td>\n      <td>6.50</td>\n      <td>16</td>\n      <td>0</td>\n      <td>0</td>\n      <td>1</td>\n      <td>0</td>\n      <td>0</td>\n      <td>0</td>\n      <td>0</td>\n      <td>0</td>\n      <td>0</td>\n      <td>0</td>\n      <td>0</td>\n      <td>0</td>\n      <td>0</td>\n      <td>0</td>\n      <td>1</td>\n      <td>0</td>\n      <td>0</td>\n      <td>0</td>\n      <td>0</td>\n      <td>0</td>\n      <td>0</td>\n      <td>0</td>\n      <td>0</td>\n      <td>0</td>\n      <td>0</td>\n      <td>0</td>\n      <td>0</td>\n      <td>0</td>\n      <td>0</td>\n      <td>...</td>\n      <td>0</td>\n      <td>0</td>\n      <td>0</td>\n      <td>0</td>\n      <td>0</td>\n      <td>0</td>\n      <td>0</td>\n      <td>0</td>\n      <td>0</td>\n      <td>0</td>\n      <td>0</td>\n      <td>0</td>\n      <td>0</td>\n      <td>0</td>\n      <td>0</td>\n      <td>0</td>\n      <td>0</td>\n      <td>0</td>\n      <td>0</td>\n      <td>0</td>\n      <td>1</td>\n      <td>0</td>\n      <td>0</td>\n      <td>0</td>\n      <td>1</td>\n      <td>0</td>\n      <td>0</td>\n      <td>0</td>\n      <td>0</td>\n      <td>0</td>\n      <td>0</td>\n      <td>0</td>\n      <td>0</td>\n      <td>1</td>\n      <td>0</td>\n      <td>0</td>\n      <td>0</td>\n      <td>1</td>\n      <td>0</td>\n      <td>4.4</td>\n    </tr>\n  </tbody>\n</table>\n</div>"
          },
          "metadata": {}
        }
      ]
    },
    {
      "metadata": {
        "trusted": true,
        "_uuid": "3e7e9e50f05a83d2c46ed868b518c2635f1b642e",
        "id": "5cdkl4YU7QRw",
        "colab_type": "code",
        "colab": {
          "base_uri": "https://localhost:8080/",
          "height": 287
        },
        "outputId": "fe0a4870-ca8c-41d7-9ec3-2c8f47f2d435"
      },
      "cell_type": "code",
      "source": "test_new.head()",
      "execution_count": 671,
      "outputs": [
        {
          "output_type": "execute_result",
          "execution_count": 671,
          "data": {
            "text/plain": "   PhoneId  Capacity     ...       SIM 2_4G  SIM 2_Other\n0        3      4230     ...              1            0\n1       11      5000     ...              1            0\n2       13      3500     ...              1            0\n3       16      3500     ...              1            0\n4       19      4000     ...              1            0\n\n[5 rows x 87 columns]",
            "text/html": "<div>\n<style scoped>\n    .dataframe tbody tr th:only-of-type {\n        vertical-align: middle;\n    }\n\n    .dataframe tbody tr th {\n        vertical-align: top;\n    }\n\n    .dataframe thead th {\n        text-align: right;\n    }\n</style>\n<table border=\"1\" class=\"dataframe\">\n  <thead>\n    <tr style=\"text-align: right;\">\n      <th></th>\n      <th>PhoneId</th>\n      <th>Capacity</th>\n      <th>Processor_frequency</th>\n      <th>Height</th>\n      <th>Weight</th>\n      <th>Screen to Body Ratio (calculated)</th>\n      <th>Pixel Density</th>\n      <th>Internal Memory</th>\n      <th>RAM</th>\n      <th>Screen Size</th>\n      <th>Resolution</th>\n      <th>Sim1_2G</th>\n      <th>Sim1_3G</th>\n      <th>Sim1_4G</th>\n      <th>Brand_10.or</th>\n      <th>Brand_Apple</th>\n      <th>Brand_Asus</th>\n      <th>Brand_Billion</th>\n      <th>Brand_Blackberry</th>\n      <th>Brand_Comio</th>\n      <th>Brand_Coolpad</th>\n      <th>Brand_Do</th>\n      <th>Brand_Gionee</th>\n      <th>Brand_Google</th>\n      <th>Brand_HTC</th>\n      <th>Brand_Honor</th>\n      <th>Brand_Huawei</th>\n      <th>Brand_InFocus</th>\n      <th>Brand_Infinix</th>\n      <th>Brand_Intex</th>\n      <th>Brand_Itel</th>\n      <th>Brand_Jivi</th>\n      <th>Brand_Karbonn</th>\n      <th>Brand_LG</th>\n      <th>Brand_Lava</th>\n      <th>Brand_LeEco</th>\n      <th>Brand_Lenovo</th>\n      <th>Brand_Lephone</th>\n      <th>Brand_Lyf</th>\n      <th>Brand_Meizu</th>\n      <th>...</th>\n      <th>Brand_OnePlus</th>\n      <th>Brand_Oppo</th>\n      <th>Brand_Panasonic</th>\n      <th>Brand_Razer</th>\n      <th>Brand_Realme</th>\n      <th>Brand_Reliance</th>\n      <th>Brand_Samsung</th>\n      <th>Brand_Sony</th>\n      <th>Brand_Spice</th>\n      <th>Brand_Tecno</th>\n      <th>Brand_Ulefone</th>\n      <th>Brand_VOTO</th>\n      <th>Brand_Vivo</th>\n      <th>Brand_Xiaomi</th>\n      <th>Brand_Xiaomi Poco</th>\n      <th>Brand_Yu</th>\n      <th>Brand_iVooMi</th>\n      <th>Num_cores_312</th>\n      <th>Num_cores_Deca</th>\n      <th>Num_cores_Dual</th>\n      <th>Num_cores_Hexa</th>\n      <th>Num_cores_Octa</th>\n      <th>Num_cores_Other</th>\n      <th>Num_cores_Quad</th>\n      <th>Num_cores_Tru-Octa</th>\n      <th>os_name_Android</th>\n      <th>os_name_Blackberry</th>\n      <th>os_name_KAI</th>\n      <th>os_name_Nokia</th>\n      <th>os_name_Other</th>\n      <th>os_name_Tizen</th>\n      <th>os_name_iOS</th>\n      <th>SIM Slot(s)_Dual SIM, GSM+CDMA</th>\n      <th>SIM Slot(s)_Dual SIM, GSM+GSM</th>\n      <th>SIM Slot(s)_Dual SIM, GSM+GSM, Dual VoLTE</th>\n      <th>SIM Slot(s)_Single SIM, GSM</th>\n      <th>SIM 2_2G</th>\n      <th>SIM 2_3G</th>\n      <th>SIM 2_4G</th>\n      <th>SIM 2_Other</th>\n    </tr>\n  </thead>\n  <tbody>\n    <tr>\n      <th>0</th>\n      <td>3</td>\n      <td>4230</td>\n      <td>1.8</td>\n      <td>156.2</td>\n      <td>168</td>\n      <td>80.85</td>\n      <td>271</td>\n      <td>16</td>\n      <td>2</td>\n      <td>6.20</td>\n      <td>5</td>\n      <td>0</td>\n      <td>0</td>\n      <td>1</td>\n      <td>0</td>\n      <td>0</td>\n      <td>0</td>\n      <td>0</td>\n      <td>0</td>\n      <td>0</td>\n      <td>0</td>\n      <td>0</td>\n      <td>0</td>\n      <td>0</td>\n      <td>0</td>\n      <td>0</td>\n      <td>0</td>\n      <td>0</td>\n      <td>0</td>\n      <td>0</td>\n      <td>0</td>\n      <td>0</td>\n      <td>0</td>\n      <td>0</td>\n      <td>0</td>\n      <td>0</td>\n      <td>0</td>\n      <td>0</td>\n      <td>0</td>\n      <td>0</td>\n      <td>...</td>\n      <td>0</td>\n      <td>0</td>\n      <td>0</td>\n      <td>0</td>\n      <td>1</td>\n      <td>0</td>\n      <td>0</td>\n      <td>0</td>\n      <td>0</td>\n      <td>0</td>\n      <td>0</td>\n      <td>0</td>\n      <td>0</td>\n      <td>0</td>\n      <td>0</td>\n      <td>0</td>\n      <td>0</td>\n      <td>0</td>\n      <td>0</td>\n      <td>0</td>\n      <td>0</td>\n      <td>1</td>\n      <td>0</td>\n      <td>0</td>\n      <td>0</td>\n      <td>1</td>\n      <td>0</td>\n      <td>0</td>\n      <td>0</td>\n      <td>0</td>\n      <td>0</td>\n      <td>0</td>\n      <td>0</td>\n      <td>0</td>\n      <td>1</td>\n      <td>0</td>\n      <td>0</td>\n      <td>0</td>\n      <td>1</td>\n      <td>0</td>\n    </tr>\n    <tr>\n      <th>1</th>\n      <td>11</td>\n      <td>5000</td>\n      <td>1.8</td>\n      <td>156.0</td>\n      <td>205</td>\n      <td>81.60</td>\n      <td>402</td>\n      <td>64</td>\n      <td>4</td>\n      <td>6.20</td>\n      <td>12</td>\n      <td>0</td>\n      <td>0</td>\n      <td>1</td>\n      <td>0</td>\n      <td>0</td>\n      <td>0</td>\n      <td>0</td>\n      <td>0</td>\n      <td>0</td>\n      <td>0</td>\n      <td>0</td>\n      <td>0</td>\n      <td>0</td>\n      <td>0</td>\n      <td>0</td>\n      <td>0</td>\n      <td>0</td>\n      <td>0</td>\n      <td>0</td>\n      <td>0</td>\n      <td>0</td>\n      <td>0</td>\n      <td>0</td>\n      <td>0</td>\n      <td>0</td>\n      <td>0</td>\n      <td>0</td>\n      <td>0</td>\n      <td>0</td>\n      <td>...</td>\n      <td>0</td>\n      <td>0</td>\n      <td>0</td>\n      <td>0</td>\n      <td>0</td>\n      <td>0</td>\n      <td>0</td>\n      <td>0</td>\n      <td>0</td>\n      <td>0</td>\n      <td>0</td>\n      <td>0</td>\n      <td>0</td>\n      <td>0</td>\n      <td>0</td>\n      <td>0</td>\n      <td>0</td>\n      <td>0</td>\n      <td>0</td>\n      <td>0</td>\n      <td>0</td>\n      <td>1</td>\n      <td>0</td>\n      <td>0</td>\n      <td>0</td>\n      <td>1</td>\n      <td>0</td>\n      <td>0</td>\n      <td>0</td>\n      <td>0</td>\n      <td>0</td>\n      <td>0</td>\n      <td>0</td>\n      <td>0</td>\n      <td>1</td>\n      <td>0</td>\n      <td>0</td>\n      <td>0</td>\n      <td>1</td>\n      <td>0</td>\n    </tr>\n    <tr>\n      <th>2</th>\n      <td>13</td>\n      <td>3500</td>\n      <td>2.0</td>\n      <td>156.7</td>\n      <td>169</td>\n      <td>83.84</td>\n      <td>409</td>\n      <td>64</td>\n      <td>6</td>\n      <td>6.30</td>\n      <td>25</td>\n      <td>0</td>\n      <td>0</td>\n      <td>1</td>\n      <td>0</td>\n      <td>0</td>\n      <td>0</td>\n      <td>0</td>\n      <td>0</td>\n      <td>0</td>\n      <td>0</td>\n      <td>0</td>\n      <td>0</td>\n      <td>0</td>\n      <td>0</td>\n      <td>0</td>\n      <td>0</td>\n      <td>0</td>\n      <td>0</td>\n      <td>0</td>\n      <td>0</td>\n      <td>0</td>\n      <td>0</td>\n      <td>0</td>\n      <td>0</td>\n      <td>0</td>\n      <td>0</td>\n      <td>0</td>\n      <td>0</td>\n      <td>0</td>\n      <td>...</td>\n      <td>0</td>\n      <td>0</td>\n      <td>0</td>\n      <td>0</td>\n      <td>0</td>\n      <td>0</td>\n      <td>0</td>\n      <td>0</td>\n      <td>0</td>\n      <td>0</td>\n      <td>0</td>\n      <td>0</td>\n      <td>0</td>\n      <td>0</td>\n      <td>0</td>\n      <td>0</td>\n      <td>0</td>\n      <td>0</td>\n      <td>0</td>\n      <td>0</td>\n      <td>0</td>\n      <td>1</td>\n      <td>0</td>\n      <td>0</td>\n      <td>0</td>\n      <td>1</td>\n      <td>0</td>\n      <td>0</td>\n      <td>0</td>\n      <td>0</td>\n      <td>0</td>\n      <td>0</td>\n      <td>0</td>\n      <td>0</td>\n      <td>1</td>\n      <td>0</td>\n      <td>0</td>\n      <td>0</td>\n      <td>1</td>\n      <td>0</td>\n    </tr>\n    <tr>\n      <th>3</th>\n      <td>16</td>\n      <td>3500</td>\n      <td>2.0</td>\n      <td>156.7</td>\n      <td>169</td>\n      <td>83.84</td>\n      <td>409</td>\n      <td>64</td>\n      <td>4</td>\n      <td>6.30</td>\n      <td>16</td>\n      <td>0</td>\n      <td>0</td>\n      <td>1</td>\n      <td>0</td>\n      <td>0</td>\n      <td>0</td>\n      <td>0</td>\n      <td>0</td>\n      <td>0</td>\n      <td>0</td>\n      <td>0</td>\n      <td>0</td>\n      <td>0</td>\n      <td>0</td>\n      <td>0</td>\n      <td>0</td>\n      <td>0</td>\n      <td>0</td>\n      <td>0</td>\n      <td>0</td>\n      <td>0</td>\n      <td>0</td>\n      <td>0</td>\n      <td>0</td>\n      <td>0</td>\n      <td>0</td>\n      <td>0</td>\n      <td>0</td>\n      <td>0</td>\n      <td>...</td>\n      <td>0</td>\n      <td>0</td>\n      <td>0</td>\n      <td>0</td>\n      <td>0</td>\n      <td>0</td>\n      <td>0</td>\n      <td>0</td>\n      <td>0</td>\n      <td>0</td>\n      <td>0</td>\n      <td>0</td>\n      <td>0</td>\n      <td>0</td>\n      <td>0</td>\n      <td>0</td>\n      <td>0</td>\n      <td>0</td>\n      <td>0</td>\n      <td>0</td>\n      <td>0</td>\n      <td>1</td>\n      <td>0</td>\n      <td>0</td>\n      <td>0</td>\n      <td>1</td>\n      <td>0</td>\n      <td>0</td>\n      <td>0</td>\n      <td>0</td>\n      <td>0</td>\n      <td>0</td>\n      <td>0</td>\n      <td>0</td>\n      <td>1</td>\n      <td>0</td>\n      <td>0</td>\n      <td>0</td>\n      <td>1</td>\n      <td>0</td>\n    </tr>\n    <tr>\n      <th>4</th>\n      <td>19</td>\n      <td>4000</td>\n      <td>1.8</td>\n      <td>158.6</td>\n      <td>181</td>\n      <td>77.43</td>\n      <td>403</td>\n      <td>64</td>\n      <td>4</td>\n      <td>5.99</td>\n      <td>20</td>\n      <td>0</td>\n      <td>0</td>\n      <td>1</td>\n      <td>0</td>\n      <td>0</td>\n      <td>0</td>\n      <td>0</td>\n      <td>0</td>\n      <td>0</td>\n      <td>0</td>\n      <td>0</td>\n      <td>0</td>\n      <td>0</td>\n      <td>0</td>\n      <td>0</td>\n      <td>0</td>\n      <td>0</td>\n      <td>0</td>\n      <td>0</td>\n      <td>0</td>\n      <td>0</td>\n      <td>0</td>\n      <td>0</td>\n      <td>0</td>\n      <td>0</td>\n      <td>0</td>\n      <td>0</td>\n      <td>0</td>\n      <td>0</td>\n      <td>...</td>\n      <td>0</td>\n      <td>0</td>\n      <td>0</td>\n      <td>0</td>\n      <td>0</td>\n      <td>0</td>\n      <td>0</td>\n      <td>0</td>\n      <td>0</td>\n      <td>0</td>\n      <td>0</td>\n      <td>0</td>\n      <td>0</td>\n      <td>1</td>\n      <td>0</td>\n      <td>0</td>\n      <td>0</td>\n      <td>0</td>\n      <td>0</td>\n      <td>0</td>\n      <td>0</td>\n      <td>1</td>\n      <td>0</td>\n      <td>0</td>\n      <td>0</td>\n      <td>1</td>\n      <td>0</td>\n      <td>0</td>\n      <td>0</td>\n      <td>0</td>\n      <td>0</td>\n      <td>0</td>\n      <td>0</td>\n      <td>0</td>\n      <td>1</td>\n      <td>0</td>\n      <td>0</td>\n      <td>0</td>\n      <td>1</td>\n      <td>0</td>\n    </tr>\n  </tbody>\n</table>\n</div>"
          },
          "metadata": {}
        }
      ]
    },
    {
      "metadata": {
        "_uuid": "12abcd3619944455872e490715c81aea6fa0df5f",
        "id": "JM2KUMNS7QR4",
        "colab_type": "text"
      },
      "cell_type": "markdown",
      "source": "## Dummy Solution"
    },
    {
      "metadata": {
        "trusted": true,
        "_uuid": "5b803e0030236d4c59a8baabfb2283400da3d0f3",
        "id": "PPUfiS7x7QSB",
        "colab_type": "code",
        "colab": {}
      },
      "cell_type": "code",
      "source": "\"\"\"\nWRITE YOUR MODELLING CODE HERE\n\"\"\"",
      "execution_count": 672,
      "outputs": [
        {
          "output_type": "execute_result",
          "execution_count": 672,
          "data": {
            "text/plain": "'\\nWRITE YOUR MODELLING CODE HERE\\n'"
          },
          "metadata": {}
        }
      ]
    },
    {
      "metadata": {
        "trusted": true,
        "_uuid": "a60ce285dcf1ddd5fef59d7864d9a13180c518f0",
        "id": "CZsHWosc7QSE",
        "colab_type": "code",
        "colab": {}
      },
      "cell_type": "code",
      "source": "import matplotlib.pyplot as plt",
      "execution_count": 673,
      "outputs": []
    },
    {
      "metadata": {
        "trusted": true,
        "_uuid": "e3a3e2a031944aaad225956163617ff6266efc07",
        "id": "HNhWfN6M7QSH",
        "colab_type": "code",
        "colab": {
          "base_uri": "https://localhost:8080/",
          "height": 550
        },
        "outputId": "f72c60ae-40e1-44b2-b831-a0a7c6e80674"
      },
      "cell_type": "code",
      "source": "plt.plot(train_new.T, '*')\nplt.xticks(rotation='vertical')\nplt.show()",
      "execution_count": 674,
      "outputs": [
        {
          "output_type": "display_data",
          "data": {
            "text/plain": "<Figure size 432x288 with 1 Axes>",
            "image/png": "[encoded data removed]"
          },
          "metadata": {}
        }
      ]
    },
    {
      "metadata": {
        "trusted": true,
        "_uuid": "0a09f27df18b6ef5aabbf8c1e3289c8a106907d6",
        "id": "L-jtxK6y7QSM",
        "colab_type": "code",
        "colab": {},
        "outputId": "cfc2e826-f03f-4413-e4c1-f3efca25ecb8"
      },
      "cell_type": "code",
      "source": "train_new[\"Capacity\"].mean()",
      "execution_count": 675,
      "outputs": [
        {
          "output_type": "execute_result",
          "execution_count": 675,
          "data": {
            "text/plain": "3191.307917888563"
          },
          "metadata": {}
        }
      ]
    },
    {
      "metadata": {
        "trusted": true,
        "_uuid": "7618215604678c8d8954796e9fd279b267ae2e53",
        "id": "v6u3l0AC7QSR",
        "colab_type": "code",
        "colab": {},
        "outputId": "bc46f650-5c9b-42cb-f915-67de6b4d4c13"
      },
      "cell_type": "code",
      "source": "train_new[\"Pixel Density\"].mean()",
      "execution_count": 676,
      "outputs": [
        {
          "output_type": "execute_result",
          "execution_count": 676,
          "data": {
            "text/plain": "344.21114369501464"
          },
          "metadata": {}
        }
      ]
    },
    {
      "metadata": {
        "trusted": true,
        "_uuid": "0f6e0ff83c0de278d2e4eb2e792d3e06ba84ae29",
        "id": "GMZTh2sj7QSU",
        "colab_type": "code",
        "colab": {},
        "outputId": "3b376cc0-a3a8-436b-ef91-a73a7584659e"
      },
      "cell_type": "code",
      "source": "train_new[\"Weight\"].mean()",
      "execution_count": 677,
      "outputs": [
        {
          "output_type": "execute_result",
          "execution_count": 677,
          "data": {
            "text/plain": "161.34310850439883"
          },
          "metadata": {}
        }
      ]
    },
    {
      "metadata": {
        "trusted": true,
        "_uuid": "fac967e758133b7d5ef63425ea86dfea18fac493",
        "id": "u6i3-Xta7QSb",
        "colab_type": "code",
        "colab": {},
        "outputId": "6585af8b-3379-446f-d7d3-b83d4fff50bb"
      },
      "cell_type": "code",
      "source": "train_new[\"Resolution\"].mean()",
      "execution_count": 678,
      "outputs": [
        {
          "output_type": "execute_result",
          "execution_count": 678,
          "data": {
            "text/plain": "9.592375366568914"
          },
          "metadata": {}
        }
      ]
    },
    {
      "metadata": {
        "trusted": true,
        "_uuid": "0bf138191e4f5d674a224b7d152ac9302673a007",
        "id": "AW-vnHxM7QSi",
        "colab_type": "code",
        "colab": {},
        "outputId": "522aa1b4-12f8-407b-9c7b-4e76f5ba4d3e"
      },
      "cell_type": "code",
      "source": "train_new[\"Screen to Body Ratio (calculated)\"].mean()",
      "execution_count": 679,
      "outputs": [
        {
          "output_type": "execute_result",
          "execution_count": 679,
          "data": {
            "text/plain": "72.35334310850443"
          },
          "metadata": {}
        }
      ]
    },
    {
      "metadata": {
        "trusted": true,
        "_uuid": "fbd1eb78f974ef455f017532328743f96184ea8b",
        "id": "bpCK4DJy7QSm",
        "colab_type": "code",
        "colab": {}
      },
      "cell_type": "code",
      "source": "train_new['Capacity_bin'] = train_new['Capacity'].map(lambda x: 0 if x < train_new['Capacity'].mean() else 1)",
      "execution_count": 680,
      "outputs": []
    },
    {
      "metadata": {
        "trusted": true,
        "_uuid": "2ca50c38d39096c19b25cdf334f799888fa4a841",
        "id": "Ha4abBgN7QSp",
        "colab_type": "code",
        "colab": {}
      },
      "cell_type": "code",
      "source": "train_new['Pixel Density_bin'] = train_new['Pixel Density'].map(lambda x: 0 if x < train_new['Pixel Density'].mean() else 1)",
      "execution_count": 681,
      "outputs": []
    },
    {
      "metadata": {
        "trusted": true,
        "_uuid": "81db75a565ecc9ced872d2d6270e15ef6fba25a3",
        "id": "7-91RCyN7QSr",
        "colab_type": "code",
        "colab": {}
      },
      "cell_type": "code",
      "source": "train_new['Resolution_bin'] = train_new['Resolution'].map(lambda x: 0 if x < train_new['Resolution'].mean() else 1)",
      "execution_count": 682,
      "outputs": []
    },
    {
      "metadata": {
        "trusted": true,
        "_uuid": "a0432e166c6931d4fd1df5249fa27ab2a4491261",
        "id": "uCmf_LJH7QSu",
        "colab_type": "code",
        "colab": {}
      },
      "cell_type": "code",
      "source": "train_new['Weight_bin'] = train_new['Weight'].map(lambda x: 0 if x < train_new['Weight'].mean() else 1)",
      "execution_count": 683,
      "outputs": []
    },
    {
      "metadata": {
        "trusted": true,
        "_uuid": "c3bc0952047c816e0ac490faa43e75ea02646924",
        "id": "aPlw4oxr7QSw",
        "colab_type": "code",
        "colab": {}
      },
      "cell_type": "code",
      "source": "train_new['Screen to Body Ratio_bin'] = train_new['Screen to Body Ratio (calculated)'].map(lambda x: 0 if x < train_new['Screen to Body Ratio (calculated)'].mean() else 1)",
      "execution_count": 684,
      "outputs": []
    },
    {
      "metadata": {
        "trusted": true,
        "_uuid": "664f4dcb8321397a142e18cc97acf3f49ffd0c56",
        "id": "0-gnfCFi7QSz",
        "colab_type": "code",
        "colab": {}
      },
      "cell_type": "code",
      "source": "train_new['Screen to Body Ratio_bin'] = train_new['Screen to Body Ratio (calculated)'].map(lambda x: 0 if x < train_new['Screen to Body Ratio (calculated)'].mean() else 1)",
      "execution_count": 685,
      "outputs": []
    },
    {
      "metadata": {
        "trusted": true,
        "_uuid": "07f6e5bab57c976dc27db759f87bd94d9d8017b2",
        "id": "ARXlCSI67QS1",
        "colab_type": "code",
        "colab": {}
      },
      "cell_type": "code",
      "source": "train_new['Internal memory_bin'] = train_new['Internal Memory'].map(lambda x: 0 if x < train_new['Internal Memory'].mean() else 1)",
      "execution_count": 686,
      "outputs": []
    },
    {
      "metadata": {
        "trusted": true,
        "_uuid": "dc2c307193da6bc2db6b67291d3cad449a75715a",
        "id": "TiJNzsAq7QS4",
        "colab_type": "code",
        "colab": {}
      },
      "cell_type": "code",
      "source": "train_new['Screen Size_bin'] = train_new['Screen Size'].map(lambda x: 0 if x < train_new['Screen Size'].mean() else 1)",
      "execution_count": 687,
      "outputs": []
    },
    {
      "metadata": {
        "trusted": true,
        "_uuid": "6bb740ee7eee3890fac737def8b66f9537f7499b",
        "id": "V3jKzPu37QS8",
        "colab_type": "code",
        "colab": {}
      },
      "cell_type": "code",
      "source": "train_new['RAM_bin'] = train_new['RAM'].map(lambda x: 0 if x < train_new['RAM'].mean() else 1)",
      "execution_count": 688,
      "outputs": []
    },
    {
      "metadata": {
        "trusted": true,
        "_uuid": "d90121cf3b2eb2d2e1ebbe1a869c3a7e72fa134e",
        "id": "gAy9w4xq7QS-",
        "colab_type": "code",
        "colab": {}
      },
      "cell_type": "code",
      "source": "train_new['Processor_frequency_bin'] = train_new['Processor_frequency'].map(lambda x: 0 if x < train_new['Processor_frequency'].mean() else 1)",
      "execution_count": 689,
      "outputs": []
    },
    {
      "metadata": {
        "trusted": true,
        "_uuid": "75dc94a9eb38fa7244e050c01b493bb6da88a1b7",
        "id": "I1vVZ0We7QTB",
        "colab_type": "code",
        "colab": {}
      },
      "cell_type": "code",
      "source": "train_new['Height_bin'] = train_new['Height'].map(lambda x: 0 if x < train_new['Height'].mean() else 1)",
      "execution_count": 690,
      "outputs": []
    },
    {
      "metadata": {
        "trusted": true,
        "_uuid": "50223e8cf87e6eb9ad50de84572a2b8f840e82c2",
        "id": "yFY-QMUY7QTE",
        "colab_type": "code",
        "colab": {}
      },
      "cell_type": "code",
      "source": "test_new['Height_bin'] = test_new['Height'].map(lambda x: 0 if x < test_new['Height'].mean() else 1)\ntest_new['Capacity_bon'] = test_new['Capacity'].map(lambda x: 0 if x < test_new['Capacity'].mean() else 1)\ntest_new['Pixel Density_bin'] = test_new['Pixel Density'].map(lambda x: 0 if x < test_new['Pixel Density'].mean() else 1)\ntest_new['Weight_bin'] = test_new['Weight'].map(lambda x: 0 if x < test_new['Weight'].mean() else 1)\ntest_new['Height_bin'] = test_new['Height'].map(lambda x: 0 if x < test_new['Height'].mean() else 1)\ntest_new['Resolution_bin'] = test_new['Resolution'].map(lambda x: 0 if x < test_new['Resolution'].mean() else 1)\ntest_new['Screen to Body Ratio (calculated)_bin'] = test_new['Screen to Body Ratio (calculated)'].map(lambda x: 0 if x < test_new['Screen to Body Ratio (calculated)'].mean() else 1)\ntest_new['Screen Size_bin'] = test_new['Screen Size'].map(lambda x: 0 if x < test_new['Screen Size'].mean() else 1)\ntest_new['RAM_bin'] = test_new['RAM'].map(lambda x: 0 if x < test_new['RAM'].mean() else 1)\ntest_new['Processor_frequency_bin'] = test_new['Processor_frequency'].map(lambda x: 0 if x < test_new['Processor_frequency'].mean() else 1)\n",
      "execution_count": 691,
      "outputs": []
    },
    {
      "metadata": {
        "trusted": true,
        "_uuid": "654bb44752939cb252877da67542537bfc66d6c8",
        "id": "kc4pMWMK7QTG",
        "colab_type": "code",
        "colab": {
          "base_uri": "https://localhost:8080/",
          "height": 287
        },
        "outputId": "04537401-1232-4ff1-a467-3f6bdaaf8f3e"
      },
      "cell_type": "code",
      "source": "test_new.head()",
      "execution_count": 692,
      "outputs": [
        {
          "output_type": "execute_result",
          "execution_count": 692,
          "data": {
            "text/plain": "   PhoneId  Capacity           ...             RAM_bin  Processor_frequency_bin\n0        3      4230           ...                   0                        1\n1       11      5000           ...                   0                        1\n2       13      3500           ...                   0                        1\n3       16      3500           ...                   0                        1\n4       19      4000           ...                   0                        1\n\n[5 rows x 96 columns]",
            "text/html": "<div>\n<style scoped>\n    .dataframe tbody tr th:only-of-type {\n        vertical-align: middle;\n    }\n\n    .dataframe tbody tr th {\n        vertical-align: top;\n    }\n\n    .dataframe thead th {\n        text-align: right;\n    }\n</style>\n<table border=\"1\" class=\"dataframe\">\n  <thead>\n    <tr style=\"text-align: right;\">\n      <th></th>\n      <th>PhoneId</th>\n      <th>Capacity</th>\n      <th>Processor_frequency</th>\n      <th>Height</th>\n      <th>Weight</th>\n      <th>Screen to Body Ratio (calculated)</th>\n      <th>Pixel Density</th>\n      <th>Internal Memory</th>\n      <th>RAM</th>\n      <th>Screen Size</th>\n      <th>Resolution</th>\n      <th>Sim1_2G</th>\n      <th>Sim1_3G</th>\n      <th>Sim1_4G</th>\n      <th>Brand_10.or</th>\n      <th>Brand_Apple</th>\n      <th>Brand_Asus</th>\n      <th>Brand_Billion</th>\n      <th>Brand_Blackberry</th>\n      <th>Brand_Comio</th>\n      <th>Brand_Coolpad</th>\n      <th>Brand_Do</th>\n      <th>Brand_Gionee</th>\n      <th>Brand_Google</th>\n      <th>Brand_HTC</th>\n      <th>Brand_Honor</th>\n      <th>Brand_Huawei</th>\n      <th>Brand_InFocus</th>\n      <th>Brand_Infinix</th>\n      <th>Brand_Intex</th>\n      <th>Brand_Itel</th>\n      <th>Brand_Jivi</th>\n      <th>Brand_Karbonn</th>\n      <th>Brand_LG</th>\n      <th>Brand_Lava</th>\n      <th>Brand_LeEco</th>\n      <th>Brand_Lenovo</th>\n      <th>Brand_Lephone</th>\n      <th>Brand_Lyf</th>\n      <th>Brand_Meizu</th>\n      <th>...</th>\n      <th>Brand_Tecno</th>\n      <th>Brand_Ulefone</th>\n      <th>Brand_VOTO</th>\n      <th>Brand_Vivo</th>\n      <th>Brand_Xiaomi</th>\n      <th>Brand_Xiaomi Poco</th>\n      <th>Brand_Yu</th>\n      <th>Brand_iVooMi</th>\n      <th>Num_cores_312</th>\n      <th>Num_cores_Deca</th>\n      <th>Num_cores_Dual</th>\n      <th>Num_cores_Hexa</th>\n      <th>Num_cores_Octa</th>\n      <th>Num_cores_Other</th>\n      <th>Num_cores_Quad</th>\n      <th>Num_cores_Tru-Octa</th>\n      <th>os_name_Android</th>\n      <th>os_name_Blackberry</th>\n      <th>os_name_KAI</th>\n      <th>os_name_Nokia</th>\n      <th>os_name_Other</th>\n      <th>os_name_Tizen</th>\n      <th>os_name_iOS</th>\n      <th>SIM Slot(s)_Dual SIM, GSM+CDMA</th>\n      <th>SIM Slot(s)_Dual SIM, GSM+GSM</th>\n      <th>SIM Slot(s)_Dual SIM, GSM+GSM, Dual VoLTE</th>\n      <th>SIM Slot(s)_Single SIM, GSM</th>\n      <th>SIM 2_2G</th>\n      <th>SIM 2_3G</th>\n      <th>SIM 2_4G</th>\n      <th>SIM 2_Other</th>\n      <th>Height_bin</th>\n      <th>Capacity_bon</th>\n      <th>Pixel Density_bin</th>\n      <th>Weight_bin</th>\n      <th>Resolution_bin</th>\n      <th>Screen to Body Ratio (calculated)_bin</th>\n      <th>Screen Size_bin</th>\n      <th>RAM_bin</th>\n      <th>Processor_frequency_bin</th>\n    </tr>\n  </thead>\n  <tbody>\n    <tr>\n      <th>0</th>\n      <td>3</td>\n      <td>4230</td>\n      <td>1.8</td>\n      <td>156.2</td>\n      <td>168</td>\n      <td>80.85</td>\n      <td>271</td>\n      <td>16</td>\n      <td>2</td>\n      <td>6.20</td>\n      <td>5</td>\n      <td>0</td>\n      <td>0</td>\n      <td>1</td>\n      <td>0</td>\n      <td>0</td>\n      <td>0</td>\n      <td>0</td>\n      <td>0</td>\n      <td>0</td>\n      <td>0</td>\n      <td>0</td>\n      <td>0</td>\n      <td>0</td>\n      <td>0</td>\n      <td>0</td>\n      <td>0</td>\n      <td>0</td>\n      <td>0</td>\n      <td>0</td>\n      <td>0</td>\n      <td>0</td>\n      <td>0</td>\n      <td>0</td>\n      <td>0</td>\n      <td>0</td>\n      <td>0</td>\n      <td>0</td>\n      <td>0</td>\n      <td>0</td>\n      <td>...</td>\n      <td>0</td>\n      <td>0</td>\n      <td>0</td>\n      <td>0</td>\n      <td>0</td>\n      <td>0</td>\n      <td>0</td>\n      <td>0</td>\n      <td>0</td>\n      <td>0</td>\n      <td>0</td>\n      <td>0</td>\n      <td>1</td>\n      <td>0</td>\n      <td>0</td>\n      <td>0</td>\n      <td>1</td>\n      <td>0</td>\n      <td>0</td>\n      <td>0</td>\n      <td>0</td>\n      <td>0</td>\n      <td>0</td>\n      <td>0</td>\n      <td>0</td>\n      <td>1</td>\n      <td>0</td>\n      <td>0</td>\n      <td>0</td>\n      <td>1</td>\n      <td>0</td>\n      <td>1</td>\n      <td>1</td>\n      <td>0</td>\n      <td>1</td>\n      <td>0</td>\n      <td>1</td>\n      <td>1</td>\n      <td>0</td>\n      <td>1</td>\n    </tr>\n    <tr>\n      <th>1</th>\n      <td>11</td>\n      <td>5000</td>\n      <td>1.8</td>\n      <td>156.0</td>\n      <td>205</td>\n      <td>81.60</td>\n      <td>402</td>\n      <td>64</td>\n      <td>4</td>\n      <td>6.20</td>\n      <td>12</td>\n      <td>0</td>\n      <td>0</td>\n      <td>1</td>\n      <td>0</td>\n      <td>0</td>\n      <td>0</td>\n      <td>0</td>\n      <td>0</td>\n      <td>0</td>\n      <td>0</td>\n      <td>0</td>\n      <td>0</td>\n      <td>0</td>\n      <td>0</td>\n      <td>0</td>\n      <td>0</td>\n      <td>0</td>\n      <td>0</td>\n      <td>0</td>\n      <td>0</td>\n      <td>0</td>\n      <td>0</td>\n      <td>0</td>\n      <td>0</td>\n      <td>0</td>\n      <td>0</td>\n      <td>0</td>\n      <td>0</td>\n      <td>0</td>\n      <td>...</td>\n      <td>0</td>\n      <td>0</td>\n      <td>0</td>\n      <td>0</td>\n      <td>0</td>\n      <td>0</td>\n      <td>0</td>\n      <td>0</td>\n      <td>0</td>\n      <td>0</td>\n      <td>0</td>\n      <td>0</td>\n      <td>1</td>\n      <td>0</td>\n      <td>0</td>\n      <td>0</td>\n      <td>1</td>\n      <td>0</td>\n      <td>0</td>\n      <td>0</td>\n      <td>0</td>\n      <td>0</td>\n      <td>0</td>\n      <td>0</td>\n      <td>0</td>\n      <td>1</td>\n      <td>0</td>\n      <td>0</td>\n      <td>0</td>\n      <td>1</td>\n      <td>0</td>\n      <td>1</td>\n      <td>1</td>\n      <td>1</td>\n      <td>1</td>\n      <td>1</td>\n      <td>1</td>\n      <td>1</td>\n      <td>0</td>\n      <td>1</td>\n    </tr>\n    <tr>\n      <th>2</th>\n      <td>13</td>\n      <td>3500</td>\n      <td>2.0</td>\n      <td>156.7</td>\n      <td>169</td>\n      <td>83.84</td>\n      <td>409</td>\n      <td>64</td>\n      <td>6</td>\n      <td>6.30</td>\n      <td>25</td>\n      <td>0</td>\n      <td>0</td>\n      <td>1</td>\n      <td>0</td>\n      <td>0</td>\n      <td>0</td>\n      <td>0</td>\n      <td>0</td>\n      <td>0</td>\n      <td>0</td>\n      <td>0</td>\n      <td>0</td>\n      <td>0</td>\n      <td>0</td>\n      <td>0</td>\n      <td>0</td>\n      <td>0</td>\n      <td>0</td>\n      <td>0</td>\n      <td>0</td>\n      <td>0</td>\n      <td>0</td>\n      <td>0</td>\n      <td>0</td>\n      <td>0</td>\n      <td>0</td>\n      <td>0</td>\n      <td>0</td>\n      <td>0</td>\n      <td>...</td>\n      <td>0</td>\n      <td>0</td>\n      <td>0</td>\n      <td>0</td>\n      <td>0</td>\n      <td>0</td>\n      <td>0</td>\n      <td>0</td>\n      <td>0</td>\n      <td>0</td>\n      <td>0</td>\n      <td>0</td>\n      <td>1</td>\n      <td>0</td>\n      <td>0</td>\n      <td>0</td>\n      <td>1</td>\n      <td>0</td>\n      <td>0</td>\n      <td>0</td>\n      <td>0</td>\n      <td>0</td>\n      <td>0</td>\n      <td>0</td>\n      <td>0</td>\n      <td>1</td>\n      <td>0</td>\n      <td>0</td>\n      <td>0</td>\n      <td>1</td>\n      <td>0</td>\n      <td>1</td>\n      <td>1</td>\n      <td>1</td>\n      <td>1</td>\n      <td>1</td>\n      <td>1</td>\n      <td>1</td>\n      <td>0</td>\n      <td>1</td>\n    </tr>\n    <tr>\n      <th>3</th>\n      <td>16</td>\n      <td>3500</td>\n      <td>2.0</td>\n      <td>156.7</td>\n      <td>169</td>\n      <td>83.84</td>\n      <td>409</td>\n      <td>64</td>\n      <td>4</td>\n      <td>6.30</td>\n      <td>16</td>\n      <td>0</td>\n      <td>0</td>\n      <td>1</td>\n      <td>0</td>\n      <td>0</td>\n      <td>0</td>\n      <td>0</td>\n      <td>0</td>\n      <td>0</td>\n      <td>0</td>\n      <td>0</td>\n      <td>0</td>\n      <td>0</td>\n      <td>0</td>\n      <td>0</td>\n      <td>0</td>\n      <td>0</td>\n      <td>0</td>\n      <td>0</td>\n      <td>0</td>\n      <td>0</td>\n      <td>0</td>\n      <td>0</td>\n      <td>0</td>\n      <td>0</td>\n      <td>0</td>\n      <td>0</td>\n      <td>0</td>\n      <td>0</td>\n      <td>...</td>\n      <td>0</td>\n      <td>0</td>\n      <td>0</td>\n      <td>0</td>\n      <td>0</td>\n      <td>0</td>\n      <td>0</td>\n      <td>0</td>\n      <td>0</td>\n      <td>0</td>\n      <td>0</td>\n      <td>0</td>\n      <td>1</td>\n      <td>0</td>\n      <td>0</td>\n      <td>0</td>\n      <td>1</td>\n      <td>0</td>\n      <td>0</td>\n      <td>0</td>\n      <td>0</td>\n      <td>0</td>\n      <td>0</td>\n      <td>0</td>\n      <td>0</td>\n      <td>1</td>\n      <td>0</td>\n      <td>0</td>\n      <td>0</td>\n      <td>1</td>\n      <td>0</td>\n      <td>1</td>\n      <td>1</td>\n      <td>1</td>\n      <td>1</td>\n      <td>1</td>\n      <td>1</td>\n      <td>1</td>\n      <td>0</td>\n      <td>1</td>\n    </tr>\n    <tr>\n      <th>4</th>\n      <td>19</td>\n      <td>4000</td>\n      <td>1.8</td>\n      <td>158.6</td>\n      <td>181</td>\n      <td>77.43</td>\n      <td>403</td>\n      <td>64</td>\n      <td>4</td>\n      <td>5.99</td>\n      <td>20</td>\n      <td>0</td>\n      <td>0</td>\n      <td>1</td>\n      <td>0</td>\n      <td>0</td>\n      <td>0</td>\n      <td>0</td>\n      <td>0</td>\n      <td>0</td>\n      <td>0</td>\n      <td>0</td>\n      <td>0</td>\n      <td>0</td>\n      <td>0</td>\n      <td>0</td>\n      <td>0</td>\n      <td>0</td>\n      <td>0</td>\n      <td>0</td>\n      <td>0</td>\n      <td>0</td>\n      <td>0</td>\n      <td>0</td>\n      <td>0</td>\n      <td>0</td>\n      <td>0</td>\n      <td>0</td>\n      <td>0</td>\n      <td>0</td>\n      <td>...</td>\n      <td>0</td>\n      <td>0</td>\n      <td>0</td>\n      <td>0</td>\n      <td>1</td>\n      <td>0</td>\n      <td>0</td>\n      <td>0</td>\n      <td>0</td>\n      <td>0</td>\n      <td>0</td>\n      <td>0</td>\n      <td>1</td>\n      <td>0</td>\n      <td>0</td>\n      <td>0</td>\n      <td>1</td>\n      <td>0</td>\n      <td>0</td>\n      <td>0</td>\n      <td>0</td>\n      <td>0</td>\n      <td>0</td>\n      <td>0</td>\n      <td>0</td>\n      <td>1</td>\n      <td>0</td>\n      <td>0</td>\n      <td>0</td>\n      <td>1</td>\n      <td>0</td>\n      <td>1</td>\n      <td>1</td>\n      <td>1</td>\n      <td>1</td>\n      <td>1</td>\n      <td>1</td>\n      <td>1</td>\n      <td>0</td>\n      <td>1</td>\n    </tr>\n  </tbody>\n</table>\n</div>"
          },
          "metadata": {}
        }
      ]
    },
    {
      "metadata": {
        "trusted": true,
        "_uuid": "a5ebe8dcc82a89b4ae2c54161927172c70091907",
        "id": "LkDV2AGj7QTM",
        "colab_type": "code",
        "colab": {}
      },
      "cell_type": "code",
      "source": "list(test_new.columns.values)",
      "execution_count": 693,
      "outputs": [
        {
          "output_type": "execute_result",
          "execution_count": 693,
          "data": {
            "text/plain": "['PhoneId',\n 'Capacity',\n 'Processor_frequency',\n 'Height',\n 'Weight',\n 'Screen to Body Ratio (calculated)',\n 'Pixel Density',\n 'Internal Memory',\n 'RAM',\n 'Screen Size',\n 'Resolution',\n 'Sim1_2G',\n 'Sim1_3G',\n 'Sim1_4G',\n 'Brand_10.or',\n 'Brand_Apple',\n 'Brand_Asus',\n 'Brand_Billion',\n 'Brand_Blackberry',\n 'Brand_Comio',\n 'Brand_Coolpad',\n 'Brand_Do',\n 'Brand_Gionee',\n 'Brand_Google',\n 'Brand_HTC',\n 'Brand_Honor',\n 'Brand_Huawei',\n 'Brand_InFocus',\n 'Brand_Infinix',\n 'Brand_Intex',\n 'Brand_Itel',\n 'Brand_Jivi',\n 'Brand_Karbonn',\n 'Brand_LG',\n 'Brand_Lava',\n 'Brand_LeEco',\n 'Brand_Lenovo',\n 'Brand_Lephone',\n 'Brand_Lyf',\n 'Brand_Meizu',\n 'Brand_Micromax',\n 'Brand_Mobiistar',\n 'Brand_Moto',\n 'Brand_Motorola',\n 'Brand_Nokia',\n 'Brand_Nubia',\n 'Brand_OPPO',\n 'Brand_OnePlus',\n 'Brand_Oppo',\n 'Brand_Panasonic',\n 'Brand_Razer',\n 'Brand_Realme',\n 'Brand_Reliance',\n 'Brand_Samsung',\n 'Brand_Sony',\n 'Brand_Spice',\n 'Brand_Tecno',\n 'Brand_Ulefone',\n 'Brand_VOTO',\n 'Brand_Vivo',\n 'Brand_Xiaomi',\n 'Brand_Xiaomi Poco',\n 'Brand_Yu',\n 'Brand_iVooMi',\n 'Num_cores_312',\n 'Num_cores_Deca',\n 'Num_cores_Dual',\n 'Num_cores_Hexa',\n 'Num_cores_Octa',\n 'Num_cores_Other',\n 'Num_cores_Quad',\n 'Num_cores_Tru-Octa',\n 'os_name_Android',\n 'os_name_Blackberry',\n 'os_name_KAI',\n 'os_name_Nokia',\n 'os_name_Other',\n 'os_name_Tizen',\n 'os_name_iOS',\n 'SIM Slot(s)_Dual SIM, GSM+CDMA',\n 'SIM Slot(s)_Dual SIM, GSM+GSM',\n 'SIM Slot(s)_Dual SIM, GSM+GSM, Dual VoLTE',\n 'SIM Slot(s)_Single SIM, GSM',\n 'SIM 2_2G',\n 'SIM 2_3G',\n 'SIM 2_4G',\n 'SIM 2_Other',\n 'Height_bin',\n 'Capacity_bon',\n 'Pixel Density_bin',\n 'Weight_bin',\n 'Resolution_bin',\n 'Screen to Body Ratio (calculated)_bin',\n 'Screen Size_bin',\n 'RAM_bin',\n 'Processor_frequency_bin']"
          },
          "metadata": {}
        }
      ]
    },
    {
      "metadata": {
        "trusted": true,
        "_uuid": "aa48a6a51b94eb0fab013e71a5c0b657e20d3907",
        "id": "pXb_CAE97QTR",
        "colab_type": "code",
        "colab": {
          "base_uri": "https://localhost:8080/",
          "height": 287
        },
        "outputId": "56bcef86-8f12-434f-a9a1-1ae630f3128f"
      },
      "cell_type": "code",
      "source": "train_new.head()",
      "execution_count": 694,
      "outputs": [
        {
          "output_type": "execute_result",
          "execution_count": 694,
          "data": {
            "text/plain": "   PhoneId  Capacity     ...      Processor_frequency_bin  Height_bin\n0        0      4000     ...                            1           1\n1        1      4230     ...                            1           1\n2        2      3500     ...                            1           1\n3        4      3300     ...                            1           1\n4        5      3750     ...                            1           1\n\n[5 rows x 98 columns]",
            "text/html": "<div>\n<style scoped>\n    .dataframe tbody tr th:only-of-type {\n        vertical-align: middle;\n    }\n\n    .dataframe tbody tr th {\n        vertical-align: top;\n    }\n\n    .dataframe thead th {\n        text-align: right;\n    }\n</style>\n<table border=\"1\" class=\"dataframe\">\n  <thead>\n    <tr style=\"text-align: right;\">\n      <th></th>\n      <th>PhoneId</th>\n      <th>Capacity</th>\n      <th>Processor_frequency</th>\n      <th>Height</th>\n      <th>Weight</th>\n      <th>Screen to Body Ratio (calculated)</th>\n      <th>Pixel Density</th>\n      <th>Internal Memory</th>\n      <th>RAM</th>\n      <th>Screen Size</th>\n      <th>Resolution</th>\n      <th>Sim1_2G</th>\n      <th>Sim1_3G</th>\n      <th>Sim1_4G</th>\n      <th>Brand_10.or</th>\n      <th>Brand_Apple</th>\n      <th>Brand_Asus</th>\n      <th>Brand_Billion</th>\n      <th>Brand_Blackberry</th>\n      <th>Brand_Comio</th>\n      <th>Brand_Coolpad</th>\n      <th>Brand_Do</th>\n      <th>Brand_Gionee</th>\n      <th>Brand_Google</th>\n      <th>Brand_HTC</th>\n      <th>Brand_Honor</th>\n      <th>Brand_Huawei</th>\n      <th>Brand_InFocus</th>\n      <th>Brand_Infinix</th>\n      <th>Brand_Intex</th>\n      <th>Brand_Itel</th>\n      <th>Brand_Jivi</th>\n      <th>Brand_Karbonn</th>\n      <th>Brand_LG</th>\n      <th>Brand_Lava</th>\n      <th>Brand_LeEco</th>\n      <th>Brand_Lenovo</th>\n      <th>Brand_Lephone</th>\n      <th>Brand_Lyf</th>\n      <th>Brand_Meizu</th>\n      <th>...</th>\n      <th>Brand_VOTO</th>\n      <th>Brand_Vivo</th>\n      <th>Brand_Xiaomi</th>\n      <th>Brand_Xiaomi Poco</th>\n      <th>Brand_Yu</th>\n      <th>Brand_iVooMi</th>\n      <th>Num_cores_312</th>\n      <th>Num_cores_Deca</th>\n      <th>Num_cores_Dual</th>\n      <th>Num_cores_Hexa</th>\n      <th>Num_cores_Octa</th>\n      <th>Num_cores_Other</th>\n      <th>Num_cores_Quad</th>\n      <th>Num_cores_Tru-Octa</th>\n      <th>os_name_Android</th>\n      <th>os_name_Blackberry</th>\n      <th>os_name_KAI</th>\n      <th>os_name_Nokia</th>\n      <th>os_name_Other</th>\n      <th>os_name_Tizen</th>\n      <th>os_name_iOS</th>\n      <th>SIM Slot(s)_Dual SIM, GSM+CDMA</th>\n      <th>SIM Slot(s)_Dual SIM, GSM+GSM</th>\n      <th>SIM Slot(s)_Dual SIM, GSM+GSM, Dual VoLTE</th>\n      <th>SIM Slot(s)_Single SIM, GSM</th>\n      <th>SIM 2_2G</th>\n      <th>SIM 2_3G</th>\n      <th>SIM 2_4G</th>\n      <th>SIM 2_Other</th>\n      <th>Rating</th>\n      <th>Capacity_bin</th>\n      <th>Pixel Density_bin</th>\n      <th>Resolution_bin</th>\n      <th>Weight_bin</th>\n      <th>Screen to Body Ratio_bin</th>\n      <th>Internal memory_bin</th>\n      <th>Screen Size_bin</th>\n      <th>RAM_bin</th>\n      <th>Processor_frequency_bin</th>\n      <th>Height_bin</th>\n    </tr>\n  </thead>\n  <tbody>\n    <tr>\n      <th>0</th>\n      <td>0</td>\n      <td>4000</td>\n      <td>1.8</td>\n      <td>157.9</td>\n      <td>182</td>\n      <td>80.68</td>\n      <td>403</td>\n      <td>64</td>\n      <td>4</td>\n      <td>6.26</td>\n      <td>20</td>\n      <td>0</td>\n      <td>0</td>\n      <td>1</td>\n      <td>0</td>\n      <td>0</td>\n      <td>0</td>\n      <td>0</td>\n      <td>0</td>\n      <td>0</td>\n      <td>0</td>\n      <td>0</td>\n      <td>0</td>\n      <td>0</td>\n      <td>0</td>\n      <td>0</td>\n      <td>0</td>\n      <td>0</td>\n      <td>0</td>\n      <td>0</td>\n      <td>0</td>\n      <td>0</td>\n      <td>0</td>\n      <td>0</td>\n      <td>0</td>\n      <td>0</td>\n      <td>0</td>\n      <td>0</td>\n      <td>0</td>\n      <td>0</td>\n      <td>...</td>\n      <td>0</td>\n      <td>0</td>\n      <td>1</td>\n      <td>0</td>\n      <td>0</td>\n      <td>0</td>\n      <td>0</td>\n      <td>0</td>\n      <td>0</td>\n      <td>0</td>\n      <td>1</td>\n      <td>0</td>\n      <td>0</td>\n      <td>0</td>\n      <td>1</td>\n      <td>0</td>\n      <td>0</td>\n      <td>0</td>\n      <td>0</td>\n      <td>0</td>\n      <td>0</td>\n      <td>0</td>\n      <td>0</td>\n      <td>1</td>\n      <td>0</td>\n      <td>0</td>\n      <td>0</td>\n      <td>1</td>\n      <td>0</td>\n      <td>4.5</td>\n      <td>1</td>\n      <td>1</td>\n      <td>1</td>\n      <td>1</td>\n      <td>1</td>\n      <td>1</td>\n      <td>1</td>\n      <td>0</td>\n      <td>1</td>\n      <td>1</td>\n    </tr>\n    <tr>\n      <th>1</th>\n      <td>1</td>\n      <td>4230</td>\n      <td>1.8</td>\n      <td>156.2</td>\n      <td>168</td>\n      <td>80.85</td>\n      <td>271</td>\n      <td>32</td>\n      <td>3</td>\n      <td>6.20</td>\n      <td>8</td>\n      <td>0</td>\n      <td>0</td>\n      <td>1</td>\n      <td>0</td>\n      <td>0</td>\n      <td>0</td>\n      <td>0</td>\n      <td>0</td>\n      <td>0</td>\n      <td>0</td>\n      <td>0</td>\n      <td>0</td>\n      <td>0</td>\n      <td>0</td>\n      <td>0</td>\n      <td>0</td>\n      <td>0</td>\n      <td>0</td>\n      <td>0</td>\n      <td>0</td>\n      <td>0</td>\n      <td>0</td>\n      <td>0</td>\n      <td>0</td>\n      <td>0</td>\n      <td>0</td>\n      <td>0</td>\n      <td>0</td>\n      <td>0</td>\n      <td>...</td>\n      <td>0</td>\n      <td>0</td>\n      <td>0</td>\n      <td>0</td>\n      <td>0</td>\n      <td>0</td>\n      <td>0</td>\n      <td>0</td>\n      <td>0</td>\n      <td>0</td>\n      <td>1</td>\n      <td>0</td>\n      <td>0</td>\n      <td>0</td>\n      <td>1</td>\n      <td>0</td>\n      <td>0</td>\n      <td>0</td>\n      <td>0</td>\n      <td>0</td>\n      <td>0</td>\n      <td>0</td>\n      <td>0</td>\n      <td>1</td>\n      <td>0</td>\n      <td>0</td>\n      <td>0</td>\n      <td>1</td>\n      <td>0</td>\n      <td>4.5</td>\n      <td>1</td>\n      <td>0</td>\n      <td>0</td>\n      <td>1</td>\n      <td>1</td>\n      <td>0</td>\n      <td>1</td>\n      <td>0</td>\n      <td>1</td>\n      <td>1</td>\n    </tr>\n    <tr>\n      <th>2</th>\n      <td>2</td>\n      <td>3500</td>\n      <td>2.1</td>\n      <td>157.0</td>\n      <td>168</td>\n      <td>83.68</td>\n      <td>409</td>\n      <td>32</td>\n      <td>3</td>\n      <td>6.30</td>\n      <td>25</td>\n      <td>0</td>\n      <td>0</td>\n      <td>1</td>\n      <td>0</td>\n      <td>0</td>\n      <td>0</td>\n      <td>0</td>\n      <td>0</td>\n      <td>0</td>\n      <td>0</td>\n      <td>0</td>\n      <td>0</td>\n      <td>0</td>\n      <td>0</td>\n      <td>0</td>\n      <td>0</td>\n      <td>0</td>\n      <td>0</td>\n      <td>0</td>\n      <td>0</td>\n      <td>0</td>\n      <td>0</td>\n      <td>0</td>\n      <td>0</td>\n      <td>0</td>\n      <td>0</td>\n      <td>0</td>\n      <td>0</td>\n      <td>0</td>\n      <td>...</td>\n      <td>0</td>\n      <td>0</td>\n      <td>0</td>\n      <td>0</td>\n      <td>0</td>\n      <td>0</td>\n      <td>0</td>\n      <td>0</td>\n      <td>0</td>\n      <td>0</td>\n      <td>1</td>\n      <td>0</td>\n      <td>0</td>\n      <td>0</td>\n      <td>1</td>\n      <td>0</td>\n      <td>0</td>\n      <td>0</td>\n      <td>0</td>\n      <td>0</td>\n      <td>0</td>\n      <td>0</td>\n      <td>0</td>\n      <td>1</td>\n      <td>0</td>\n      <td>0</td>\n      <td>0</td>\n      <td>1</td>\n      <td>0</td>\n      <td>4.4</td>\n      <td>1</td>\n      <td>1</td>\n      <td>1</td>\n      <td>1</td>\n      <td>1</td>\n      <td>0</td>\n      <td>1</td>\n      <td>0</td>\n      <td>1</td>\n      <td>1</td>\n    </tr>\n    <tr>\n      <th>3</th>\n      <td>4</td>\n      <td>3300</td>\n      <td>2.2</td>\n      <td>159.8</td>\n      <td>169</td>\n      <td>74.78</td>\n      <td>411</td>\n      <td>64</td>\n      <td>4</td>\n      <td>6.00</td>\n      <td>24</td>\n      <td>0</td>\n      <td>0</td>\n      <td>1</td>\n      <td>0</td>\n      <td>0</td>\n      <td>0</td>\n      <td>0</td>\n      <td>0</td>\n      <td>0</td>\n      <td>0</td>\n      <td>0</td>\n      <td>0</td>\n      <td>0</td>\n      <td>0</td>\n      <td>0</td>\n      <td>0</td>\n      <td>0</td>\n      <td>0</td>\n      <td>0</td>\n      <td>0</td>\n      <td>0</td>\n      <td>0</td>\n      <td>0</td>\n      <td>0</td>\n      <td>0</td>\n      <td>0</td>\n      <td>0</td>\n      <td>0</td>\n      <td>0</td>\n      <td>...</td>\n      <td>0</td>\n      <td>0</td>\n      <td>0</td>\n      <td>0</td>\n      <td>0</td>\n      <td>0</td>\n      <td>0</td>\n      <td>0</td>\n      <td>0</td>\n      <td>0</td>\n      <td>1</td>\n      <td>0</td>\n      <td>0</td>\n      <td>0</td>\n      <td>1</td>\n      <td>0</td>\n      <td>0</td>\n      <td>0</td>\n      <td>0</td>\n      <td>0</td>\n      <td>0</td>\n      <td>0</td>\n      <td>1</td>\n      <td>0</td>\n      <td>0</td>\n      <td>0</td>\n      <td>0</td>\n      <td>1</td>\n      <td>0</td>\n      <td>4.3</td>\n      <td>1</td>\n      <td>1</td>\n      <td>1</td>\n      <td>1</td>\n      <td>1</td>\n      <td>1</td>\n      <td>1</td>\n      <td>0</td>\n      <td>1</td>\n      <td>1</td>\n    </tr>\n    <tr>\n      <th>4</th>\n      <td>5</td>\n      <td>3750</td>\n      <td>2.2</td>\n      <td>160.4</td>\n      <td>175</td>\n      <td>84.23</td>\n      <td>396</td>\n      <td>64</td>\n      <td>4</td>\n      <td>6.50</td>\n      <td>16</td>\n      <td>0</td>\n      <td>0</td>\n      <td>1</td>\n      <td>0</td>\n      <td>0</td>\n      <td>0</td>\n      <td>0</td>\n      <td>0</td>\n      <td>0</td>\n      <td>0</td>\n      <td>0</td>\n      <td>0</td>\n      <td>0</td>\n      <td>0</td>\n      <td>1</td>\n      <td>0</td>\n      <td>0</td>\n      <td>0</td>\n      <td>0</td>\n      <td>0</td>\n      <td>0</td>\n      <td>0</td>\n      <td>0</td>\n      <td>0</td>\n      <td>0</td>\n      <td>0</td>\n      <td>0</td>\n      <td>0</td>\n      <td>0</td>\n      <td>...</td>\n      <td>0</td>\n      <td>0</td>\n      <td>0</td>\n      <td>0</td>\n      <td>0</td>\n      <td>0</td>\n      <td>0</td>\n      <td>0</td>\n      <td>0</td>\n      <td>0</td>\n      <td>1</td>\n      <td>0</td>\n      <td>0</td>\n      <td>0</td>\n      <td>1</td>\n      <td>0</td>\n      <td>0</td>\n      <td>0</td>\n      <td>0</td>\n      <td>0</td>\n      <td>0</td>\n      <td>0</td>\n      <td>0</td>\n      <td>1</td>\n      <td>0</td>\n      <td>0</td>\n      <td>0</td>\n      <td>1</td>\n      <td>0</td>\n      <td>4.4</td>\n      <td>1</td>\n      <td>1</td>\n      <td>1</td>\n      <td>1</td>\n      <td>1</td>\n      <td>1</td>\n      <td>1</td>\n      <td>0</td>\n      <td>1</td>\n      <td>1</td>\n    </tr>\n  </tbody>\n</table>\n</div>"
          },
          "metadata": {}
        }
      ]
    },
    {
      "metadata": {
        "trusted": true,
        "_uuid": "dffc3dba1c9ff52c58631db1fa7b34c58c78014f",
        "id": "ajagE-vX7QTY",
        "colab_type": "code",
        "colab": {}
      },
      "cell_type": "code",
      "source": "X_train=train_new.drop('Rating',axis=1)\n\n",
      "execution_count": 695,
      "outputs": []
    },
    {
      "metadata": {
        "trusted": true,
        "_uuid": "03f09e3741a82817fc2bfc3ad6aa53c0b00cb833",
        "id": "46IiTjOu7QTc",
        "colab_type": "code",
        "colab": {}
      },
      "cell_type": "code",
      "source": "X_train=train_new.drop('Capacity',axis=1)\n",
      "execution_count": 696,
      "outputs": []
    },
    {
      "metadata": {
        "trusted": true,
        "_uuid": "6b513b2c5bafdfccaec8accec52a22e38efc5147",
        "id": "sISKQb0r7QTg",
        "colab_type": "code",
        "colab": {}
      },
      "cell_type": "code",
      "source": "X_train=train_new.drop('Pixel Density',axis=1)",
      "execution_count": 697,
      "outputs": []
    },
    {
      "metadata": {
        "trusted": true,
        "_uuid": "31c76170d02db893e24ab3eba5a04441f31d6097",
        "id": "hbyNqYTt7QTl",
        "colab_type": "code",
        "colab": {}
      },
      "cell_type": "code",
      "source": "X_train=train_new.drop('Weight',axis=1)",
      "execution_count": 698,
      "outputs": []
    },
    {
      "metadata": {
        "trusted": true,
        "_uuid": "8ef1acc718cf0e0beb536ec319786d3ad3f2848d",
        "id": "cj2ORR357QTo",
        "colab_type": "code",
        "colab": {}
      },
      "cell_type": "code",
      "source": "X_train=train_new.drop('Resolution',axis=1)",
      "execution_count": 699,
      "outputs": []
    },
    {
      "metadata": {
        "trusted": true,
        "_uuid": "c982f66458c4f5fc1c94e13e2b054a98ab6b115e",
        "id": "zDh2zs4Y7QTu",
        "colab_type": "code",
        "colab": {}
      },
      "cell_type": "code",
      "source": "X_train=train_new.drop('Screen to Body Ratio (calculated)',axis=1)",
      "execution_count": 700,
      "outputs": []
    },
    {
      "metadata": {
        "trusted": true,
        "_uuid": "1d7b6217c8034e9797cff2cc9f03011f4d899425",
        "id": "0hqwBYYU7QT2",
        "colab_type": "code",
        "colab": {}
      },
      "cell_type": "code",
      "source": "X_train=train_new.drop('Internal Memory',axis=1)",
      "execution_count": 701,
      "outputs": []
    },
    {
      "metadata": {
        "trusted": true,
        "_uuid": "4a7a7f1d9ae4e749c8435bd9492802f7ff82355e",
        "id": "EhUx4w5y7QT6",
        "colab_type": "code",
        "colab": {}
      },
      "cell_type": "code",
      "source": "X_train=train_new.drop('Screen Size',axis=1)",
      "execution_count": 702,
      "outputs": []
    },
    {
      "metadata": {
        "trusted": true,
        "_uuid": "1b216ea6e91b1095ca05f6173bfc98e6801bf793",
        "id": "NE8wvfIl7QT9",
        "colab_type": "code",
        "colab": {}
      },
      "cell_type": "code",
      "source": "X_train=train_new.drop('RAM',axis=1)",
      "execution_count": 703,
      "outputs": []
    },
    {
      "metadata": {
        "trusted": true,
        "_uuid": "48b03fd7bd0f613e44a9d56b4220f8e01cfc68e4",
        "id": "0lI4Zqbx7QUA",
        "colab_type": "code",
        "colab": {}
      },
      "cell_type": "code",
      "source": "X_train=train_new.drop('Height',axis=1)",
      "execution_count": 704,
      "outputs": []
    },
    {
      "metadata": {
        "trusted": true,
        "_uuid": "039bdba5321dcf7b51aafe95bc7ec7a52533ab6f",
        "id": "h-t0lchU7QUD",
        "colab_type": "code",
        "colab": {}
      },
      "cell_type": "code",
      "source": "X_train=train_new.drop('Processor_frequency',axis=1)",
      "execution_count": 705,
      "outputs": []
    },
    {
      "metadata": {
        "trusted": true,
        "_uuid": "810a41f62fe43f61924630cd3dc20fd1b2259c67",
        "id": "fkNRsY447QUK",
        "colab_type": "code",
        "colab": {}
      },
      "cell_type": "code",
      "source": "",
      "execution_count": null,
      "outputs": []
    },
    {
      "metadata": {
        "trusted": true,
        "_uuid": "63313af6ab0434e0f623d820e203b1828c579900",
        "id": "SOTQsIO17QUQ",
        "colab_type": "code",
        "colab": {}
      },
      "cell_type": "code",
      "source": "X_train=train_new.drop('Rating',axis=1)\nX_train=X_train.drop('Capacity',axis=1)\nX_train=X_train.drop('Pixel Density',axis=1)\nX_train=X_train.drop('Weight',axis=1)\nX_train=X_train.drop('Resolution',axis=1)\nX_train=X_train.drop('Screen to Body Ratio (calculated)',axis=1)\nX_train=X_train.drop('Internal Memory',axis=1)\nX_train=X_train.drop('Screen Size',axis=1)\nX_train=X_train.drop('RAM',axis=1)\nX_train=X_train.drop('Height',axis=1)\nX_train=X_train.drop('Processor_frequency',axis=1)\nX_train=X_train.drop('PhoneId',axis=1)",
      "execution_count": 706,
      "outputs": []
    },
    {
      "metadata": {
        "trusted": true,
        "_uuid": "87253358f171f577a2212bab2ebd91f8dcdb049b",
        "id": "a4cLgO-g7QUT",
        "colab_type": "code",
        "colab": {}
      },
      "cell_type": "code",
      "source": "\nX_test=test_new.drop('Capacity',axis=1)\nX_test=X_test.drop('Pixel Density',axis=1)\nX_test=X_test.drop('Weight',axis=1)\nX_test=X_test.drop('Resolution',axis=1)\nX_test=X_test.drop('Screen to Body Ratio (calculated)',axis=1)\nX_test=X_test.drop('Internal Memory',axis=1)\nX_test=X_test.drop('Screen Size',axis=1)\nX_test=X_test.drop('RAM',axis=1)\nX_test=X_test.drop('Height',axis=1)\nX_test=X_test.drop('Processor_frequency',axis=1)\nX_test=X_test.drop('PhoneId',axis=1)",
      "execution_count": 707,
      "outputs": []
    },
    {
      "metadata": {
        "trusted": true,
        "_uuid": "3d1515e74c5b4e0aba3b024e19f9adf400de6504",
        "id": "8MX0xQPh7QUW",
        "colab_type": "code",
        "colab": {
          "base_uri": "https://localhost:8080/",
          "height": 321
        },
        "outputId": "5b390439-1ff0-4201-ca45-3823873c0557"
      },
      "cell_type": "code",
      "source": "X_train.head()",
      "execution_count": 708,
      "outputs": [
        {
          "output_type": "execute_result",
          "execution_count": 708,
          "data": {
            "text/plain": "   Sim1_2G  Sim1_3G     ...      Processor_frequency_bin  Height_bin\n0        0        0     ...                            1           1\n1        0        0     ...                            1           1\n2        0        0     ...                            1           1\n3        0        0     ...                            1           1\n4        0        0     ...                            1           1\n\n[5 rows x 86 columns]",
            "text/html": "<div>\n<style scoped>\n    .dataframe tbody tr th:only-of-type {\n        vertical-align: middle;\n    }\n\n    .dataframe tbody tr th {\n        vertical-align: top;\n    }\n\n    .dataframe thead th {\n        text-align: right;\n    }\n</style>\n<table border=\"1\" class=\"dataframe\">\n  <thead>\n    <tr style=\"text-align: right;\">\n      <th></th>\n      <th>Sim1_2G</th>\n      <th>Sim1_3G</th>\n      <th>Sim1_4G</th>\n      <th>Brand_10.or</th>\n      <th>Brand_Apple</th>\n      <th>Brand_Asus</th>\n      <th>Brand_Billion</th>\n      <th>Brand_Blackberry</th>\n      <th>Brand_Comio</th>\n      <th>Brand_Coolpad</th>\n      <th>Brand_Do</th>\n      <th>Brand_Gionee</th>\n      <th>Brand_Google</th>\n      <th>Brand_HTC</th>\n      <th>Brand_Honor</th>\n      <th>Brand_Huawei</th>\n      <th>Brand_InFocus</th>\n      <th>Brand_Infinix</th>\n      <th>Brand_Intex</th>\n      <th>Brand_Itel</th>\n      <th>Brand_Jivi</th>\n      <th>Brand_Karbonn</th>\n      <th>Brand_LG</th>\n      <th>Brand_Lava</th>\n      <th>Brand_LeEco</th>\n      <th>Brand_Lenovo</th>\n      <th>Brand_Lephone</th>\n      <th>Brand_Lyf</th>\n      <th>Brand_Meizu</th>\n      <th>Brand_Micromax</th>\n      <th>Brand_Mobiistar</th>\n      <th>Brand_Moto</th>\n      <th>Brand_Motorola</th>\n      <th>Brand_Nokia</th>\n      <th>Brand_Nubia</th>\n      <th>Brand_OPPO</th>\n      <th>Brand_OnePlus</th>\n      <th>Brand_Oppo</th>\n      <th>Brand_Panasonic</th>\n      <th>Brand_Razer</th>\n      <th>...</th>\n      <th>Brand_Ulefone</th>\n      <th>Brand_VOTO</th>\n      <th>Brand_Vivo</th>\n      <th>Brand_Xiaomi</th>\n      <th>Brand_Xiaomi Poco</th>\n      <th>Brand_Yu</th>\n      <th>Brand_iVooMi</th>\n      <th>Num_cores_312</th>\n      <th>Num_cores_Deca</th>\n      <th>Num_cores_Dual</th>\n      <th>Num_cores_Hexa</th>\n      <th>Num_cores_Octa</th>\n      <th>Num_cores_Other</th>\n      <th>Num_cores_Quad</th>\n      <th>Num_cores_Tru-Octa</th>\n      <th>os_name_Android</th>\n      <th>os_name_Blackberry</th>\n      <th>os_name_KAI</th>\n      <th>os_name_Nokia</th>\n      <th>os_name_Other</th>\n      <th>os_name_Tizen</th>\n      <th>os_name_iOS</th>\n      <th>SIM Slot(s)_Dual SIM, GSM+CDMA</th>\n      <th>SIM Slot(s)_Dual SIM, GSM+GSM</th>\n      <th>SIM Slot(s)_Dual SIM, GSM+GSM, Dual VoLTE</th>\n      <th>SIM Slot(s)_Single SIM, GSM</th>\n      <th>SIM 2_2G</th>\n      <th>SIM 2_3G</th>\n      <th>SIM 2_4G</th>\n      <th>SIM 2_Other</th>\n      <th>Capacity_bin</th>\n      <th>Pixel Density_bin</th>\n      <th>Resolution_bin</th>\n      <th>Weight_bin</th>\n      <th>Screen to Body Ratio_bin</th>\n      <th>Internal memory_bin</th>\n      <th>Screen Size_bin</th>\n      <th>RAM_bin</th>\n      <th>Processor_frequency_bin</th>\n      <th>Height_bin</th>\n    </tr>\n  </thead>\n  <tbody>\n    <tr>\n      <th>0</th>\n      <td>0</td>\n      <td>0</td>\n      <td>1</td>\n      <td>0</td>\n      <td>0</td>\n      <td>0</td>\n      <td>0</td>\n      <td>0</td>\n      <td>0</td>\n      <td>0</td>\n      <td>0</td>\n      <td>0</td>\n      <td>0</td>\n      <td>0</td>\n      <td>0</td>\n      <td>0</td>\n      <td>0</td>\n      <td>0</td>\n      <td>0</td>\n      <td>0</td>\n      <td>0</td>\n      <td>0</td>\n      <td>0</td>\n      <td>0</td>\n      <td>0</td>\n      <td>0</td>\n      <td>0</td>\n      <td>0</td>\n      <td>0</td>\n      <td>0</td>\n      <td>0</td>\n      <td>0</td>\n      <td>0</td>\n      <td>0</td>\n      <td>0</td>\n      <td>0</td>\n      <td>0</td>\n      <td>0</td>\n      <td>0</td>\n      <td>0</td>\n      <td>...</td>\n      <td>0</td>\n      <td>0</td>\n      <td>0</td>\n      <td>1</td>\n      <td>0</td>\n      <td>0</td>\n      <td>0</td>\n      <td>0</td>\n      <td>0</td>\n      <td>0</td>\n      <td>0</td>\n      <td>1</td>\n      <td>0</td>\n      <td>0</td>\n      <td>0</td>\n      <td>1</td>\n      <td>0</td>\n      <td>0</td>\n      <td>0</td>\n      <td>0</td>\n      <td>0</td>\n      <td>0</td>\n      <td>0</td>\n      <td>0</td>\n      <td>1</td>\n      <td>0</td>\n      <td>0</td>\n      <td>0</td>\n      <td>1</td>\n      <td>0</td>\n      <td>1</td>\n      <td>1</td>\n      <td>1</td>\n      <td>1</td>\n      <td>1</td>\n      <td>1</td>\n      <td>1</td>\n      <td>0</td>\n      <td>1</td>\n      <td>1</td>\n    </tr>\n    <tr>\n      <th>1</th>\n      <td>0</td>\n      <td>0</td>\n      <td>1</td>\n      <td>0</td>\n      <td>0</td>\n      <td>0</td>\n      <td>0</td>\n      <td>0</td>\n      <td>0</td>\n      <td>0</td>\n      <td>0</td>\n      <td>0</td>\n      <td>0</td>\n      <td>0</td>\n      <td>0</td>\n      <td>0</td>\n      <td>0</td>\n      <td>0</td>\n      <td>0</td>\n      <td>0</td>\n      <td>0</td>\n      <td>0</td>\n      <td>0</td>\n      <td>0</td>\n      <td>0</td>\n      <td>0</td>\n      <td>0</td>\n      <td>0</td>\n      <td>0</td>\n      <td>0</td>\n      <td>0</td>\n      <td>0</td>\n      <td>0</td>\n      <td>0</td>\n      <td>0</td>\n      <td>0</td>\n      <td>0</td>\n      <td>0</td>\n      <td>0</td>\n      <td>0</td>\n      <td>...</td>\n      <td>0</td>\n      <td>0</td>\n      <td>0</td>\n      <td>0</td>\n      <td>0</td>\n      <td>0</td>\n      <td>0</td>\n      <td>0</td>\n      <td>0</td>\n      <td>0</td>\n      <td>0</td>\n      <td>1</td>\n      <td>0</td>\n      <td>0</td>\n      <td>0</td>\n      <td>1</td>\n      <td>0</td>\n      <td>0</td>\n      <td>0</td>\n      <td>0</td>\n      <td>0</td>\n      <td>0</td>\n      <td>0</td>\n      <td>0</td>\n      <td>1</td>\n      <td>0</td>\n      <td>0</td>\n      <td>0</td>\n      <td>1</td>\n      <td>0</td>\n      <td>1</td>\n      <td>0</td>\n      <td>0</td>\n      <td>1</td>\n      <td>1</td>\n      <td>0</td>\n      <td>1</td>\n      <td>0</td>\n      <td>1</td>\n      <td>1</td>\n    </tr>\n    <tr>\n      <th>2</th>\n      <td>0</td>\n      <td>0</td>\n      <td>1</td>\n      <td>0</td>\n      <td>0</td>\n      <td>0</td>\n      <td>0</td>\n      <td>0</td>\n      <td>0</td>\n      <td>0</td>\n      <td>0</td>\n      <td>0</td>\n      <td>0</td>\n      <td>0</td>\n      <td>0</td>\n      <td>0</td>\n      <td>0</td>\n      <td>0</td>\n      <td>0</td>\n      <td>0</td>\n      <td>0</td>\n      <td>0</td>\n      <td>0</td>\n      <td>0</td>\n      <td>0</td>\n      <td>0</td>\n      <td>0</td>\n      <td>0</td>\n      <td>0</td>\n      <td>0</td>\n      <td>0</td>\n      <td>0</td>\n      <td>0</td>\n      <td>0</td>\n      <td>0</td>\n      <td>0</td>\n      <td>0</td>\n      <td>0</td>\n      <td>0</td>\n      <td>0</td>\n      <td>...</td>\n      <td>0</td>\n      <td>0</td>\n      <td>0</td>\n      <td>0</td>\n      <td>0</td>\n      <td>0</td>\n      <td>0</td>\n      <td>0</td>\n      <td>0</td>\n      <td>0</td>\n      <td>0</td>\n      <td>1</td>\n      <td>0</td>\n      <td>0</td>\n      <td>0</td>\n      <td>1</td>\n      <td>0</td>\n      <td>0</td>\n      <td>0</td>\n      <td>0</td>\n      <td>0</td>\n      <td>0</td>\n      <td>0</td>\n      <td>0</td>\n      <td>1</td>\n      <td>0</td>\n      <td>0</td>\n      <td>0</td>\n      <td>1</td>\n      <td>0</td>\n      <td>1</td>\n      <td>1</td>\n      <td>1</td>\n      <td>1</td>\n      <td>1</td>\n      <td>0</td>\n      <td>1</td>\n      <td>0</td>\n      <td>1</td>\n      <td>1</td>\n    </tr>\n    <tr>\n      <th>3</th>\n      <td>0</td>\n      <td>0</td>\n      <td>1</td>\n      <td>0</td>\n      <td>0</td>\n      <td>0</td>\n      <td>0</td>\n      <td>0</td>\n      <td>0</td>\n      <td>0</td>\n      <td>0</td>\n      <td>0</td>\n      <td>0</td>\n      <td>0</td>\n      <td>0</td>\n      <td>0</td>\n      <td>0</td>\n      <td>0</td>\n      <td>0</td>\n      <td>0</td>\n      <td>0</td>\n      <td>0</td>\n      <td>0</td>\n      <td>0</td>\n      <td>0</td>\n      <td>0</td>\n      <td>0</td>\n      <td>0</td>\n      <td>0</td>\n      <td>0</td>\n      <td>0</td>\n      <td>0</td>\n      <td>0</td>\n      <td>0</td>\n      <td>0</td>\n      <td>0</td>\n      <td>0</td>\n      <td>0</td>\n      <td>0</td>\n      <td>0</td>\n      <td>...</td>\n      <td>0</td>\n      <td>0</td>\n      <td>0</td>\n      <td>0</td>\n      <td>0</td>\n      <td>0</td>\n      <td>0</td>\n      <td>0</td>\n      <td>0</td>\n      <td>0</td>\n      <td>0</td>\n      <td>1</td>\n      <td>0</td>\n      <td>0</td>\n      <td>0</td>\n      <td>1</td>\n      <td>0</td>\n      <td>0</td>\n      <td>0</td>\n      <td>0</td>\n      <td>0</td>\n      <td>0</td>\n      <td>0</td>\n      <td>1</td>\n      <td>0</td>\n      <td>0</td>\n      <td>0</td>\n      <td>0</td>\n      <td>1</td>\n      <td>0</td>\n      <td>1</td>\n      <td>1</td>\n      <td>1</td>\n      <td>1</td>\n      <td>1</td>\n      <td>1</td>\n      <td>1</td>\n      <td>0</td>\n      <td>1</td>\n      <td>1</td>\n    </tr>\n    <tr>\n      <th>4</th>\n      <td>0</td>\n      <td>0</td>\n      <td>1</td>\n      <td>0</td>\n      <td>0</td>\n      <td>0</td>\n      <td>0</td>\n      <td>0</td>\n      <td>0</td>\n      <td>0</td>\n      <td>0</td>\n      <td>0</td>\n      <td>0</td>\n      <td>0</td>\n      <td>1</td>\n      <td>0</td>\n      <td>0</td>\n      <td>0</td>\n      <td>0</td>\n      <td>0</td>\n      <td>0</td>\n      <td>0</td>\n      <td>0</td>\n      <td>0</td>\n      <td>0</td>\n      <td>0</td>\n      <td>0</td>\n      <td>0</td>\n      <td>0</td>\n      <td>0</td>\n      <td>0</td>\n      <td>0</td>\n      <td>0</td>\n      <td>0</td>\n      <td>0</td>\n      <td>0</td>\n      <td>0</td>\n      <td>0</td>\n      <td>0</td>\n      <td>0</td>\n      <td>...</td>\n      <td>0</td>\n      <td>0</td>\n      <td>0</td>\n      <td>0</td>\n      <td>0</td>\n      <td>0</td>\n      <td>0</td>\n      <td>0</td>\n      <td>0</td>\n      <td>0</td>\n      <td>0</td>\n      <td>1</td>\n      <td>0</td>\n      <td>0</td>\n      <td>0</td>\n      <td>1</td>\n      <td>0</td>\n      <td>0</td>\n      <td>0</td>\n      <td>0</td>\n      <td>0</td>\n      <td>0</td>\n      <td>0</td>\n      <td>0</td>\n      <td>1</td>\n      <td>0</td>\n      <td>0</td>\n      <td>0</td>\n      <td>1</td>\n      <td>0</td>\n      <td>1</td>\n      <td>1</td>\n      <td>1</td>\n      <td>1</td>\n      <td>1</td>\n      <td>1</td>\n      <td>1</td>\n      <td>0</td>\n      <td>1</td>\n      <td>1</td>\n    </tr>\n  </tbody>\n</table>\n</div>"
          },
          "metadata": {}
        }
      ]
    },
    {
      "metadata": {
        "trusted": true,
        "_uuid": "95e313436db8aed8ed5e36654363f645015cc647",
        "id": "V_BGswmo7QUa",
        "colab_type": "code",
        "colab": {}
      },
      "cell_type": "code",
      "source": "Y_train=train_new[\"Rating\"]",
      "execution_count": 709,
      "outputs": []
    },
    {
      "metadata": {
        "trusted": true,
        "_uuid": "15f4d90efe23eacc881e05377c2f20633f216e66",
        "id": "GF3_Y6F37QUg",
        "colab_type": "code",
        "colab": {
          "base_uri": "https://localhost:8080/",
          "height": 321
        },
        "outputId": "85887558-5b04-46d5-f4fe-0c1639a39db1"
      },
      "cell_type": "code",
      "source": "X_train.head()",
      "execution_count": 710,
      "outputs": [
        {
          "output_type": "execute_result",
          "execution_count": 710,
          "data": {
            "text/plain": "   Sim1_2G  Sim1_3G     ...      Processor_frequency_bin  Height_bin\n0        0        0     ...                            1           1\n1        0        0     ...                            1           1\n2        0        0     ...                            1           1\n3        0        0     ...                            1           1\n4        0        0     ...                            1           1\n\n[5 rows x 86 columns]",
            "text/html": "<div>\n<style scoped>\n    .dataframe tbody tr th:only-of-type {\n        vertical-align: middle;\n    }\n\n    .dataframe tbody tr th {\n        vertical-align: top;\n    }\n\n    .dataframe thead th {\n        text-align: right;\n    }\n</style>\n<table border=\"1\" class=\"dataframe\">\n  <thead>\n    <tr style=\"text-align: right;\">\n      <th></th>\n      <th>Sim1_2G</th>\n      <th>Sim1_3G</th>\n      <th>Sim1_4G</th>\n      <th>Brand_10.or</th>\n      <th>Brand_Apple</th>\n      <th>Brand_Asus</th>\n      <th>Brand_Billion</th>\n      <th>Brand_Blackberry</th>\n      <th>Brand_Comio</th>\n      <th>Brand_Coolpad</th>\n      <th>Brand_Do</th>\n      <th>Brand_Gionee</th>\n      <th>Brand_Google</th>\n      <th>Brand_HTC</th>\n      <th>Brand_Honor</th>\n      <th>Brand_Huawei</th>\n      <th>Brand_InFocus</th>\n      <th>Brand_Infinix</th>\n      <th>Brand_Intex</th>\n      <th>Brand_Itel</th>\n      <th>Brand_Jivi</th>\n      <th>Brand_Karbonn</th>\n      <th>Brand_LG</th>\n      <th>Brand_Lava</th>\n      <th>Brand_LeEco</th>\n      <th>Brand_Lenovo</th>\n      <th>Brand_Lephone</th>\n      <th>Brand_Lyf</th>\n      <th>Brand_Meizu</th>\n      <th>Brand_Micromax</th>\n      <th>Brand_Mobiistar</th>\n      <th>Brand_Moto</th>\n      <th>Brand_Motorola</th>\n      <th>Brand_Nokia</th>\n      <th>Brand_Nubia</th>\n      <th>Brand_OPPO</th>\n      <th>Brand_OnePlus</th>\n      <th>Brand_Oppo</th>\n      <th>Brand_Panasonic</th>\n      <th>Brand_Razer</th>\n      <th>...</th>\n      <th>Brand_Ulefone</th>\n      <th>Brand_VOTO</th>\n      <th>Brand_Vivo</th>\n      <th>Brand_Xiaomi</th>\n      <th>Brand_Xiaomi Poco</th>\n      <th>Brand_Yu</th>\n      <th>Brand_iVooMi</th>\n      <th>Num_cores_312</th>\n      <th>Num_cores_Deca</th>\n      <th>Num_cores_Dual</th>\n      <th>Num_cores_Hexa</th>\n      <th>Num_cores_Octa</th>\n      <th>Num_cores_Other</th>\n      <th>Num_cores_Quad</th>\n      <th>Num_cores_Tru-Octa</th>\n      <th>os_name_Android</th>\n      <th>os_name_Blackberry</th>\n      <th>os_name_KAI</th>\n      <th>os_name_Nokia</th>\n      <th>os_name_Other</th>\n      <th>os_name_Tizen</th>\n      <th>os_name_iOS</th>\n      <th>SIM Slot(s)_Dual SIM, GSM+CDMA</th>\n      <th>SIM Slot(s)_Dual SIM, GSM+GSM</th>\n      <th>SIM Slot(s)_Dual SIM, GSM+GSM, Dual VoLTE</th>\n      <th>SIM Slot(s)_Single SIM, GSM</th>\n      <th>SIM 2_2G</th>\n      <th>SIM 2_3G</th>\n      <th>SIM 2_4G</th>\n      <th>SIM 2_Other</th>\n      <th>Capacity_bin</th>\n      <th>Pixel Density_bin</th>\n      <th>Resolution_bin</th>\n      <th>Weight_bin</th>\n      <th>Screen to Body Ratio_bin</th>\n      <th>Internal memory_bin</th>\n      <th>Screen Size_bin</th>\n      <th>RAM_bin</th>\n      <th>Processor_frequency_bin</th>\n      <th>Height_bin</th>\n    </tr>\n  </thead>\n  <tbody>\n    <tr>\n      <th>0</th>\n      <td>0</td>\n      <td>0</td>\n      <td>1</td>\n      <td>0</td>\n      <td>0</td>\n      <td>0</td>\n      <td>0</td>\n      <td>0</td>\n      <td>0</td>\n      <td>0</td>\n      <td>0</td>\n      <td>0</td>\n      <td>0</td>\n      <td>0</td>\n      <td>0</td>\n      <td>0</td>\n      <td>0</td>\n      <td>0</td>\n      <td>0</td>\n      <td>0</td>\n      <td>0</td>\n      <td>0</td>\n      <td>0</td>\n      <td>0</td>\n      <td>0</td>\n      <td>0</td>\n      <td>0</td>\n      <td>0</td>\n      <td>0</td>\n      <td>0</td>\n      <td>0</td>\n      <td>0</td>\n      <td>0</td>\n      <td>0</td>\n      <td>0</td>\n      <td>0</td>\n      <td>0</td>\n      <td>0</td>\n      <td>0</td>\n      <td>0</td>\n      <td>...</td>\n      <td>0</td>\n      <td>0</td>\n      <td>0</td>\n      <td>1</td>\n      <td>0</td>\n      <td>0</td>\n      <td>0</td>\n      <td>0</td>\n      <td>0</td>\n      <td>0</td>\n      <td>0</td>\n      <td>1</td>\n      <td>0</td>\n      <td>0</td>\n      <td>0</td>\n      <td>1</td>\n      <td>0</td>\n      <td>0</td>\n      <td>0</td>\n      <td>0</td>\n      <td>0</td>\n      <td>0</td>\n      <td>0</td>\n      <td>0</td>\n      <td>1</td>\n      <td>0</td>\n      <td>0</td>\n      <td>0</td>\n      <td>1</td>\n      <td>0</td>\n      <td>1</td>\n      <td>1</td>\n      <td>1</td>\n      <td>1</td>\n      <td>1</td>\n      <td>1</td>\n      <td>1</td>\n      <td>0</td>\n      <td>1</td>\n      <td>1</td>\n    </tr>\n    <tr>\n      <th>1</th>\n      <td>0</td>\n      <td>0</td>\n      <td>1</td>\n      <td>0</td>\n      <td>0</td>\n      <td>0</td>\n      <td>0</td>\n      <td>0</td>\n      <td>0</td>\n      <td>0</td>\n      <td>0</td>\n      <td>0</td>\n      <td>0</td>\n      <td>0</td>\n      <td>0</td>\n      <td>0</td>\n      <td>0</td>\n      <td>0</td>\n      <td>0</td>\n      <td>0</td>\n      <td>0</td>\n      <td>0</td>\n      <td>0</td>\n      <td>0</td>\n      <td>0</td>\n      <td>0</td>\n      <td>0</td>\n      <td>0</td>\n      <td>0</td>\n      <td>0</td>\n      <td>0</td>\n      <td>0</td>\n      <td>0</td>\n      <td>0</td>\n      <td>0</td>\n      <td>0</td>\n      <td>0</td>\n      <td>0</td>\n      <td>0</td>\n      <td>0</td>\n      <td>...</td>\n      <td>0</td>\n      <td>0</td>\n      <td>0</td>\n      <td>0</td>\n      <td>0</td>\n      <td>0</td>\n      <td>0</td>\n      <td>0</td>\n      <td>0</td>\n      <td>0</td>\n      <td>0</td>\n      <td>1</td>\n      <td>0</td>\n      <td>0</td>\n      <td>0</td>\n      <td>1</td>\n      <td>0</td>\n      <td>0</td>\n      <td>0</td>\n      <td>0</td>\n      <td>0</td>\n      <td>0</td>\n      <td>0</td>\n      <td>0</td>\n      <td>1</td>\n      <td>0</td>\n      <td>0</td>\n      <td>0</td>\n      <td>1</td>\n      <td>0</td>\n      <td>1</td>\n      <td>0</td>\n      <td>0</td>\n      <td>1</td>\n      <td>1</td>\n      <td>0</td>\n      <td>1</td>\n      <td>0</td>\n      <td>1</td>\n      <td>1</td>\n    </tr>\n    <tr>\n      <th>2</th>\n      <td>0</td>\n      <td>0</td>\n      <td>1</td>\n      <td>0</td>\n      <td>0</td>\n      <td>0</td>\n      <td>0</td>\n      <td>0</td>\n      <td>0</td>\n      <td>0</td>\n      <td>0</td>\n      <td>0</td>\n      <td>0</td>\n      <td>0</td>\n      <td>0</td>\n      <td>0</td>\n      <td>0</td>\n      <td>0</td>\n      <td>0</td>\n      <td>0</td>\n      <td>0</td>\n      <td>0</td>\n      <td>0</td>\n      <td>0</td>\n      <td>0</td>\n      <td>0</td>\n      <td>0</td>\n      <td>0</td>\n      <td>0</td>\n      <td>0</td>\n      <td>0</td>\n      <td>0</td>\n      <td>0</td>\n      <td>0</td>\n      <td>0</td>\n      <td>0</td>\n      <td>0</td>\n      <td>0</td>\n      <td>0</td>\n      <td>0</td>\n      <td>...</td>\n      <td>0</td>\n      <td>0</td>\n      <td>0</td>\n      <td>0</td>\n      <td>0</td>\n      <td>0</td>\n      <td>0</td>\n      <td>0</td>\n      <td>0</td>\n      <td>0</td>\n      <td>0</td>\n      <td>1</td>\n      <td>0</td>\n      <td>0</td>\n      <td>0</td>\n      <td>1</td>\n      <td>0</td>\n      <td>0</td>\n      <td>0</td>\n      <td>0</td>\n      <td>0</td>\n      <td>0</td>\n      <td>0</td>\n      <td>0</td>\n      <td>1</td>\n      <td>0</td>\n      <td>0</td>\n      <td>0</td>\n      <td>1</td>\n      <td>0</td>\n      <td>1</td>\n      <td>1</td>\n      <td>1</td>\n      <td>1</td>\n      <td>1</td>\n      <td>0</td>\n      <td>1</td>\n      <td>0</td>\n      <td>1</td>\n      <td>1</td>\n    </tr>\n    <tr>\n      <th>3</th>\n      <td>0</td>\n      <td>0</td>\n      <td>1</td>\n      <td>0</td>\n      <td>0</td>\n      <td>0</td>\n      <td>0</td>\n      <td>0</td>\n      <td>0</td>\n      <td>0</td>\n      <td>0</td>\n      <td>0</td>\n      <td>0</td>\n      <td>0</td>\n      <td>0</td>\n      <td>0</td>\n      <td>0</td>\n      <td>0</td>\n      <td>0</td>\n      <td>0</td>\n      <td>0</td>\n      <td>0</td>\n      <td>0</td>\n      <td>0</td>\n      <td>0</td>\n      <td>0</td>\n      <td>0</td>\n      <td>0</td>\n      <td>0</td>\n      <td>0</td>\n      <td>0</td>\n      <td>0</td>\n      <td>0</td>\n      <td>0</td>\n      <td>0</td>\n      <td>0</td>\n      <td>0</td>\n      <td>0</td>\n      <td>0</td>\n      <td>0</td>\n      <td>...</td>\n      <td>0</td>\n      <td>0</td>\n      <td>0</td>\n      <td>0</td>\n      <td>0</td>\n      <td>0</td>\n      <td>0</td>\n      <td>0</td>\n      <td>0</td>\n      <td>0</td>\n      <td>0</td>\n      <td>1</td>\n      <td>0</td>\n      <td>0</td>\n      <td>0</td>\n      <td>1</td>\n      <td>0</td>\n      <td>0</td>\n      <td>0</td>\n      <td>0</td>\n      <td>0</td>\n      <td>0</td>\n      <td>0</td>\n      <td>1</td>\n      <td>0</td>\n      <td>0</td>\n      <td>0</td>\n      <td>0</td>\n      <td>1</td>\n      <td>0</td>\n      <td>1</td>\n      <td>1</td>\n      <td>1</td>\n      <td>1</td>\n      <td>1</td>\n      <td>1</td>\n      <td>1</td>\n      <td>0</td>\n      <td>1</td>\n      <td>1</td>\n    </tr>\n    <tr>\n      <th>4</th>\n      <td>0</td>\n      <td>0</td>\n      <td>1</td>\n      <td>0</td>\n      <td>0</td>\n      <td>0</td>\n      <td>0</td>\n      <td>0</td>\n      <td>0</td>\n      <td>0</td>\n      <td>0</td>\n      <td>0</td>\n      <td>0</td>\n      <td>0</td>\n      <td>1</td>\n      <td>0</td>\n      <td>0</td>\n      <td>0</td>\n      <td>0</td>\n      <td>0</td>\n      <td>0</td>\n      <td>0</td>\n      <td>0</td>\n      <td>0</td>\n      <td>0</td>\n      <td>0</td>\n      <td>0</td>\n      <td>0</td>\n      <td>0</td>\n      <td>0</td>\n      <td>0</td>\n      <td>0</td>\n      <td>0</td>\n      <td>0</td>\n      <td>0</td>\n      <td>0</td>\n      <td>0</td>\n      <td>0</td>\n      <td>0</td>\n      <td>0</td>\n      <td>...</td>\n      <td>0</td>\n      <td>0</td>\n      <td>0</td>\n      <td>0</td>\n      <td>0</td>\n      <td>0</td>\n      <td>0</td>\n      <td>0</td>\n      <td>0</td>\n      <td>0</td>\n      <td>0</td>\n      <td>1</td>\n      <td>0</td>\n      <td>0</td>\n      <td>0</td>\n      <td>1</td>\n      <td>0</td>\n      <td>0</td>\n      <td>0</td>\n      <td>0</td>\n      <td>0</td>\n      <td>0</td>\n      <td>0</td>\n      <td>0</td>\n      <td>1</td>\n      <td>0</td>\n      <td>0</td>\n      <td>0</td>\n      <td>1</td>\n      <td>0</td>\n      <td>1</td>\n      <td>1</td>\n      <td>1</td>\n      <td>1</td>\n      <td>1</td>\n      <td>1</td>\n      <td>1</td>\n      <td>0</td>\n      <td>1</td>\n      <td>1</td>\n    </tr>\n  </tbody>\n</table>\n</div>"
          },
          "metadata": {}
        }
      ]
    },
    {
      "metadata": {
        "trusted": true,
        "_uuid": "09646f6999c75cac0ce580bb9a85473a74dc6055",
        "id": "EM_5nHwv7QUk",
        "colab_type": "code",
        "colab": {
          "base_uri": "https://localhost:8080/",
          "height": 550
        },
        "outputId": "a8cc751f-df99-4538-e5ab-83667d5f568d"
      },
      "cell_type": "code",
      "source": "plt.plot(X_train.T, '*')\nplt.xticks(rotation='vertical')\nplt.show()",
      "execution_count": 711,
      "outputs": [
        {
          "output_type": "display_data",
          "data": {
            "text/plain": "<Figure size 432x288 with 1 Axes>",
            "image/png": "[encoded data removed]"
          },
          "metadata": {}
        }
      ]
    },
    {
      "metadata": {
        "trusted": true,
        "_uuid": "bcd23aa6b3afea7ad9e61a5d2ea4c6d49cc70aaf",
        "id": "I-IT9NKF7QUn",
        "colab_type": "code",
        "colab": {
          "base_uri": "https://localhost:8080/",
          "height": 119
        },
        "outputId": "418f4e41-dc67-438e-d72f-9975a978b355"
      },
      "cell_type": "code",
      "source": "Y_train.head()",
      "execution_count": 712,
      "outputs": [
        {
          "output_type": "execute_result",
          "execution_count": 712,
          "data": {
            "text/plain": "0    4.5\n1    4.5\n2    4.4\n3    4.3\n4    4.4\nName: Rating, dtype: float64"
          },
          "metadata": {}
        }
      ]
    },
    {
      "metadata": {
        "trusted": true,
        "_uuid": "c668e8c07a0a7839e3231efd6ad2e88575668d15",
        "id": "hLreyodJ7QVD",
        "colab_type": "code",
        "colab": {}
      },
      "cell_type": "code",
      "source": "Y_binarised_train = train_new['Rating'].map(lambda x: 1 if x >= 4 else 0)",
      "execution_count": 713,
      "outputs": []
    },
    {
      "metadata": {
        "trusted": true,
        "_uuid": "f488e4f6d9dc366bb8267d755b4cc78331b5f4a2",
        "id": "zuLDURM47QVI",
        "colab_type": "code",
        "colab": {
          "base_uri": "https://localhost:8080/",
          "height": 119
        },
        "outputId": "8108a20b-5edd-4c08-ad1b-2185c744cf5c"
      },
      "cell_type": "code",
      "source": "Y_binarised_train.head()",
      "execution_count": 714,
      "outputs": [
        {
          "output_type": "execute_result",
          "execution_count": 714,
          "data": {
            "text/plain": "0    1\n1    1\n2    1\n3    1\n4    1\nName: Rating, dtype: int64"
          },
          "metadata": {}
        }
      ]
    },
    {
      "metadata": {
        "id": "3segAg_p9-mV",
        "colab_type": "code",
        "colab": {
          "base_uri": "https://localhost:8080/",
          "height": 34
        },
        "outputId": "e840eeb6-6041-4d41-9bb3-d1514b9c5604",
        "trusted": true,
        "_uuid": "094f3a989191d6c4547d504f0cb1b38bbaec60b0"
      },
      "cell_type": "code",
      "source": "type(Y_binarised_train)",
      "execution_count": 715,
      "outputs": [
        {
          "output_type": "execute_result",
          "execution_count": 715,
          "data": {
            "text/plain": "pandas.core.series.Series"
          },
          "metadata": {}
        }
      ]
    },
    {
      "metadata": {
        "id": "-9jNT-wv-dc5",
        "colab_type": "code",
        "colab": {
          "base_uri": "https://localhost:8080/",
          "height": 321
        },
        "outputId": "5b72c60c-4235-42a9-a4de-816d570c16f7",
        "trusted": true,
        "_uuid": "3294c95bea2dd44370fa6d7c8143a5043542cb2b"
      },
      "cell_type": "code",
      "source": "X_train.head()",
      "execution_count": 716,
      "outputs": [
        {
          "output_type": "execute_result",
          "execution_count": 716,
          "data": {
            "text/plain": "   Sim1_2G  Sim1_3G     ...      Processor_frequency_bin  Height_bin\n0        0        0     ...                            1           1\n1        0        0     ...                            1           1\n2        0        0     ...                            1           1\n3        0        0     ...                            1           1\n4        0        0     ...                            1           1\n\n[5 rows x 86 columns]",
            "text/html": "<div>\n<style scoped>\n    .dataframe tbody tr th:only-of-type {\n        vertical-align: middle;\n    }\n\n    .dataframe tbody tr th {\n        vertical-align: top;\n    }\n\n    .dataframe thead th {\n        text-align: right;\n    }\n</style>\n<table border=\"1\" class=\"dataframe\">\n  <thead>\n    <tr style=\"text-align: right;\">\n      <th></th>\n      <th>Sim1_2G</th>\n      <th>Sim1_3G</th>\n      <th>Sim1_4G</th>\n      <th>Brand_10.or</th>\n      <th>Brand_Apple</th>\n      <th>Brand_Asus</th>\n      <th>Brand_Billion</th>\n      <th>Brand_Blackberry</th>\n      <th>Brand_Comio</th>\n      <th>Brand_Coolpad</th>\n      <th>Brand_Do</th>\n      <th>Brand_Gionee</th>\n      <th>Brand_Google</th>\n      <th>Brand_HTC</th>\n      <th>Brand_Honor</th>\n      <th>Brand_Huawei</th>\n      <th>Brand_InFocus</th>\n      <th>Brand_Infinix</th>\n      <th>Brand_Intex</th>\n      <th>Brand_Itel</th>\n      <th>Brand_Jivi</th>\n      <th>Brand_Karbonn</th>\n      <th>Brand_LG</th>\n      <th>Brand_Lava</th>\n      <th>Brand_LeEco</th>\n      <th>Brand_Lenovo</th>\n      <th>Brand_Lephone</th>\n      <th>Brand_Lyf</th>\n      <th>Brand_Meizu</th>\n      <th>Brand_Micromax</th>\n      <th>Brand_Mobiistar</th>\n      <th>Brand_Moto</th>\n      <th>Brand_Motorola</th>\n      <th>Brand_Nokia</th>\n      <th>Brand_Nubia</th>\n      <th>Brand_OPPO</th>\n      <th>Brand_OnePlus</th>\n      <th>Brand_Oppo</th>\n      <th>Brand_Panasonic</th>\n      <th>Brand_Razer</th>\n      <th>...</th>\n      <th>Brand_Ulefone</th>\n      <th>Brand_VOTO</th>\n      <th>Brand_Vivo</th>\n      <th>Brand_Xiaomi</th>\n      <th>Brand_Xiaomi Poco</th>\n      <th>Brand_Yu</th>\n      <th>Brand_iVooMi</th>\n      <th>Num_cores_312</th>\n      <th>Num_cores_Deca</th>\n      <th>Num_cores_Dual</th>\n      <th>Num_cores_Hexa</th>\n      <th>Num_cores_Octa</th>\n      <th>Num_cores_Other</th>\n      <th>Num_cores_Quad</th>\n      <th>Num_cores_Tru-Octa</th>\n      <th>os_name_Android</th>\n      <th>os_name_Blackberry</th>\n      <th>os_name_KAI</th>\n      <th>os_name_Nokia</th>\n      <th>os_name_Other</th>\n      <th>os_name_Tizen</th>\n      <th>os_name_iOS</th>\n      <th>SIM Slot(s)_Dual SIM, GSM+CDMA</th>\n      <th>SIM Slot(s)_Dual SIM, GSM+GSM</th>\n      <th>SIM Slot(s)_Dual SIM, GSM+GSM, Dual VoLTE</th>\n      <th>SIM Slot(s)_Single SIM, GSM</th>\n      <th>SIM 2_2G</th>\n      <th>SIM 2_3G</th>\n      <th>SIM 2_4G</th>\n      <th>SIM 2_Other</th>\n      <th>Capacity_bin</th>\n      <th>Pixel Density_bin</th>\n      <th>Resolution_bin</th>\n      <th>Weight_bin</th>\n      <th>Screen to Body Ratio_bin</th>\n      <th>Internal memory_bin</th>\n      <th>Screen Size_bin</th>\n      <th>RAM_bin</th>\n      <th>Processor_frequency_bin</th>\n      <th>Height_bin</th>\n    </tr>\n  </thead>\n  <tbody>\n    <tr>\n      <th>0</th>\n      <td>0</td>\n      <td>0</td>\n      <td>1</td>\n      <td>0</td>\n      <td>0</td>\n      <td>0</td>\n      <td>0</td>\n      <td>0</td>\n      <td>0</td>\n      <td>0</td>\n      <td>0</td>\n      <td>0</td>\n      <td>0</td>\n      <td>0</td>\n      <td>0</td>\n      <td>0</td>\n      <td>0</td>\n      <td>0</td>\n      <td>0</td>\n      <td>0</td>\n      <td>0</td>\n      <td>0</td>\n      <td>0</td>\n      <td>0</td>\n      <td>0</td>\n      <td>0</td>\n      <td>0</td>\n      <td>0</td>\n      <td>0</td>\n      <td>0</td>\n      <td>0</td>\n      <td>0</td>\n      <td>0</td>\n      <td>0</td>\n      <td>0</td>\n      <td>0</td>\n      <td>0</td>\n      <td>0</td>\n      <td>0</td>\n      <td>0</td>\n      <td>...</td>\n      <td>0</td>\n      <td>0</td>\n      <td>0</td>\n      <td>1</td>\n      <td>0</td>\n      <td>0</td>\n      <td>0</td>\n      <td>0</td>\n      <td>0</td>\n      <td>0</td>\n      <td>0</td>\n      <td>1</td>\n      <td>0</td>\n      <td>0</td>\n      <td>0</td>\n      <td>1</td>\n      <td>0</td>\n      <td>0</td>\n      <td>0</td>\n      <td>0</td>\n      <td>0</td>\n      <td>0</td>\n      <td>0</td>\n      <td>0</td>\n      <td>1</td>\n      <td>0</td>\n      <td>0</td>\n      <td>0</td>\n      <td>1</td>\n      <td>0</td>\n      <td>1</td>\n      <td>1</td>\n      <td>1</td>\n      <td>1</td>\n      <td>1</td>\n      <td>1</td>\n      <td>1</td>\n      <td>0</td>\n      <td>1</td>\n      <td>1</td>\n    </tr>\n    <tr>\n      <th>1</th>\n      <td>0</td>\n      <td>0</td>\n      <td>1</td>\n      <td>0</td>\n      <td>0</td>\n      <td>0</td>\n      <td>0</td>\n      <td>0</td>\n      <td>0</td>\n      <td>0</td>\n      <td>0</td>\n      <td>0</td>\n      <td>0</td>\n      <td>0</td>\n      <td>0</td>\n      <td>0</td>\n      <td>0</td>\n      <td>0</td>\n      <td>0</td>\n      <td>0</td>\n      <td>0</td>\n      <td>0</td>\n      <td>0</td>\n      <td>0</td>\n      <td>0</td>\n      <td>0</td>\n      <td>0</td>\n      <td>0</td>\n      <td>0</td>\n      <td>0</td>\n      <td>0</td>\n      <td>0</td>\n      <td>0</td>\n      <td>0</td>\n      <td>0</td>\n      <td>0</td>\n      <td>0</td>\n      <td>0</td>\n      <td>0</td>\n      <td>0</td>\n      <td>...</td>\n      <td>0</td>\n      <td>0</td>\n      <td>0</td>\n      <td>0</td>\n      <td>0</td>\n      <td>0</td>\n      <td>0</td>\n      <td>0</td>\n      <td>0</td>\n      <td>0</td>\n      <td>0</td>\n      <td>1</td>\n      <td>0</td>\n      <td>0</td>\n      <td>0</td>\n      <td>1</td>\n      <td>0</td>\n      <td>0</td>\n      <td>0</td>\n      <td>0</td>\n      <td>0</td>\n      <td>0</td>\n      <td>0</td>\n      <td>0</td>\n      <td>1</td>\n      <td>0</td>\n      <td>0</td>\n      <td>0</td>\n      <td>1</td>\n      <td>0</td>\n      <td>1</td>\n      <td>0</td>\n      <td>0</td>\n      <td>1</td>\n      <td>1</td>\n      <td>0</td>\n      <td>1</td>\n      <td>0</td>\n      <td>1</td>\n      <td>1</td>\n    </tr>\n    <tr>\n      <th>2</th>\n      <td>0</td>\n      <td>0</td>\n      <td>1</td>\n      <td>0</td>\n      <td>0</td>\n      <td>0</td>\n      <td>0</td>\n      <td>0</td>\n      <td>0</td>\n      <td>0</td>\n      <td>0</td>\n      <td>0</td>\n      <td>0</td>\n      <td>0</td>\n      <td>0</td>\n      <td>0</td>\n      <td>0</td>\n      <td>0</td>\n      <td>0</td>\n      <td>0</td>\n      <td>0</td>\n      <td>0</td>\n      <td>0</td>\n      <td>0</td>\n      <td>0</td>\n      <td>0</td>\n      <td>0</td>\n      <td>0</td>\n      <td>0</td>\n      <td>0</td>\n      <td>0</td>\n      <td>0</td>\n      <td>0</td>\n      <td>0</td>\n      <td>0</td>\n      <td>0</td>\n      <td>0</td>\n      <td>0</td>\n      <td>0</td>\n      <td>0</td>\n      <td>...</td>\n      <td>0</td>\n      <td>0</td>\n      <td>0</td>\n      <td>0</td>\n      <td>0</td>\n      <td>0</td>\n      <td>0</td>\n      <td>0</td>\n      <td>0</td>\n      <td>0</td>\n      <td>0</td>\n      <td>1</td>\n      <td>0</td>\n      <td>0</td>\n      <td>0</td>\n      <td>1</td>\n      <td>0</td>\n      <td>0</td>\n      <td>0</td>\n      <td>0</td>\n      <td>0</td>\n      <td>0</td>\n      <td>0</td>\n      <td>0</td>\n      <td>1</td>\n      <td>0</td>\n      <td>0</td>\n      <td>0</td>\n      <td>1</td>\n      <td>0</td>\n      <td>1</td>\n      <td>1</td>\n      <td>1</td>\n      <td>1</td>\n      <td>1</td>\n      <td>0</td>\n      <td>1</td>\n      <td>0</td>\n      <td>1</td>\n      <td>1</td>\n    </tr>\n    <tr>\n      <th>3</th>\n      <td>0</td>\n      <td>0</td>\n      <td>1</td>\n      <td>0</td>\n      <td>0</td>\n      <td>0</td>\n      <td>0</td>\n      <td>0</td>\n      <td>0</td>\n      <td>0</td>\n      <td>0</td>\n      <td>0</td>\n      <td>0</td>\n      <td>0</td>\n      <td>0</td>\n      <td>0</td>\n      <td>0</td>\n      <td>0</td>\n      <td>0</td>\n      <td>0</td>\n      <td>0</td>\n      <td>0</td>\n      <td>0</td>\n      <td>0</td>\n      <td>0</td>\n      <td>0</td>\n      <td>0</td>\n      <td>0</td>\n      <td>0</td>\n      <td>0</td>\n      <td>0</td>\n      <td>0</td>\n      <td>0</td>\n      <td>0</td>\n      <td>0</td>\n      <td>0</td>\n      <td>0</td>\n      <td>0</td>\n      <td>0</td>\n      <td>0</td>\n      <td>...</td>\n      <td>0</td>\n      <td>0</td>\n      <td>0</td>\n      <td>0</td>\n      <td>0</td>\n      <td>0</td>\n      <td>0</td>\n      <td>0</td>\n      <td>0</td>\n      <td>0</td>\n      <td>0</td>\n      <td>1</td>\n      <td>0</td>\n      <td>0</td>\n      <td>0</td>\n      <td>1</td>\n      <td>0</td>\n      <td>0</td>\n      <td>0</td>\n      <td>0</td>\n      <td>0</td>\n      <td>0</td>\n      <td>0</td>\n      <td>1</td>\n      <td>0</td>\n      <td>0</td>\n      <td>0</td>\n      <td>0</td>\n      <td>1</td>\n      <td>0</td>\n      <td>1</td>\n      <td>1</td>\n      <td>1</td>\n      <td>1</td>\n      <td>1</td>\n      <td>1</td>\n      <td>1</td>\n      <td>0</td>\n      <td>1</td>\n      <td>1</td>\n    </tr>\n    <tr>\n      <th>4</th>\n      <td>0</td>\n      <td>0</td>\n      <td>1</td>\n      <td>0</td>\n      <td>0</td>\n      <td>0</td>\n      <td>0</td>\n      <td>0</td>\n      <td>0</td>\n      <td>0</td>\n      <td>0</td>\n      <td>0</td>\n      <td>0</td>\n      <td>0</td>\n      <td>1</td>\n      <td>0</td>\n      <td>0</td>\n      <td>0</td>\n      <td>0</td>\n      <td>0</td>\n      <td>0</td>\n      <td>0</td>\n      <td>0</td>\n      <td>0</td>\n      <td>0</td>\n      <td>0</td>\n      <td>0</td>\n      <td>0</td>\n      <td>0</td>\n      <td>0</td>\n      <td>0</td>\n      <td>0</td>\n      <td>0</td>\n      <td>0</td>\n      <td>0</td>\n      <td>0</td>\n      <td>0</td>\n      <td>0</td>\n      <td>0</td>\n      <td>0</td>\n      <td>...</td>\n      <td>0</td>\n      <td>0</td>\n      <td>0</td>\n      <td>0</td>\n      <td>0</td>\n      <td>0</td>\n      <td>0</td>\n      <td>0</td>\n      <td>0</td>\n      <td>0</td>\n      <td>0</td>\n      <td>1</td>\n      <td>0</td>\n      <td>0</td>\n      <td>0</td>\n      <td>1</td>\n      <td>0</td>\n      <td>0</td>\n      <td>0</td>\n      <td>0</td>\n      <td>0</td>\n      <td>0</td>\n      <td>0</td>\n      <td>0</td>\n      <td>1</td>\n      <td>0</td>\n      <td>0</td>\n      <td>0</td>\n      <td>1</td>\n      <td>0</td>\n      <td>1</td>\n      <td>1</td>\n      <td>1</td>\n      <td>1</td>\n      <td>1</td>\n      <td>1</td>\n      <td>1</td>\n      <td>0</td>\n      <td>1</td>\n      <td>1</td>\n    </tr>\n  </tbody>\n</table>\n</div>"
          },
          "metadata": {}
        }
      ]
    },
    {
      "metadata": {
        "id": "FuWM7-YwCR9U",
        "colab_type": "code",
        "colab": {},
        "trusted": true,
        "_uuid": "b447739a69fed81ae1f8a0a61ea1bb30bf00bf63"
      },
      "cell_type": "code",
      "source": "",
      "execution_count": null,
      "outputs": []
    },
    {
      "metadata": {
        "id": "Cmi1A11GCS3o",
        "colab_type": "code",
        "colab": {
          "base_uri": "https://localhost:8080/",
          "height": 34
        },
        "outputId": "150385c2-a362-47d6-c72b-75c13863b00a",
        "trusted": true,
        "_uuid": "337843318c1612b69425d701f1b5d311c1e19463"
      },
      "cell_type": "code",
      "source": "type(X_test)",
      "execution_count": 717,
      "outputs": [
        {
          "output_type": "execute_result",
          "execution_count": 717,
          "data": {
            "text/plain": "pandas.core.frame.DataFrame"
          },
          "metadata": {}
        }
      ]
    },
    {
      "metadata": {
        "id": "ulQvLYo6HPPw",
        "colab_type": "code",
        "colab": {
          "base_uri": "https://localhost:8080/",
          "height": 119
        },
        "outputId": "c8cc2ac1-56ea-4407-e0e6-2da56f24a1dc",
        "trusted": true,
        "_uuid": "0d986bd6288cd81068d83311b49bfbae99a5a948"
      },
      "cell_type": "code",
      "source": "Y_binarised_train.tail()",
      "execution_count": 718,
      "outputs": [
        {
          "output_type": "execute_result",
          "execution_count": 718,
          "data": {
            "text/plain": "336    0\n337    0\n338    1\n339    0\n340    1\nName: Rating, dtype: int64"
          },
          "metadata": {}
        }
      ]
    },
    {
      "metadata": {
        "id": "A7-fOYOIF4F3",
        "colab_type": "code",
        "colab": {
          "base_uri": "https://localhost:8080/",
          "height": 321
        },
        "outputId": "00205cfd-75b8-4571-d062-ce543a2f92f3",
        "trusted": true,
        "_uuid": "c8bdd1c4eb4f640a2ba0c53e8320db87d00c07ca"
      },
      "cell_type": "code",
      "source": "X_train.tail()",
      "execution_count": 719,
      "outputs": [
        {
          "output_type": "execute_result",
          "execution_count": 719,
          "data": {
            "text/plain": "     Sim1_2G  Sim1_3G     ...      Processor_frequency_bin  Height_bin\n336        0        0     ...                            0           0\n337        0        0     ...                            1           1\n338        0        0     ...                            0           0\n339        0        0     ...                            0           0\n340        0        0     ...                            1           1\n\n[5 rows x 86 columns]",
            "text/html": "<div>\n<style scoped>\n    .dataframe tbody tr th:only-of-type {\n        vertical-align: middle;\n    }\n\n    .dataframe tbody tr th {\n        vertical-align: top;\n    }\n\n    .dataframe thead th {\n        text-align: right;\n    }\n</style>\n<table border=\"1\" class=\"dataframe\">\n  <thead>\n    <tr style=\"text-align: right;\">\n      <th></th>\n      <th>Sim1_2G</th>\n      <th>Sim1_3G</th>\n      <th>Sim1_4G</th>\n      <th>Brand_10.or</th>\n      <th>Brand_Apple</th>\n      <th>Brand_Asus</th>\n      <th>Brand_Billion</th>\n      <th>Brand_Blackberry</th>\n      <th>Brand_Comio</th>\n      <th>Brand_Coolpad</th>\n      <th>Brand_Do</th>\n      <th>Brand_Gionee</th>\n      <th>Brand_Google</th>\n      <th>Brand_HTC</th>\n      <th>Brand_Honor</th>\n      <th>Brand_Huawei</th>\n      <th>Brand_InFocus</th>\n      <th>Brand_Infinix</th>\n      <th>Brand_Intex</th>\n      <th>Brand_Itel</th>\n      <th>Brand_Jivi</th>\n      <th>Brand_Karbonn</th>\n      <th>Brand_LG</th>\n      <th>Brand_Lava</th>\n      <th>Brand_LeEco</th>\n      <th>Brand_Lenovo</th>\n      <th>Brand_Lephone</th>\n      <th>Brand_Lyf</th>\n      <th>Brand_Meizu</th>\n      <th>Brand_Micromax</th>\n      <th>Brand_Mobiistar</th>\n      <th>Brand_Moto</th>\n      <th>Brand_Motorola</th>\n      <th>Brand_Nokia</th>\n      <th>Brand_Nubia</th>\n      <th>Brand_OPPO</th>\n      <th>Brand_OnePlus</th>\n      <th>Brand_Oppo</th>\n      <th>Brand_Panasonic</th>\n      <th>Brand_Razer</th>\n      <th>...</th>\n      <th>Brand_Ulefone</th>\n      <th>Brand_VOTO</th>\n      <th>Brand_Vivo</th>\n      <th>Brand_Xiaomi</th>\n      <th>Brand_Xiaomi Poco</th>\n      <th>Brand_Yu</th>\n      <th>Brand_iVooMi</th>\n      <th>Num_cores_312</th>\n      <th>Num_cores_Deca</th>\n      <th>Num_cores_Dual</th>\n      <th>Num_cores_Hexa</th>\n      <th>Num_cores_Octa</th>\n      <th>Num_cores_Other</th>\n      <th>Num_cores_Quad</th>\n      <th>Num_cores_Tru-Octa</th>\n      <th>os_name_Android</th>\n      <th>os_name_Blackberry</th>\n      <th>os_name_KAI</th>\n      <th>os_name_Nokia</th>\n      <th>os_name_Other</th>\n      <th>os_name_Tizen</th>\n      <th>os_name_iOS</th>\n      <th>SIM Slot(s)_Dual SIM, GSM+CDMA</th>\n      <th>SIM Slot(s)_Dual SIM, GSM+GSM</th>\n      <th>SIM Slot(s)_Dual SIM, GSM+GSM, Dual VoLTE</th>\n      <th>SIM Slot(s)_Single SIM, GSM</th>\n      <th>SIM 2_2G</th>\n      <th>SIM 2_3G</th>\n      <th>SIM 2_4G</th>\n      <th>SIM 2_Other</th>\n      <th>Capacity_bin</th>\n      <th>Pixel Density_bin</th>\n      <th>Resolution_bin</th>\n      <th>Weight_bin</th>\n      <th>Screen to Body Ratio_bin</th>\n      <th>Internal memory_bin</th>\n      <th>Screen Size_bin</th>\n      <th>RAM_bin</th>\n      <th>Processor_frequency_bin</th>\n      <th>Height_bin</th>\n    </tr>\n  </thead>\n  <tbody>\n    <tr>\n      <th>336</th>\n      <td>0</td>\n      <td>0</td>\n      <td>1</td>\n      <td>0</td>\n      <td>0</td>\n      <td>0</td>\n      <td>0</td>\n      <td>0</td>\n      <td>0</td>\n      <td>0</td>\n      <td>0</td>\n      <td>0</td>\n      <td>0</td>\n      <td>0</td>\n      <td>0</td>\n      <td>0</td>\n      <td>0</td>\n      <td>0</td>\n      <td>0</td>\n      <td>0</td>\n      <td>0</td>\n      <td>0</td>\n      <td>0</td>\n      <td>0</td>\n      <td>0</td>\n      <td>0</td>\n      <td>0</td>\n      <td>0</td>\n      <td>0</td>\n      <td>0</td>\n      <td>0</td>\n      <td>0</td>\n      <td>0</td>\n      <td>0</td>\n      <td>0</td>\n      <td>0</td>\n      <td>0</td>\n      <td>1</td>\n      <td>0</td>\n      <td>0</td>\n      <td>...</td>\n      <td>0</td>\n      <td>0</td>\n      <td>0</td>\n      <td>0</td>\n      <td>0</td>\n      <td>0</td>\n      <td>0</td>\n      <td>0</td>\n      <td>0</td>\n      <td>0</td>\n      <td>0</td>\n      <td>0</td>\n      <td>0</td>\n      <td>1</td>\n      <td>0</td>\n      <td>1</td>\n      <td>0</td>\n      <td>0</td>\n      <td>0</td>\n      <td>0</td>\n      <td>0</td>\n      <td>0</td>\n      <td>0</td>\n      <td>1</td>\n      <td>0</td>\n      <td>0</td>\n      <td>0</td>\n      <td>0</td>\n      <td>1</td>\n      <td>0</td>\n      <td>0</td>\n      <td>0</td>\n      <td>0</td>\n      <td>0</td>\n      <td>0</td>\n      <td>0</td>\n      <td>0</td>\n      <td>0</td>\n      <td>0</td>\n      <td>0</td>\n    </tr>\n    <tr>\n      <th>337</th>\n      <td>0</td>\n      <td>0</td>\n      <td>1</td>\n      <td>0</td>\n      <td>0</td>\n      <td>0</td>\n      <td>0</td>\n      <td>0</td>\n      <td>0</td>\n      <td>0</td>\n      <td>0</td>\n      <td>0</td>\n      <td>0</td>\n      <td>1</td>\n      <td>0</td>\n      <td>0</td>\n      <td>0</td>\n      <td>0</td>\n      <td>0</td>\n      <td>0</td>\n      <td>0</td>\n      <td>0</td>\n      <td>0</td>\n      <td>0</td>\n      <td>0</td>\n      <td>0</td>\n      <td>0</td>\n      <td>0</td>\n      <td>0</td>\n      <td>0</td>\n      <td>0</td>\n      <td>0</td>\n      <td>0</td>\n      <td>0</td>\n      <td>0</td>\n      <td>0</td>\n      <td>0</td>\n      <td>0</td>\n      <td>0</td>\n      <td>0</td>\n      <td>...</td>\n      <td>0</td>\n      <td>0</td>\n      <td>0</td>\n      <td>0</td>\n      <td>0</td>\n      <td>0</td>\n      <td>0</td>\n      <td>0</td>\n      <td>0</td>\n      <td>0</td>\n      <td>0</td>\n      <td>1</td>\n      <td>0</td>\n      <td>0</td>\n      <td>0</td>\n      <td>1</td>\n      <td>0</td>\n      <td>0</td>\n      <td>0</td>\n      <td>0</td>\n      <td>0</td>\n      <td>0</td>\n      <td>0</td>\n      <td>1</td>\n      <td>0</td>\n      <td>0</td>\n      <td>0</td>\n      <td>0</td>\n      <td>1</td>\n      <td>0</td>\n      <td>0</td>\n      <td>1</td>\n      <td>1</td>\n      <td>1</td>\n      <td>0</td>\n      <td>1</td>\n      <td>1</td>\n      <td>0</td>\n      <td>1</td>\n      <td>1</td>\n    </tr>\n    <tr>\n      <th>338</th>\n      <td>0</td>\n      <td>0</td>\n      <td>1</td>\n      <td>0</td>\n      <td>0</td>\n      <td>0</td>\n      <td>0</td>\n      <td>0</td>\n      <td>0</td>\n      <td>0</td>\n      <td>0</td>\n      <td>0</td>\n      <td>0</td>\n      <td>0</td>\n      <td>0</td>\n      <td>0</td>\n      <td>0</td>\n      <td>0</td>\n      <td>0</td>\n      <td>0</td>\n      <td>0</td>\n      <td>0</td>\n      <td>0</td>\n      <td>0</td>\n      <td>0</td>\n      <td>0</td>\n      <td>0</td>\n      <td>0</td>\n      <td>0</td>\n      <td>0</td>\n      <td>0</td>\n      <td>0</td>\n      <td>0</td>\n      <td>1</td>\n      <td>0</td>\n      <td>0</td>\n      <td>0</td>\n      <td>0</td>\n      <td>0</td>\n      <td>0</td>\n      <td>...</td>\n      <td>0</td>\n      <td>0</td>\n      <td>0</td>\n      <td>0</td>\n      <td>0</td>\n      <td>0</td>\n      <td>0</td>\n      <td>0</td>\n      <td>0</td>\n      <td>0</td>\n      <td>0</td>\n      <td>1</td>\n      <td>0</td>\n      <td>0</td>\n      <td>0</td>\n      <td>1</td>\n      <td>0</td>\n      <td>0</td>\n      <td>0</td>\n      <td>0</td>\n      <td>0</td>\n      <td>0</td>\n      <td>0</td>\n      <td>1</td>\n      <td>0</td>\n      <td>0</td>\n      <td>0</td>\n      <td>0</td>\n      <td>1</td>\n      <td>0</td>\n      <td>0</td>\n      <td>0</td>\n      <td>0</td>\n      <td>0</td>\n      <td>0</td>\n      <td>0</td>\n      <td>0</td>\n      <td>0</td>\n      <td>0</td>\n      <td>0</td>\n    </tr>\n    <tr>\n      <th>339</th>\n      <td>0</td>\n      <td>0</td>\n      <td>1</td>\n      <td>0</td>\n      <td>0</td>\n      <td>0</td>\n      <td>0</td>\n      <td>0</td>\n      <td>0</td>\n      <td>0</td>\n      <td>0</td>\n      <td>0</td>\n      <td>0</td>\n      <td>0</td>\n      <td>0</td>\n      <td>0</td>\n      <td>0</td>\n      <td>0</td>\n      <td>0</td>\n      <td>0</td>\n      <td>0</td>\n      <td>0</td>\n      <td>0</td>\n      <td>0</td>\n      <td>0</td>\n      <td>0</td>\n      <td>0</td>\n      <td>0</td>\n      <td>0</td>\n      <td>1</td>\n      <td>0</td>\n      <td>0</td>\n      <td>0</td>\n      <td>0</td>\n      <td>0</td>\n      <td>0</td>\n      <td>0</td>\n      <td>0</td>\n      <td>0</td>\n      <td>0</td>\n      <td>...</td>\n      <td>0</td>\n      <td>0</td>\n      <td>0</td>\n      <td>0</td>\n      <td>0</td>\n      <td>0</td>\n      <td>0</td>\n      <td>0</td>\n      <td>0</td>\n      <td>0</td>\n      <td>0</td>\n      <td>0</td>\n      <td>0</td>\n      <td>1</td>\n      <td>0</td>\n      <td>1</td>\n      <td>0</td>\n      <td>0</td>\n      <td>0</td>\n      <td>0</td>\n      <td>0</td>\n      <td>0</td>\n      <td>0</td>\n      <td>1</td>\n      <td>0</td>\n      <td>0</td>\n      <td>1</td>\n      <td>0</td>\n      <td>0</td>\n      <td>0</td>\n      <td>0</td>\n      <td>0</td>\n      <td>0</td>\n      <td>0</td>\n      <td>0</td>\n      <td>0</td>\n      <td>0</td>\n      <td>0</td>\n      <td>0</td>\n      <td>0</td>\n    </tr>\n    <tr>\n      <th>340</th>\n      <td>0</td>\n      <td>0</td>\n      <td>1</td>\n      <td>0</td>\n      <td>0</td>\n      <td>0</td>\n      <td>0</td>\n      <td>0</td>\n      <td>0</td>\n      <td>0</td>\n      <td>0</td>\n      <td>0</td>\n      <td>0</td>\n      <td>0</td>\n      <td>0</td>\n      <td>0</td>\n      <td>0</td>\n      <td>0</td>\n      <td>0</td>\n      <td>0</td>\n      <td>0</td>\n      <td>0</td>\n      <td>0</td>\n      <td>0</td>\n      <td>1</td>\n      <td>0</td>\n      <td>0</td>\n      <td>0</td>\n      <td>0</td>\n      <td>0</td>\n      <td>0</td>\n      <td>0</td>\n      <td>0</td>\n      <td>0</td>\n      <td>0</td>\n      <td>0</td>\n      <td>0</td>\n      <td>0</td>\n      <td>0</td>\n      <td>0</td>\n      <td>...</td>\n      <td>0</td>\n      <td>0</td>\n      <td>0</td>\n      <td>0</td>\n      <td>0</td>\n      <td>0</td>\n      <td>0</td>\n      <td>0</td>\n      <td>0</td>\n      <td>0</td>\n      <td>0</td>\n      <td>1</td>\n      <td>0</td>\n      <td>0</td>\n      <td>0</td>\n      <td>1</td>\n      <td>0</td>\n      <td>0</td>\n      <td>0</td>\n      <td>0</td>\n      <td>0</td>\n      <td>0</td>\n      <td>0</td>\n      <td>1</td>\n      <td>0</td>\n      <td>0</td>\n      <td>0</td>\n      <td>0</td>\n      <td>1</td>\n      <td>0</td>\n      <td>0</td>\n      <td>1</td>\n      <td>0</td>\n      <td>0</td>\n      <td>1</td>\n      <td>0</td>\n      <td>1</td>\n      <td>0</td>\n      <td>1</td>\n      <td>1</td>\n    </tr>\n  </tbody>\n</table>\n</div>"
          },
          "metadata": {}
        }
      ]
    },
    {
      "metadata": {
        "id": "5F4RTB9UFgex",
        "colab_type": "code",
        "colab": {
          "base_uri": "https://localhost:8080/",
          "height": 1479
        },
        "outputId": "2fa67c4d-8571-44dd-c3f7-4f063b546f05",
        "trusted": true,
        "_uuid": "0bc2f785ac4da84ee206434863e97f46f88502c6"
      },
      "cell_type": "code",
      "source": "list(X_train.columns.values)",
      "execution_count": 792,
      "outputs": [
        {
          "output_type": "execute_result",
          "execution_count": 792,
          "data": {
            "text/plain": "['Sim1_2G',\n 'Sim1_3G',\n 'Sim1_4G',\n 'Brand_10.or',\n 'Brand_Apple',\n 'Brand_Asus',\n 'Brand_Billion',\n 'Brand_Blackberry',\n 'Brand_Comio',\n 'Brand_Coolpad',\n 'Brand_Do',\n 'Brand_Gionee',\n 'Brand_Google',\n 'Brand_HTC',\n 'Brand_Honor',\n 'Brand_Huawei',\n 'Brand_InFocus',\n 'Brand_Infinix',\n 'Brand_Intex',\n 'Brand_Itel',\n 'Brand_Jivi',\n 'Brand_Karbonn',\n 'Brand_LG',\n 'Brand_Lava',\n 'Brand_LeEco',\n 'Brand_Lenovo',\n 'Brand_Lephone',\n 'Brand_Lyf',\n 'Brand_Meizu',\n 'Brand_Micromax',\n 'Brand_Mobiistar',\n 'Brand_Moto',\n 'Brand_Motorola',\n 'Brand_Nokia',\n 'Brand_Nubia',\n 'Brand_OPPO',\n 'Brand_OnePlus',\n 'Brand_Oppo',\n 'Brand_Panasonic',\n 'Brand_Razer',\n 'Brand_Realme',\n 'Brand_Reliance',\n 'Brand_Samsung',\n 'Brand_Sony',\n 'Brand_Spice',\n 'Brand_Tecno',\n 'Brand_Ulefone',\n 'Brand_VOTO',\n 'Brand_Vivo',\n 'Brand_Xiaomi',\n 'Brand_Xiaomi Poco',\n 'Brand_Yu',\n 'Brand_iVooMi',\n 'Num_cores_312',\n 'Num_cores_Deca',\n 'Num_cores_Dual',\n 'Num_cores_Hexa',\n 'Num_cores_Octa',\n 'Num_cores_Other',\n 'Num_cores_Quad',\n 'Num_cores_Tru-Octa',\n 'os_name_Android',\n 'os_name_Blackberry',\n 'os_name_KAI',\n 'os_name_Nokia',\n 'os_name_Other',\n 'os_name_Tizen',\n 'os_name_iOS',\n 'SIM Slot(s)_Dual SIM, GSM+CDMA',\n 'SIM Slot(s)_Dual SIM, GSM+GSM',\n 'SIM Slot(s)_Dual SIM, GSM+GSM, Dual VoLTE',\n 'SIM Slot(s)_Single SIM, GSM',\n 'SIM 2_2G',\n 'SIM 2_3G',\n 'SIM 2_4G',\n 'SIM 2_Other',\n 'Capacity_bin',\n 'Pixel Density_bin',\n 'Resolution_bin',\n 'Weight_bin',\n 'Screen to Body Ratio_bin',\n 'Internal memory_bin',\n 'Screen Size_bin',\n 'RAM_bin',\n 'Processor_frequency_bin',\n 'Height_bin']"
          },
          "metadata": {}
        }
      ]
    },
    {
      "metadata": {
        "trusted": true,
        "_uuid": "7948ddec54953e4be8b98b59f236067e17414b57",
        "id": "O3ximi2m7QVN",
        "colab_type": "code",
        "colab": {}
      },
      "cell_type": "code",
      "source": "X_test_np = X_test[[\"os_name_Android\",\"os_name_iOS\",\"os_name_Tizen\",\"SIM Slot(s)_Dual SIM, GSM+GSM, Dual VoLTE\",\"Sim1_4G\",\"SIM 2_3G\",\"SIM 2_Other\",\"SIM 2_4G\",\"Brand_Honor\",\"SIM 2_2G\",\"Brand_Lenovo\",\"Brand_OnePlus\",\"Brand_HTC\",\"Brand_Asus\",\"Brand_Samsung\",\"Num_cores_Octa\",\"Resolution_bin\",\"Screen Size_bin\",\"Pixel Density_bin\",\"Brand_Oppo\",\"Height_bin\",\"SIM Slot(s)_Dual SIM, GSM+CDMA\",\"Brand_Xiaomi\",\"Brand_Vivo\",\"Brand_Xiaomi Poco\",\"Brand_Spice\",\"Brand_Sony\",\"Brand_LG\",\"Brand_Huawei\",\"Brand_Coolpad\",\"Brand_OPPO\",\"Brand_Moto\",\n \"Brand_Motorola\",\"Brand_Nokia\",\"Brand_Panasonic\",\"Brand_Ulefone\",\"Brand_Nubia\",\"Brand_Razer\",\"Brand_Itel\",\"Brand_Meizu\",\"Brand_iVooMi\",\"Brand_Do\",\"Brand_LeEco\",\"Brand_Billion\"]].values ##to convert into numpy\nX_train_np = X_train[[\"os_name_Android\",\"os_name_iOS\",\"os_name_Tizen\",\"SIM Slot(s)_Dual SIM, GSM+GSM, Dual VoLTE\",\"Sim1_4G\",\"SIM 2_3G\",\"SIM 2_Other\",\"SIM 2_4G\",\"Brand_Honor\",\"SIM 2_2G\",\"Brand_Lenovo\",\"Brand_OnePlus\",\"Brand_HTC\",\"Brand_Asus\",\"Brand_Samsung\",\"Num_cores_Octa\",\"Resolution_bin\",\"Screen Size_bin\",\"Pixel Density_bin\",\"Brand_Oppo\",\"Height_bin\",\"SIM Slot(s)_Dual SIM, GSM+CDMA\",\"Brand_Xiaomi\",\"Brand_Vivo\",\"Brand_Xiaomi Poco\",\"Brand_Spice\",\"Brand_Sony\",\"Brand_LG\",\"Brand_Huawei\",\"Brand_Coolpad\",\"Brand_OPPO\",\"Brand_Moto\",\n \"Brand_Motorola\",\"Brand_Nokia\",\"Brand_Panasonic\",\"Brand_Ulefone\",\"Brand_Nubia\",\"Brand_Razer\",\"Brand_Itel\",\"Brand_Meizu\",\"Brand_iVooMi\",\"Brand_Do\",\"Brand_LeEco\",\"Brand_Billion\"]].values",
      "execution_count": 909,
      "outputs": []
    },
    {
      "metadata": {
        "trusted": true,
        "_uuid": "8b86fbc4a2657616b724bbbc62d2a106c42b7c58",
        "id": "GERgC1T37QVR",
        "colab_type": "code",
        "colab": {}
      },
      "cell_type": "code",
      "source": "class MPNeuron:\n  \n  def __init__(self):\n    self.b = None\n    \n  def model(self, x):\n    return(sum(x) >= self.b)\n  \n  def predict(self, X):\n    Y = []\n    for x in X:\n      result = self.model(x)\n      Y.append(result)\n    return np.array(Y)\n  \n  def fit(self, X, Y):\n    accuracy = {}\n    \n    for b in range(X.shape[1] + 1):\n      self.b = b\n      Y_pred = self.predict(X)\n      accuracy[b] = accuracy_score(Y_pred, Y)\n      \n    best_b = max(accuracy, key = accuracy.get)\n    self.b = best_b\n    \n    print('Optimal value of b is', best_b)\n    print('Highest accuracy is', accuracy[best_b])",
      "execution_count": 912,
      "outputs": []
    },
    {
      "metadata": {
        "trusted": true,
        "_uuid": "cd734034ae702c458d2250e518aad36242a03e0a",
        "id": "5Lf08Pvo7QVT",
        "colab_type": "code",
        "colab": {
          "base_uri": "https://localhost:8080/",
          "height": 51
        },
        "outputId": "0b155bfc-d28f-4e5c-82b5-a1219105b8a8"
      },
      "cell_type": "code",
      "source": "mp_neuron = MPNeuron()\nmp_neuron.fit(X_train_np, Y_binarised_train)",
      "execution_count": 913,
      "outputs": [
        {
          "output_type": "stream",
          "text": "Optimal value of b is 4\nHighest accuracy is 0.7331378299120235\n",
          "name": "stdout"
        }
      ]
    },
    {
      "metadata": {
        "trusted": true,
        "_uuid": "e175cb983850bbbdbce6dd20ffc334460f6d1e35",
        "id": "MWhr0URN7QVW",
        "colab_type": "code",
        "colab": {
          "base_uri": "https://localhost:8080/",
          "height": 287
        },
        "outputId": "9f460c6f-061e-4591-8abf-61a88eb7a910"
      },
      "cell_type": "code",
      "source": "test_new.tail()",
      "execution_count": 783,
      "outputs": [
        {
          "output_type": "execute_result",
          "execution_count": 783,
          "data": {
            "text/plain": "     PhoneId           ...             Processor_frequency_bin\n114      464           ...                                   1\n115      467           ...                                   1\n116      469           ...                                   0\n117      471           ...                                   0\n118      473           ...                                   1\n\n[5 rows x 96 columns]",
            "text/html": "<div>\n<style scoped>\n    .dataframe tbody tr th:only-of-type {\n        vertical-align: middle;\n    }\n\n    .dataframe tbody tr th {\n        vertical-align: top;\n    }\n\n    .dataframe thead th {\n        text-align: right;\n    }\n</style>\n<table border=\"1\" class=\"dataframe\">\n  <thead>\n    <tr style=\"text-align: right;\">\n      <th></th>\n      <th>PhoneId</th>\n      <th>Capacity</th>\n      <th>Processor_frequency</th>\n      <th>Height</th>\n      <th>Weight</th>\n      <th>Screen to Body Ratio (calculated)</th>\n      <th>Pixel Density</th>\n      <th>Internal Memory</th>\n      <th>RAM</th>\n      <th>Screen Size</th>\n      <th>Resolution</th>\n      <th>Sim1_2G</th>\n      <th>Sim1_3G</th>\n      <th>Sim1_4G</th>\n      <th>Brand_10.or</th>\n      <th>Brand_Apple</th>\n      <th>Brand_Asus</th>\n      <th>Brand_Billion</th>\n      <th>Brand_Blackberry</th>\n      <th>Brand_Comio</th>\n      <th>Brand_Coolpad</th>\n      <th>Brand_Do</th>\n      <th>Brand_Gionee</th>\n      <th>Brand_Google</th>\n      <th>Brand_HTC</th>\n      <th>Brand_Honor</th>\n      <th>Brand_Huawei</th>\n      <th>Brand_InFocus</th>\n      <th>Brand_Infinix</th>\n      <th>Brand_Intex</th>\n      <th>Brand_Itel</th>\n      <th>Brand_Jivi</th>\n      <th>Brand_Karbonn</th>\n      <th>Brand_LG</th>\n      <th>Brand_Lava</th>\n      <th>Brand_LeEco</th>\n      <th>Brand_Lenovo</th>\n      <th>Brand_Lephone</th>\n      <th>Brand_Lyf</th>\n      <th>Brand_Meizu</th>\n      <th>...</th>\n      <th>Brand_Tecno</th>\n      <th>Brand_Ulefone</th>\n      <th>Brand_VOTO</th>\n      <th>Brand_Vivo</th>\n      <th>Brand_Xiaomi</th>\n      <th>Brand_Xiaomi Poco</th>\n      <th>Brand_Yu</th>\n      <th>Brand_iVooMi</th>\n      <th>Num_cores_312</th>\n      <th>Num_cores_Deca</th>\n      <th>Num_cores_Dual</th>\n      <th>Num_cores_Hexa</th>\n      <th>Num_cores_Octa</th>\n      <th>Num_cores_Other</th>\n      <th>Num_cores_Quad</th>\n      <th>Num_cores_Tru-Octa</th>\n      <th>os_name_Android</th>\n      <th>os_name_Blackberry</th>\n      <th>os_name_KAI</th>\n      <th>os_name_Nokia</th>\n      <th>os_name_Other</th>\n      <th>os_name_Tizen</th>\n      <th>os_name_iOS</th>\n      <th>SIM Slot(s)_Dual SIM, GSM+CDMA</th>\n      <th>SIM Slot(s)_Dual SIM, GSM+GSM</th>\n      <th>SIM Slot(s)_Dual SIM, GSM+GSM, Dual VoLTE</th>\n      <th>SIM Slot(s)_Single SIM, GSM</th>\n      <th>SIM 2_2G</th>\n      <th>SIM 2_3G</th>\n      <th>SIM 2_4G</th>\n      <th>SIM 2_Other</th>\n      <th>Height_bin</th>\n      <th>Capacity_bon</th>\n      <th>Pixel Density_bin</th>\n      <th>Weight_bin</th>\n      <th>Resolution_bin</th>\n      <th>Screen to Body Ratio (calculated)_bin</th>\n      <th>Screen Size_bin</th>\n      <th>RAM_bin</th>\n      <th>Processor_frequency_bin</th>\n    </tr>\n  </thead>\n  <tbody>\n    <tr>\n      <th>114</th>\n      <td>464</td>\n      <td>4000</td>\n      <td>1.8</td>\n      <td>152.0</td>\n      <td>167</td>\n      <td>73.18</td>\n      <td>401</td>\n      <td>32</td>\n      <td>4</td>\n      <td>5.5</td>\n      <td>8</td>\n      <td>0</td>\n      <td>0</td>\n      <td>1</td>\n      <td>0</td>\n      <td>0</td>\n      <td>0</td>\n      <td>0</td>\n      <td>0</td>\n      <td>0</td>\n      <td>1</td>\n      <td>0</td>\n      <td>0</td>\n      <td>0</td>\n      <td>0</td>\n      <td>0</td>\n      <td>0</td>\n      <td>0</td>\n      <td>0</td>\n      <td>0</td>\n      <td>0</td>\n      <td>0</td>\n      <td>0</td>\n      <td>0</td>\n      <td>0</td>\n      <td>0</td>\n      <td>0</td>\n      <td>0</td>\n      <td>0</td>\n      <td>0</td>\n      <td>...</td>\n      <td>0</td>\n      <td>0</td>\n      <td>0</td>\n      <td>0</td>\n      <td>0</td>\n      <td>0</td>\n      <td>0</td>\n      <td>0</td>\n      <td>0</td>\n      <td>0</td>\n      <td>0</td>\n      <td>0</td>\n      <td>1</td>\n      <td>0</td>\n      <td>0</td>\n      <td>0</td>\n      <td>1</td>\n      <td>0</td>\n      <td>0</td>\n      <td>0</td>\n      <td>0</td>\n      <td>0</td>\n      <td>0</td>\n      <td>0</td>\n      <td>1</td>\n      <td>0</td>\n      <td>0</td>\n      <td>0</td>\n      <td>0</td>\n      <td>1</td>\n      <td>0</td>\n      <td>1</td>\n      <td>1</td>\n      <td>1</td>\n      <td>1</td>\n      <td>0</td>\n      <td>1</td>\n      <td>1</td>\n      <td>0</td>\n      <td>1</td>\n    </tr>\n    <tr>\n      <th>115</th>\n      <td>467</td>\n      <td>3500</td>\n      <td>2.7</td>\n      <td>158.1</td>\n      <td>189</td>\n      <td>83.99</td>\n      <td>531</td>\n      <td>256</td>\n      <td>6</td>\n      <td>6.2</td>\n      <td>8</td>\n      <td>0</td>\n      <td>0</td>\n      <td>1</td>\n      <td>0</td>\n      <td>0</td>\n      <td>0</td>\n      <td>0</td>\n      <td>0</td>\n      <td>0</td>\n      <td>0</td>\n      <td>0</td>\n      <td>0</td>\n      <td>0</td>\n      <td>0</td>\n      <td>0</td>\n      <td>0</td>\n      <td>0</td>\n      <td>0</td>\n      <td>0</td>\n      <td>0</td>\n      <td>0</td>\n      <td>0</td>\n      <td>0</td>\n      <td>0</td>\n      <td>0</td>\n      <td>0</td>\n      <td>0</td>\n      <td>0</td>\n      <td>0</td>\n      <td>...</td>\n      <td>0</td>\n      <td>0</td>\n      <td>0</td>\n      <td>0</td>\n      <td>0</td>\n      <td>0</td>\n      <td>0</td>\n      <td>0</td>\n      <td>0</td>\n      <td>0</td>\n      <td>0</td>\n      <td>0</td>\n      <td>1</td>\n      <td>0</td>\n      <td>0</td>\n      <td>0</td>\n      <td>1</td>\n      <td>0</td>\n      <td>0</td>\n      <td>0</td>\n      <td>0</td>\n      <td>0</td>\n      <td>0</td>\n      <td>0</td>\n      <td>0</td>\n      <td>1</td>\n      <td>0</td>\n      <td>0</td>\n      <td>0</td>\n      <td>1</td>\n      <td>0</td>\n      <td>1</td>\n      <td>1</td>\n      <td>1</td>\n      <td>1</td>\n      <td>0</td>\n      <td>1</td>\n      <td>1</td>\n      <td>0</td>\n      <td>1</td>\n    </tr>\n    <tr>\n      <th>116</th>\n      <td>469</td>\n      <td>3000</td>\n      <td>1.2</td>\n      <td>151.8</td>\n      <td>171</td>\n      <td>70.72</td>\n      <td>267</td>\n      <td>8</td>\n      <td>3</td>\n      <td>5.5</td>\n      <td>5</td>\n      <td>0</td>\n      <td>0</td>\n      <td>1</td>\n      <td>0</td>\n      <td>0</td>\n      <td>0</td>\n      <td>0</td>\n      <td>0</td>\n      <td>0</td>\n      <td>0</td>\n      <td>0</td>\n      <td>0</td>\n      <td>0</td>\n      <td>0</td>\n      <td>0</td>\n      <td>0</td>\n      <td>0</td>\n      <td>0</td>\n      <td>0</td>\n      <td>0</td>\n      <td>0</td>\n      <td>0</td>\n      <td>0</td>\n      <td>0</td>\n      <td>0</td>\n      <td>0</td>\n      <td>0</td>\n      <td>0</td>\n      <td>0</td>\n      <td>...</td>\n      <td>0</td>\n      <td>0</td>\n      <td>0</td>\n      <td>0</td>\n      <td>0</td>\n      <td>0</td>\n      <td>0</td>\n      <td>0</td>\n      <td>0</td>\n      <td>0</td>\n      <td>0</td>\n      <td>0</td>\n      <td>0</td>\n      <td>0</td>\n      <td>1</td>\n      <td>0</td>\n      <td>1</td>\n      <td>0</td>\n      <td>0</td>\n      <td>0</td>\n      <td>0</td>\n      <td>0</td>\n      <td>0</td>\n      <td>0</td>\n      <td>1</td>\n      <td>0</td>\n      <td>0</td>\n      <td>0</td>\n      <td>0</td>\n      <td>1</td>\n      <td>0</td>\n      <td>1</td>\n      <td>0</td>\n      <td>0</td>\n      <td>1</td>\n      <td>0</td>\n      <td>0</td>\n      <td>1</td>\n      <td>0</td>\n      <td>0</td>\n    </tr>\n    <tr>\n      <th>117</th>\n      <td>471</td>\n      <td>2700</td>\n      <td>1.3</td>\n      <td>149.2</td>\n      <td>159</td>\n      <td>68.66</td>\n      <td>282</td>\n      <td>32</td>\n      <td>2</td>\n      <td>5.2</td>\n      <td>8</td>\n      <td>0</td>\n      <td>0</td>\n      <td>1</td>\n      <td>0</td>\n      <td>0</td>\n      <td>0</td>\n      <td>0</td>\n      <td>0</td>\n      <td>1</td>\n      <td>0</td>\n      <td>0</td>\n      <td>0</td>\n      <td>0</td>\n      <td>0</td>\n      <td>0</td>\n      <td>0</td>\n      <td>0</td>\n      <td>0</td>\n      <td>0</td>\n      <td>0</td>\n      <td>0</td>\n      <td>0</td>\n      <td>0</td>\n      <td>0</td>\n      <td>0</td>\n      <td>0</td>\n      <td>0</td>\n      <td>0</td>\n      <td>0</td>\n      <td>...</td>\n      <td>0</td>\n      <td>0</td>\n      <td>0</td>\n      <td>0</td>\n      <td>0</td>\n      <td>0</td>\n      <td>0</td>\n      <td>0</td>\n      <td>0</td>\n      <td>0</td>\n      <td>0</td>\n      <td>0</td>\n      <td>0</td>\n      <td>0</td>\n      <td>1</td>\n      <td>0</td>\n      <td>1</td>\n      <td>0</td>\n      <td>0</td>\n      <td>0</td>\n      <td>0</td>\n      <td>0</td>\n      <td>0</td>\n      <td>0</td>\n      <td>1</td>\n      <td>0</td>\n      <td>0</td>\n      <td>1</td>\n      <td>0</td>\n      <td>0</td>\n      <td>0</td>\n      <td>0</td>\n      <td>0</td>\n      <td>0</td>\n      <td>0</td>\n      <td>0</td>\n      <td>0</td>\n      <td>0</td>\n      <td>0</td>\n      <td>0</td>\n    </tr>\n    <tr>\n      <th>118</th>\n      <td>473</td>\n      <td>2840</td>\n      <td>2.2</td>\n      <td>150.9</td>\n      <td>168</td>\n      <td>68.55</td>\n      <td>565</td>\n      <td>32</td>\n      <td>3</td>\n      <td>5.2</td>\n      <td>4</td>\n      <td>0</td>\n      <td>0</td>\n      <td>1</td>\n      <td>0</td>\n      <td>0</td>\n      <td>0</td>\n      <td>0</td>\n      <td>0</td>\n      <td>0</td>\n      <td>0</td>\n      <td>0</td>\n      <td>0</td>\n      <td>0</td>\n      <td>1</td>\n      <td>0</td>\n      <td>0</td>\n      <td>0</td>\n      <td>0</td>\n      <td>0</td>\n      <td>0</td>\n      <td>0</td>\n      <td>0</td>\n      <td>0</td>\n      <td>0</td>\n      <td>0</td>\n      <td>0</td>\n      <td>0</td>\n      <td>0</td>\n      <td>0</td>\n      <td>...</td>\n      <td>0</td>\n      <td>0</td>\n      <td>0</td>\n      <td>0</td>\n      <td>0</td>\n      <td>0</td>\n      <td>0</td>\n      <td>0</td>\n      <td>0</td>\n      <td>0</td>\n      <td>0</td>\n      <td>0</td>\n      <td>1</td>\n      <td>0</td>\n      <td>0</td>\n      <td>0</td>\n      <td>1</td>\n      <td>0</td>\n      <td>0</td>\n      <td>0</td>\n      <td>0</td>\n      <td>0</td>\n      <td>0</td>\n      <td>0</td>\n      <td>0</td>\n      <td>0</td>\n      <td>1</td>\n      <td>0</td>\n      <td>0</td>\n      <td>0</td>\n      <td>1</td>\n      <td>1</td>\n      <td>0</td>\n      <td>1</td>\n      <td>1</td>\n      <td>0</td>\n      <td>0</td>\n      <td>0</td>\n      <td>0</td>\n      <td>1</td>\n    </tr>\n  </tbody>\n</table>\n</div>"
          },
          "metadata": {}
        }
      ]
    },
    {
      "metadata": {
        "trusted": true,
        "_uuid": "3ee0a8d836739e40995a9eeda4c9a2882f65b982",
        "id": "NgP60STK7QVX",
        "colab_type": "code",
        "colab": {}
      },
      "cell_type": "code",
      "source": "Y_test_pred = mp_neuron.predict(X_test_np)\n",
      "execution_count": 914,
      "outputs": []
    },
    {
      "metadata": {
        "trusted": true,
        "_uuid": "215d0367cb536f1f08c616ebef24e7dc917aec93",
        "id": "leo5KwNT7QVZ",
        "colab_type": "code",
        "colab": {
          "base_uri": "https://localhost:8080/",
          "height": 255
        },
        "outputId": "dffc493e-981b-4db9-e7d4-25a715784e7c"
      },
      "cell_type": "code",
      "source": "Y_test_pred",
      "execution_count": 915,
      "outputs": [
        {
          "output_type": "execute_result",
          "execution_count": 915,
          "data": {
            "text/plain": "array([ True,  True,  True,  True,  True,  True,  True,  True,  True,\n        True,  True,  True,  True,  True,  True,  True,  True,  True,\n        True,  True,  True,  True,  True,  True,  True,  True,  True,\n        True,  True,  True,  True,  True,  True,  True,  True,  True,\n       False,  True,  True,  True,  True,  True,  True,  True,  True,\n        True,  True,  True, False,  True,  True,  True,  True,  True,\n        True,  True, False,  True,  True,  True,  True,  True,  True,\n       False,  True,  True,  True,  True,  True,  True,  True,  True,\n        True,  True,  True, False,  True, False,  True,  True,  True,\n        True,  True,  True,  True,  True,  True,  True,  True, False,\n        True,  True,  True,  True,  True,  True,  True,  True,  True,\n        True, False,  True,  True,  True,  True,  True,  True,  True,\n        True,  True, False,  True, False, False,  True,  True,  True,\n       False,  True])"
          },
          "metadata": {}
        }
      ]
    },
    {
      "metadata": {
        "trusted": true,
        "_uuid": "368ad9bbb29f7cf4b3ec92b0a899bb9a8dadfa64"
      },
      "cell_type": "code",
      "source": "submission={}\nsubmission['PhoneId']=test_new['PhoneId']\n\nsubmission['Class']=Y_test_pred",
      "execution_count": 916,
      "outputs": []
    },
    {
      "metadata": {
        "trusted": true,
        "_uuid": "bba24b5e78e5cd5c09e43eecfb96a105cd4ff996"
      },
      "cell_type": "code",
      "source": "submission=pd.DataFrame(submission)\n",
      "execution_count": 917,
      "outputs": []
    },
    {
      "metadata": {
        "trusted": true,
        "_uuid": "e04aa76aaa09d5f5da524e54e665279df002573b"
      },
      "cell_type": "code",
      "source": "submission",
      "execution_count": 918,
      "outputs": [
        {
          "output_type": "execute_result",
          "execution_count": 918,
          "data": {
            "text/plain": "     PhoneId  Class\n0          3   True\n1         11   True\n2         13   True\n3         16   True\n4         19   True\n5         24   True\n6         25   True\n7         27   True\n8         29   True\n9         32   True\n10        35   True\n11        39   True\n12        40   True\n13        41   True\n14        43   True\n15        46   True\n16        71   True\n17        78   True\n18        82   True\n19        84   True\n20        88   True\n21        92   True\n22       102   True\n23       103   True\n24       112   True\n25       117   True\n26       119   True\n27       120   True\n28       121   True\n29       128   True\n..       ...    ...\n89       352  False\n90       353   True\n91       356   True\n92       358   True\n93       361   True\n94       368   True\n95       379   True\n96       380   True\n97       383   True\n98       388   True\n99       390   True\n100      391  False\n101      400   True\n102      404   True\n103      406   True\n104      414   True\n105      418   True\n106      428   True\n107      430   True\n108      432   True\n109      440   True\n110      448  False\n111      455   True\n112      459  False\n113      463  False\n114      464   True\n115      467   True\n116      469   True\n117      471  False\n118      473   True\n\n[119 rows x 2 columns]",
            "text/html": "<div>\n<style scoped>\n    .dataframe tbody tr th:only-of-type {\n        vertical-align: middle;\n    }\n\n    .dataframe tbody tr th {\n        vertical-align: top;\n    }\n\n    .dataframe thead th {\n        text-align: right;\n    }\n</style>\n<table border=\"1\" class=\"dataframe\">\n  <thead>\n    <tr style=\"text-align: right;\">\n      <th></th>\n      <th>PhoneId</th>\n      <th>Class</th>\n    </tr>\n  </thead>\n  <tbody>\n    <tr>\n      <th>0</th>\n      <td>3</td>\n      <td>True</td>\n    </tr>\n    <tr>\n      <th>1</th>\n      <td>11</td>\n      <td>True</td>\n    </tr>\n    <tr>\n      <th>2</th>\n      <td>13</td>\n      <td>True</td>\n    </tr>\n    <tr>\n      <th>3</th>\n      <td>16</td>\n      <td>True</td>\n    </tr>\n    <tr>\n      <th>4</th>\n      <td>19</td>\n      <td>True</td>\n    </tr>\n    <tr>\n      <th>5</th>\n      <td>24</td>\n      <td>True</td>\n    </tr>\n    <tr>\n      <th>6</th>\n      <td>25</td>\n      <td>True</td>\n    </tr>\n    <tr>\n      <th>7</th>\n      <td>27</td>\n      <td>True</td>\n    </tr>\n    <tr>\n      <th>8</th>\n      <td>29</td>\n      <td>True</td>\n    </tr>\n    <tr>\n      <th>9</th>\n      <td>32</td>\n      <td>True</td>\n    </tr>\n    <tr>\n      <th>10</th>\n      <td>35</td>\n      <td>True</td>\n    </tr>\n    <tr>\n      <th>11</th>\n      <td>39</td>\n      <td>True</td>\n    </tr>\n    <tr>\n      <th>12</th>\n      <td>40</td>\n      <td>True</td>\n    </tr>\n    <tr>\n      <th>13</th>\n      <td>41</td>\n      <td>True</td>\n    </tr>\n    <tr>\n      <th>14</th>\n      <td>43</td>\n      <td>True</td>\n    </tr>\n    <tr>\n      <th>15</th>\n      <td>46</td>\n      <td>True</td>\n    </tr>\n    <tr>\n      <th>16</th>\n      <td>71</td>\n      <td>True</td>\n    </tr>\n    <tr>\n      <th>17</th>\n      <td>78</td>\n      <td>True</td>\n    </tr>\n    <tr>\n      <th>18</th>\n      <td>82</td>\n      <td>True</td>\n    </tr>\n    <tr>\n      <th>19</th>\n      <td>84</td>\n      <td>True</td>\n    </tr>\n    <tr>\n      <th>20</th>\n      <td>88</td>\n      <td>True</td>\n    </tr>\n    <tr>\n      <th>21</th>\n      <td>92</td>\n      <td>True</td>\n    </tr>\n    <tr>\n      <th>22</th>\n      <td>102</td>\n      <td>True</td>\n    </tr>\n    <tr>\n      <th>23</th>\n      <td>103</td>\n      <td>True</td>\n    </tr>\n    <tr>\n      <th>24</th>\n      <td>112</td>\n      <td>True</td>\n    </tr>\n    <tr>\n      <th>25</th>\n      <td>117</td>\n      <td>True</td>\n    </tr>\n    <tr>\n      <th>26</th>\n      <td>119</td>\n      <td>True</td>\n    </tr>\n    <tr>\n      <th>27</th>\n      <td>120</td>\n      <td>True</td>\n    </tr>\n    <tr>\n      <th>28</th>\n      <td>121</td>\n      <td>True</td>\n    </tr>\n    <tr>\n      <th>29</th>\n      <td>128</td>\n      <td>True</td>\n    </tr>\n    <tr>\n      <th>...</th>\n      <td>...</td>\n      <td>...</td>\n    </tr>\n    <tr>\n      <th>89</th>\n      <td>352</td>\n      <td>False</td>\n    </tr>\n    <tr>\n      <th>90</th>\n      <td>353</td>\n      <td>True</td>\n    </tr>\n    <tr>\n      <th>91</th>\n      <td>356</td>\n      <td>True</td>\n    </tr>\n    <tr>\n      <th>92</th>\n      <td>358</td>\n      <td>True</td>\n    </tr>\n    <tr>\n      <th>93</th>\n      <td>361</td>\n      <td>True</td>\n    </tr>\n    <tr>\n      <th>94</th>\n      <td>368</td>\n      <td>True</td>\n    </tr>\n    <tr>\n      <th>95</th>\n      <td>379</td>\n      <td>True</td>\n    </tr>\n    <tr>\n      <th>96</th>\n      <td>380</td>\n      <td>True</td>\n    </tr>\n    <tr>\n      <th>97</th>\n      <td>383</td>\n      <td>True</td>\n    </tr>\n    <tr>\n      <th>98</th>\n      <td>388</td>\n      <td>True</td>\n    </tr>\n    <tr>\n      <th>99</th>\n      <td>390</td>\n      <td>True</td>\n    </tr>\n    <tr>\n      <th>100</th>\n      <td>391</td>\n      <td>False</td>\n    </tr>\n    <tr>\n      <th>101</th>\n      <td>400</td>\n      <td>True</td>\n    </tr>\n    <tr>\n      <th>102</th>\n      <td>404</td>\n      <td>True</td>\n    </tr>\n    <tr>\n      <th>103</th>\n      <td>406</td>\n      <td>True</td>\n    </tr>\n    <tr>\n      <th>104</th>\n      <td>414</td>\n      <td>True</td>\n    </tr>\n    <tr>\n      <th>105</th>\n      <td>418</td>\n      <td>True</td>\n    </tr>\n    <tr>\n      <th>106</th>\n      <td>428</td>\n      <td>True</td>\n    </tr>\n    <tr>\n      <th>107</th>\n      <td>430</td>\n      <td>True</td>\n    </tr>\n    <tr>\n      <th>108</th>\n      <td>432</td>\n      <td>True</td>\n    </tr>\n    <tr>\n      <th>109</th>\n      <td>440</td>\n      <td>True</td>\n    </tr>\n    <tr>\n      <th>110</th>\n      <td>448</td>\n      <td>False</td>\n    </tr>\n    <tr>\n      <th>111</th>\n      <td>455</td>\n      <td>True</td>\n    </tr>\n    <tr>\n      <th>112</th>\n      <td>459</td>\n      <td>False</td>\n    </tr>\n    <tr>\n      <th>113</th>\n      <td>463</td>\n      <td>False</td>\n    </tr>\n    <tr>\n      <th>114</th>\n      <td>464</td>\n      <td>True</td>\n    </tr>\n    <tr>\n      <th>115</th>\n      <td>467</td>\n      <td>True</td>\n    </tr>\n    <tr>\n      <th>116</th>\n      <td>469</td>\n      <td>True</td>\n    </tr>\n    <tr>\n      <th>117</th>\n      <td>471</td>\n      <td>False</td>\n    </tr>\n    <tr>\n      <th>118</th>\n      <td>473</td>\n      <td>True</td>\n    </tr>\n  </tbody>\n</table>\n<p>119 rows × 2 columns</p>\n</div>"
          },
          "metadata": {}
        }
      ]
    },
    {
      "metadata": {
        "trusted": true,
        "_uuid": "4a5b24947c4e561064bc13d943565b330cd4e768"
      },
      "cell_type": "code",
      "source": "submission.loc[submission.Class == True, 'Class'] = 1\nsubmission.loc[submission.Class == False, 'Class'] = 0",
      "execution_count": 919,
      "outputs": []
    },
    {
      "metadata": {
        "trusted": true,
        "_uuid": "a08be767763dd415174b8c6deb10465aab235ca2"
      },
      "cell_type": "code",
      "source": "submission",
      "execution_count": 920,
      "outputs": [
        {
          "output_type": "execute_result",
          "execution_count": 920,
          "data": {
            "text/plain": "     PhoneId  Class\n0          3      1\n1         11      1\n2         13      1\n3         16      1\n4         19      1\n5         24      1\n6         25      1\n7         27      1\n8         29      1\n9         32      1\n10        35      1\n11        39      1\n12        40      1\n13        41      1\n14        43      1\n15        46      1\n16        71      1\n17        78      1\n18        82      1\n19        84      1\n20        88      1\n21        92      1\n22       102      1\n23       103      1\n24       112      1\n25       117      1\n26       119      1\n27       120      1\n28       121      1\n29       128      1\n..       ...    ...\n89       352      0\n90       353      1\n91       356      1\n92       358      1\n93       361      1\n94       368      1\n95       379      1\n96       380      1\n97       383      1\n98       388      1\n99       390      1\n100      391      0\n101      400      1\n102      404      1\n103      406      1\n104      414      1\n105      418      1\n106      428      1\n107      430      1\n108      432      1\n109      440      1\n110      448      0\n111      455      1\n112      459      0\n113      463      0\n114      464      1\n115      467      1\n116      469      1\n117      471      0\n118      473      1\n\n[119 rows x 2 columns]",
            "text/html": "<div>\n<style scoped>\n    .dataframe tbody tr th:only-of-type {\n        vertical-align: middle;\n    }\n\n    .dataframe tbody tr th {\n        vertical-align: top;\n    }\n\n    .dataframe thead th {\n        text-align: right;\n    }\n</style>\n<table border=\"1\" class=\"dataframe\">\n  <thead>\n    <tr style=\"text-align: right;\">\n      <th></th>\n      <th>PhoneId</th>\n      <th>Class</th>\n    </tr>\n  </thead>\n  <tbody>\n    <tr>\n      <th>0</th>\n      <td>3</td>\n      <td>1</td>\n    </tr>\n    <tr>\n      <th>1</th>\n      <td>11</td>\n      <td>1</td>\n    </tr>\n    <tr>\n      <th>2</th>\n      <td>13</td>\n      <td>1</td>\n    </tr>\n    <tr>\n      <th>3</th>\n      <td>16</td>\n      <td>1</td>\n    </tr>\n    <tr>\n      <th>4</th>\n      <td>19</td>\n      <td>1</td>\n    </tr>\n    <tr>\n      <th>5</th>\n      <td>24</td>\n      <td>1</td>\n    </tr>\n    <tr>\n      <th>6</th>\n      <td>25</td>\n      <td>1</td>\n    </tr>\n    <tr>\n      <th>7</th>\n      <td>27</td>\n      <td>1</td>\n    </tr>\n    <tr>\n      <th>8</th>\n      <td>29</td>\n      <td>1</td>\n    </tr>\n    <tr>\n      <th>9</th>\n      <td>32</td>\n      <td>1</td>\n    </tr>\n    <tr>\n      <th>10</th>\n      <td>35</td>\n      <td>1</td>\n    </tr>\n    <tr>\n      <th>11</th>\n      <td>39</td>\n      <td>1</td>\n    </tr>\n    <tr>\n      <th>12</th>\n      <td>40</td>\n      <td>1</td>\n    </tr>\n    <tr>\n      <th>13</th>\n      <td>41</td>\n      <td>1</td>\n    </tr>\n    <tr>\n      <th>14</th>\n      <td>43</td>\n      <td>1</td>\n    </tr>\n    <tr>\n      <th>15</th>\n      <td>46</td>\n      <td>1</td>\n    </tr>\n    <tr>\n      <th>16</th>\n      <td>71</td>\n      <td>1</td>\n    </tr>\n    <tr>\n      <th>17</th>\n      <td>78</td>\n      <td>1</td>\n    </tr>\n    <tr>\n      <th>18</th>\n      <td>82</td>\n      <td>1</td>\n    </tr>\n    <tr>\n      <th>19</th>\n      <td>84</td>\n      <td>1</td>\n    </tr>\n    <tr>\n      <th>20</th>\n      <td>88</td>\n      <td>1</td>\n    </tr>\n    <tr>\n      <th>21</th>\n      <td>92</td>\n      <td>1</td>\n    </tr>\n    <tr>\n      <th>22</th>\n      <td>102</td>\n      <td>1</td>\n    </tr>\n    <tr>\n      <th>23</th>\n      <td>103</td>\n      <td>1</td>\n    </tr>\n    <tr>\n      <th>24</th>\n      <td>112</td>\n      <td>1</td>\n    </tr>\n    <tr>\n      <th>25</th>\n      <td>117</td>\n      <td>1</td>\n    </tr>\n    <tr>\n      <th>26</th>\n      <td>119</td>\n      <td>1</td>\n    </tr>\n    <tr>\n      <th>27</th>\n      <td>120</td>\n      <td>1</td>\n    </tr>\n    <tr>\n      <th>28</th>\n      <td>121</td>\n      <td>1</td>\n    </tr>\n    <tr>\n      <th>29</th>\n      <td>128</td>\n      <td>1</td>\n    </tr>\n    <tr>\n      <th>...</th>\n      <td>...</td>\n      <td>...</td>\n    </tr>\n    <tr>\n      <th>89</th>\n      <td>352</td>\n      <td>0</td>\n    </tr>\n    <tr>\n      <th>90</th>\n      <td>353</td>\n      <td>1</td>\n    </tr>\n    <tr>\n      <th>91</th>\n      <td>356</td>\n      <td>1</td>\n    </tr>\n    <tr>\n      <th>92</th>\n      <td>358</td>\n      <td>1</td>\n    </tr>\n    <tr>\n      <th>93</th>\n      <td>361</td>\n      <td>1</td>\n    </tr>\n    <tr>\n      <th>94</th>\n      <td>368</td>\n      <td>1</td>\n    </tr>\n    <tr>\n      <th>95</th>\n      <td>379</td>\n      <td>1</td>\n    </tr>\n    <tr>\n      <th>96</th>\n      <td>380</td>\n      <td>1</td>\n    </tr>\n    <tr>\n      <th>97</th>\n      <td>383</td>\n      <td>1</td>\n    </tr>\n    <tr>\n      <th>98</th>\n      <td>388</td>\n      <td>1</td>\n    </tr>\n    <tr>\n      <th>99</th>\n      <td>390</td>\n      <td>1</td>\n    </tr>\n    <tr>\n      <th>100</th>\n      <td>391</td>\n      <td>0</td>\n    </tr>\n    <tr>\n      <th>101</th>\n      <td>400</td>\n      <td>1</td>\n    </tr>\n    <tr>\n      <th>102</th>\n      <td>404</td>\n      <td>1</td>\n    </tr>\n    <tr>\n      <th>103</th>\n      <td>406</td>\n      <td>1</td>\n    </tr>\n    <tr>\n      <th>104</th>\n      <td>414</td>\n      <td>1</td>\n    </tr>\n    <tr>\n      <th>105</th>\n      <td>418</td>\n      <td>1</td>\n    </tr>\n    <tr>\n      <th>106</th>\n      <td>428</td>\n      <td>1</td>\n    </tr>\n    <tr>\n      <th>107</th>\n      <td>430</td>\n      <td>1</td>\n    </tr>\n    <tr>\n      <th>108</th>\n      <td>432</td>\n      <td>1</td>\n    </tr>\n    <tr>\n      <th>109</th>\n      <td>440</td>\n      <td>1</td>\n    </tr>\n    <tr>\n      <th>110</th>\n      <td>448</td>\n      <td>0</td>\n    </tr>\n    <tr>\n      <th>111</th>\n      <td>455</td>\n      <td>1</td>\n    </tr>\n    <tr>\n      <th>112</th>\n      <td>459</td>\n      <td>0</td>\n    </tr>\n    <tr>\n      <th>113</th>\n      <td>463</td>\n      <td>0</td>\n    </tr>\n    <tr>\n      <th>114</th>\n      <td>464</td>\n      <td>1</td>\n    </tr>\n    <tr>\n      <th>115</th>\n      <td>467</td>\n      <td>1</td>\n    </tr>\n    <tr>\n      <th>116</th>\n      <td>469</td>\n      <td>1</td>\n    </tr>\n    <tr>\n      <th>117</th>\n      <td>471</td>\n      <td>0</td>\n    </tr>\n    <tr>\n      <th>118</th>\n      <td>473</td>\n      <td>1</td>\n    </tr>\n  </tbody>\n</table>\n<p>119 rows × 2 columns</p>\n</div>"
          },
          "metadata": {}
        }
      ]
    },
    {
      "metadata": {
        "trusted": true,
        "_uuid": "bdf82afdc6b2d7a5ecc55e1aa9abd6900c25828f"
      },
      "cell_type": "code",
      "source": "submission.to_csv('submission.csv',index=False)",
      "execution_count": 921,
      "outputs": []
    },
    {
      "metadata": {
        "trusted": true,
        "_uuid": "bdbba07f956ab3852e43e8b36b9bcb2c52a0b803",
        "id": "8RiC9PJF7QVr",
        "colab_type": "code",
        "colab": {}
      },
      "cell_type": "code",
      "source": "",
      "execution_count": null,
      "outputs": []
    },
    {
      "metadata": {
        "trusted": true,
        "_uuid": "bc08c8950d18d1d9ceb5c599f18425cfd92b3ed0"
      },
      "cell_type": "code",
      "source": "",
      "execution_count": null,
      "outputs": []
    },
    {
      "metadata": {
        "trusted": true,
        "_uuid": "e6f0f9b79959515b246b7b4e528e417d2acf7a45"
      },
      "cell_type": "code",
      "source": "",
      "execution_count": null,
      "outputs": []
    }
  ],
  "metadata": {
    "colab": {
      "name": "kaggle_contest.ipynb",
      "version": "0.3.2",
      "provenance": [],
      "toc_visible": true
    },
    "kernelspec": {
      "display_name": "Python 3",
      "language": "python",
      "name": "python3"
    },
    "language_info": {
      "name": "python",
      "version": "3.6.6",
      "mimetype": "text/x-python",
      "codemirror_mode": {
        "name": "ipython",
        "version": 3
      },
      "pygments_lexer": "ipython3",
      "nbconvert_exporter": "python",
      "file_extension": ".py"
    }
  },
  "nbformat": 4,
  "nbformat_minor": 1
}